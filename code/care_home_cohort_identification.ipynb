{
 "cells": [
  {
   "cell_type": "markdown",
   "id": "7a9ad9da-9caf-4106-8eee-c1cf90722f07",
   "metadata": {},
   "source": [
    "## Care home identification notebook\n"
   ]
  },
  {
   "cell_type": "markdown",
   "id": "bf03499f-4eed-4ad7-b7e2-e432f4ea5348",
   "metadata": {},
   "source": [
    "this notebook is the latest version as of 17/08/2024 for identifying care home residents in connected bradford after some issues wih previous scripts were identified. it is the number that will be used in the final analysis, having it in a jupytner notebook format also enabls it to be easily upliaded to github to be made freely available."
   ]
  },
  {
   "cell_type": "code",
   "execution_count": null,
   "id": "8abf86ed-4de5-4f0c-9423-57870e417b9d",
   "metadata": {
    "tags": []
   },
   "outputs": [],
   "source": [
    "library(bigrquery)\n",
    "library(tidyverse) "
   ]
  },
  {
   "cell_type": "code",
   "execution_count": null,
   "id": "e6cf67a9-24f6-4de1-96be-6c6062ab6b52",
   "metadata": {
    "tags": []
   },
   "outputs": [],
   "source": [
    "ProjectId = \"yhcr-prd-bradfor-bia-core\"\n",
    "\n",
    "targetdb1 <- \"yhcr-prd-bradfor-bia-core.CB_2172\"\n",
    "targetdb1 <- gsub(\" \",\"\",targetdb1)\n",
    "\n",
    "targetdb2 <- 'yhcr-prd-bradfor-bia-core.CB_FDM_DeathCertificates'\n",
    "targetdb2 <- gsub(\" \",\"\",targetdb2)\n",
    "\n",
    "targetdb3 <- \"yhcr-prd-bradfor-bia-core.CB_FDM_AdultSocialCare\"\n",
    "targetdb3 <- gsub(\" \",\"\",targetdb3)\n",
    "\n"
   ]
  },
  {
   "cell_type": "code",
   "execution_count": null,
   "id": "9147e329-e02c-40b4-8c05-1fba1a876c32",
   "metadata": {},
   "outputs": [],
   "source": [
    "#first query selects all individuals admitted to a care home at any point no age or date restrictions"
   ]
  },
  {
   "cell_type": "code",
   "execution_count": null,
   "id": "4e09ad2d-94cf-4203-a34a-ed14aa5f707d",
   "metadata": {},
   "outputs": [],
   "source": [
    "sql1 <- \n",
    "paste(\n",
    "    #updated care home cohort code, uses analytic functions so is tidier, this is the currnet query used to define the cohort,\n",
    "    'with a  as (\n",
    "SELECT person_id, \n",
    "tbl_adultsocialcare_services_start_date, \n",
    "servicetype, \n",
    "FinalisedPSR, \n",
    "row_number() over (partition by person_id order by tbl_adultsocialcare_services_start_date) as care_seq \n",
    "from ',targetdb3,'.tbl_adultsocialcare_services \n",
    "where ServiceType in(\"Nursing\",\"Residential\") \n",
    "),\n",
    "b as (\n",
    "select \n",
    "* \n",
    "from a\n",
    "where care_seq = 1\n",
    "order by person_id, tbl_adultsocialcare_services_start_date),\n",
    "\n",
    "c as \n",
    "(SELECT person_id,\n",
    "tbl_adultsocialcare_services_end_date, \n",
    "servicetype, \n",
    "row_number() over (partition by person_id order by tbl_adultsocialcare_services_end_date desc) as care_end_seq \n",
    "from ',targetdb3,'.tbl_adultsocialcare_services \n",
    "where ServiceType in(\"Nursing\",\"Residential\") )\n",
    ",\n",
    "\n",
    "d as (select\n",
    "* from c \n",
    "where care_end_seq = 1),\n",
    "\n",
    "e as (\n",
    "select \n",
    "b.person_id,\n",
    "b.tbl_adultsocialcare_services_start_date as first_episodestartdate,\n",
    "d.tbl_adultsocialcare_services_end_date as last_episodestopdate,\n",
    "b.ServiceType as admission_service,\n",
    "b.finalisedPSR\n",
    "from b \n",
    "LEFT join d on\n",
    "b.person_id= d.person_id\n",
    "order by person_id),\n",
    "\n",
    "f as (\n",
    "Select \n",
    "e.*,\n",
    "datetime_diff(e.last_episodestopdate,e.first_episodestartdate,day) as admission_length\n",
    "from e\n",
    "),\n",
    "\n",
    "h as (\n",
    "SELECT\n",
    "f.*,\n",
    "g.birth_datetime,\n",
    "FORMAT_DATETIME(\"%d-%b-%y\",first_episodestartdate) as date_of_admission,\n",
    "g.death_datetime,\n",
    "g.ethnicity_source_value,\n",
    "g.gender_source_value\n",
    "FROM f \n",
    "LEFT JOIN ',targetdb3,'.person g on\n",
    "f.person_id = g.person_id),\n",
    "\n",
    "g as (\n",
    "select\n",
    "DATE_DIFF(first_episodestartdate, birth_datetime, YEAR) as age_admission,\n",
    "h.*,\n",
    "from h\n",
    "where first_episodestartdate < \"2019-12-31T00:00:00\"\n",
    "order by age_admission desc)\n",
    "\n",
    "select\n",
    "* from g\n",
    "\n",
    ";',sep=\"\")\n",
    "\n",
    "sql_tbl <-bq_project_query(ProjectId,sql1)\n",
    "sql_data <- bq_table_download(sql_tbl)\n"
   ]
  },
  {
   "cell_type": "code",
   "execution_count": null,
   "id": "957797e8-cc03-444e-91f4-1765e0665be5",
   "metadata": {},
   "outputs": [],
   "source": [
    "#convert vectors to date"
   ]
  },
  {
   "cell_type": "code",
   "execution_count": null,
   "id": "2948e6df-2602-4f86-9e85-46952dac05ba",
   "metadata": {},
   "outputs": [],
   "source": [
    "sql_data$death_date <- as_date(sql_data$death_datetime)\n",
    "sql_data <- sql_data %>% select(-death_datetime)"
   ]
  },
  {
   "cell_type": "code",
   "execution_count": null,
   "id": "1de81d23-ffce-42e9-928b-f16d33534a34",
   "metadata": {
    "tags": []
   },
   "outputs": [],
   "source": [
    "sql_data$episodestartdate <- as_date(sql_data$first_episodestartdate)\n"
   ]
  },
  {
   "cell_type": "code",
   "execution_count": null,
   "id": "db426e6d-da9e-441b-8d0f-b3a3fdc0e81b",
   "metadata": {
    "tags": []
   },
   "outputs": [],
   "source": [
    "sql_data$episodestopdate <- as_date(sql_data$last_episodestopdate)\n"
   ]
  },
  {
   "cell_type": "code",
   "execution_count": null,
   "id": "bfff7dcc-f93f-4b54-93f6-35d216f566a9",
   "metadata": {},
   "outputs": [],
   "source": [
    "sql_data$birth_date <- as_date(sql_data$birth_datetime)\n",
    "sql_data <- sql_data %>% select(-birth_datetime)"
   ]
  },
  {
   "cell_type": "code",
   "execution_count": null,
   "id": "53ae09f3-23a3-4d0f-bc75-284c792bafb5",
   "metadata": {},
   "outputs": [],
   "source": [
    "#remove those inidividuals admitted on dates that were identified as being erroneous (i.e. these individuals were actually admitted into a care home prior to 2016, but had no start date so the date was put as the date of upload, creating some skew) this has been confirmed with the individual who built the social care FDM in Connected bradford"
   ]
  },
  {
   "cell_type": "code",
   "execution_count": null,
   "id": "0c38154b-d3ce-444a-8b1a-6d7a7bad8d62",
   "metadata": {
    "tags": []
   },
   "outputs": [],
   "source": [
    "sql_data <- sql_data %>% filter(!(episodestartdate == \"2016-04-04\"))%>% filter(!(episodestartdate == \"2016-07-25\"))%>% filter(!(episodestartdate == \"2016-08-22\"))"
   ]
  },
  {
   "cell_type": "code",
   "execution_count": null,
   "id": "e3354c8c-061f-4cc8-9fbc-fee57b33f51e",
   "metadata": {
    "tags": []
   },
   "outputs": [],
   "source": [
    "sql_data %>% n_distinct('person_id')"
   ]
  },
  {
   "cell_type": "code",
   "execution_count": null,
   "id": "ffbe9497-c169-48e9-a6f1-73950d898b72",
   "metadata": {},
   "outputs": [],
   "source": [
    "#how many aged less than 65 "
   ]
  },
  {
   "cell_type": "code",
   "execution_count": null,
   "id": "b78b21c5-62df-4f47-9c21-49fc8d6ce15b",
   "metadata": {
    "tags": []
   },
   "outputs": [],
   "source": [
    "sql_data_below_65 <- sql_data %>% filter(age_admission < 65)\n",
    "n_distinct(sql_data_below_65$person_id)"
   ]
  },
  {
   "cell_type": "code",
   "execution_count": null,
   "id": "df40fb54-dcea-406e-bea2-1703c18c36e6",
   "metadata": {
    "tags": []
   },
   "outputs": [],
   "source": [
    "sql_data_above_sixtyfive <- sql_data %>% filter(age_admission >= 65) \n",
    "sql_data_above_sixtyfive %>% n_distinct()\n"
   ]
  },
  {
   "cell_type": "code",
   "execution_count": null,
   "id": "3c8228b7-f703-42c7-9f75-b1f5ea3704f9",
   "metadata": {},
   "outputs": [],
   "source": [
    "#here we bring in the mortality data to reduce number of missig death dates "
   ]
  },
  {
   "cell_type": "code",
   "execution_count": null,
   "id": "ed6680f6-3f15-4358-ae9b-ec7aa1b5298a",
   "metadata": {
    "tags": []
   },
   "outputs": [],
   "source": [
    "sql_death <- paste('\n",
    "with a as (SELECT person_id,\n",
    "dod,\n",
    "tbl_NEC_Deaths,\n",
    "reg_date,\n",
    "rank() over(partition by person_id order by dod desc, reg_date desc) as rank_seq\n",
    "from ',targetdb2,'.tbl_NEC_Deaths\n",
    "where person_id in (SELECT person_id from ',targetdb3,'.person where death_datetime is null)),\n",
    "\n",
    "b as (\n",
    "select\n",
    "*,\n",
    "row_number() over(partition by person_id order by person_id) as rank_seq_2\n",
    "from a \n",
    "where rank_seq = 1)\n",
    "\n",
    "select \n",
    "person_id, dod,reg_date from b \n",
    "where rank_seq_2 = 1 \n",
    "order by person_id \n",
    ";',sep=\"\")\n",
    "\n",
    "tbl_death <-bq_project_query(ProjectId,sql_death)\n",
    "ch_death<- bq_table_download(tbl_death)\n",
    "\n",
    "print(ch_death)"
   ]
  },
  {
   "cell_type": "code",
   "execution_count": null,
   "id": "0224e409-d621-4c06-bed4-d304f4052176",
   "metadata": {
    "tags": []
   },
   "outputs": [],
   "source": [
    "ch_death <- ch_death %>% mutate(date_death = ifelse(is.na(dod), reg_date,dod))"
   ]
  },
  {
   "cell_type": "code",
   "execution_count": null,
   "id": "38f3123b-4c05-4f96-926e-1b8d9c98fba9",
   "metadata": {
    "tags": []
   },
   "outputs": [],
   "source": [
    "ch_death$date_death <- as_date(ch_death$date_death)"
   ]
  },
  {
   "cell_type": "code",
   "execution_count": null,
   "id": "5cb95e7d-b517-4033-b73f-61439b215d72",
   "metadata": {},
   "outputs": [],
   "source": [
    "## join death certificate tibble to the deathdate in the master cohort table "
   ]
  },
  {
   "cell_type": "code",
   "execution_count": null,
   "id": "305458e6-e456-4d30-a563-c50e4e1e0a5a",
   "metadata": {
    "tags": []
   },
   "outputs": [],
   "source": [
    "ch_death_filter <- ch_death %>% select(person_id,date_death)\n",
    "sql_data_above_sixtyfive <- left_join(sql_data_above_sixtyfive,ch_death_filter,by='person_id')"
   ]
  },
  {
   "cell_type": "code",
   "execution_count": null,
   "id": "6ac20ec9-f24b-4e31-a4f4-1833b51f70a2",
   "metadata": {
    "tags": []
   },
   "outputs": [],
   "source": [
    "sql_data_above_sixtyfive <- sql_data_above_sixtyfive %>% mutate(dod = coalesce(sql_data_above_sixtyfive$death_date,sql_data_above_sixtyfive$date_death))%>% select(-death_date,-date_death)\n"
   ]
  },
  {
   "cell_type": "code",
   "execution_count": null,
   "id": "58e13825-7b17-4455-acd4-91a0e610f47e",
   "metadata": {
    "tags": []
   },
   "outputs": [],
   "source": [
    "sql_data_above_sixtyfive <- sql_data_above_sixtyfive %>% mutate(mortality = dod-episodestartdate)"
   ]
  },
  {
   "cell_type": "code",
   "execution_count": null,
   "id": "f45b1701-2777-49bf-9bc6-25861e3fd331",
   "metadata": {
    "tags": []
   },
   "outputs": [],
   "source": [
    "alive_morethan_6weeks <- sql_data_above_sixtyfive %>% filter((mortality > 42) |is.na(dod))"
   ]
  },
  {
   "cell_type": "code",
   "execution_count": null,
   "id": "8a6a2b9f-c271-4631-9836-4e369be7b1ab",
   "metadata": {
    "tags": []
   },
   "outputs": [],
   "source": [
    "alive_morethan_6weeks %>% n_distinct()"
   ]
  },
  {
   "cell_type": "code",
   "execution_count": null,
   "id": "200716ba-fb94-462f-8262-c3c1157dca18",
   "metadata": {
    "tags": []
   },
   "outputs": [],
   "source": [
    "##next we remove anyone who was discharged within 42 days or died within 42 days\n",
    "#first we calculate the number and then remove anyone who died within 42 days \n",
    "long_stay_resident <- alive_morethan_6weeks %>% filter(episodestopdate > (episodestartdate + ddays(x=42)))\n"
   ]
  },
  {
   "cell_type": "code",
   "execution_count": null,
   "id": "a68abf83-4ccf-468f-902d-037fbaf54abb",
   "metadata": {},
   "outputs": [],
   "source": [
    "#second, of  those remaining, we calculate and remove those who had a recorded legnth of stay of 42 days or less. \n",
    "#the two figures combined (number died withi 42 days and number discharged alive) gives the total number filtered at this stage. "
   ]
  },
  {
   "cell_type": "code",
   "execution_count": null,
   "id": "3a2d5e38-a722-44b8-87a9-d40e78bfa14f",
   "metadata": {
    "tags": []
   },
   "outputs": [],
   "source": [
    "long_stay_resident %>% n_distinct()"
   ]
  },
  {
   "cell_type": "code",
   "execution_count": null,
   "id": "041eaf1b-da3b-4ecf-8ea3-402065f7ec94",
   "metadata": {},
   "outputs": [],
   "source": [
    "#we iidentified anyone with missing primary care data and removed them, this is most likely because whilst they are recieving social care funding from the bradford local authorty they are not registered to a GP contributing to Connected Bradford. "
   ]
  },
  {
   "cell_type": "code",
   "execution_count": null,
   "id": "6c94c9c3-bee1-44d1-a5b9-323db7d704c8",
   "metadata": {
    "tags": []
   },
   "outputs": [],
   "source": [
    "sql_missing <- paste('\n",
    "select\n",
    "distinct b.person_id as primary_care_person\n",
    "from `yhcr-prd-bradfor-bia-core.CB_FDM_AdultSocialCare.person` b\n",
    "left join (select person_id,\n",
    "  from `yhcr-prd-bradfor-bia-core.CB_FDM_PrimaryCare.tbl_srcode`\n",
    "  where person_id in(select person_id from `yhcr-prd-bradfor-bia-core.CB_FDM_AdultSocialCare.person`)) a\n",
    "  on b.person_id = a.person_id\n",
    "  where a.person_id is null\n",
    "\n",
    "                     ;',sep=\"\")\n",
    "\n",
    "tbl_missing <-bq_project_query(ProjectId,sql_missing)\n",
    "tbl_missing <- bq_table_download(tbl_missing)\n"
   ]
  },
  {
   "cell_type": "code",
   "execution_count": null,
   "id": "950080e2-20c3-4328-bd7b-f5645ae23a3e",
   "metadata": {
    "tags": []
   },
   "outputs": [],
   "source": [
    "care_home_cohort_final <- long_stay_resident %>% filter(!(long_stay_resident$person_id %in% tbl_missing$primary_care_person)) \n",
    "care_home_cohort_final %>%  n_distinct()\n",
    "care_home_ghosts <- care_home_cohort_final %>% filter( is.na(dod))"
   ]
  },
  {
   "cell_type": "code",
   "execution_count": null,
   "id": "00393e95-a062-4ca3-a232-614cb5939c2c",
   "metadata": {
    "tags": []
   },
   "outputs": [],
   "source": [
    "care_home_ghosts %>% n_distinct()"
   ]
  },
  {
   "cell_type": "code",
   "execution_count": null,
   "id": "94a22865-d9c3-4c82-bf42-60cc1a8b18ed",
   "metadata": {
    "tags": []
   },
   "outputs": [],
   "source": [
    "care_home_cohort_final %>% str()"
   ]
  },
  {
   "cell_type": "code",
   "execution_count": null,
   "id": "63eb8014-55a6-4f2a-99d0-fbed89251868",
   "metadata": {},
   "outputs": [],
   "source": [
    "#send the final care home cohort back to bigquery as a table so it can be ran through the other queries\n",
    "as_bq_fields(care_home_cohort_final)\n",
    "care_home_cohort_final$mortality <- as.numeric(care_home_cohort_final$mortality)"
   ]
  },
  {
   "cell_type": "code",
   "execution_count": null,
   "id": "0b85ee75-e6ce-46a5-99a1-073b7cdb024d",
   "metadata": {
    "tags": []
   },
   "outputs": [],
   "source": [
    "mybq = bq_table(project='yhcr-prd-bradfor-bia-core', dataset='CB_2172', table='care_home_cohort_v1')\n",
    "bq_table_upload(x=mybq, values= care_home_cohort_final, create_disposition='CREATE_IF_NEEDED', \n",
    "             write_disposition='WRITE_TRUNCATE')"
   ]
  },
  {
   "cell_type": "code",
   "execution_count": null,
   "id": "1566e5ff-944f-4a8a-be71-9abc5dbf444f",
   "metadata": {
    "tags": []
   },
   "outputs": [],
   "source": [
    "sql_ch <- paste('\n",
    "select\n",
    "* except(first_episodestartdate,finalisedPSR,episodestartdate,episodestopdate), cast(first_episodestartdate as DATETIME) as first_episodestartdate\n",
    "from ',targetdb1,'.care_home_cohort_v1\n",
    "\n",
    "                     ;',sep=\"\")\n",
    "\n",
    "tbl_ch <-bq_project_query(ProjectId,sql_ch)\n",
    "tbl_ch <- bq_table_download(tbl_ch)\n",
    "\n"
   ]
  }
 ],
 "metadata": {
  "environment": {
   "kernel": "mk_env",
   "name": "workbench-notebooks.m123",
   "type": "gcloud",
   "uri": "us-docker.pkg.dev/deeplearning-platform-release/gcr.io/workbench-notebooks:m123"
  },
  "kernelspec": {
   "display_name": "mk_env",
   "language": "R",
   "name": "mk_env"
  },
  "language_info": {
   "codemirror_mode": "r",
   "file_extension": ".r",
   "mimetype": "text/x-r-source",
   "name": "R",
   "pygments_lexer": "r",
   "version": "4.4.1"
  }
 },
 "nbformat": 4,
 "nbformat_minor": 5
}
