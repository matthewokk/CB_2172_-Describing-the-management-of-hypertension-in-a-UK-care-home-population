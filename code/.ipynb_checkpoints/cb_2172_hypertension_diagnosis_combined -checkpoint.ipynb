{
 "cells": [
  {
   "cell_type": "markdown",
   "id": "385a999a-0c9e-40fa-a52c-c81004c36dd4",
   "metadata": {
    "tags": []
   },
   "source": [
    "## hypertension diagnosis before CH admission query "
   ]
  },
  {
   "cell_type": "code",
   "execution_count": null,
   "id": "eed0d8d2-0dd8-47b1-b9a3-da2a3afb65ee",
   "metadata": {
    "tags": []
   },
   "outputs": [],
   "source": [
    "library(ggplot2)\n",
    "library(bigrquery)\n",
    "library(tidyverse)\n",
    "library(ggplot2)\n",
    "library(lubridate)\n",
    "library(stats)\n",
    "\n",
    "ProjectId = \"yhcr-prd-bradfor-bia-core\"\n",
    "\n",
    "targetdb2 <- 'yhcr-prd-bradfor-bia-core.CB_FDM_PrimaryCare'\n",
    "targetdb2 <-gsub(' ','',targetdb2)\n",
    "\n",
    "targetdb3 <- 'yhcr-prd-bradfor-bia-core.CB_2172'\n",
    "targetdb3 <- gsub(' ','',targetdb3)\n",
    "\n",
    "targetdb4 <- 'yhcr-prd-bradfor-bia-core.CB_LOOKUPS'\n",
    "targetdb4 <- gsub(' ','',targetdb4)\n"
   ]
  },
  {
   "cell_type": "code",
   "execution_count": null,
   "id": "e037a7dd-b761-4bd7-86e2-ef8a66618998",
   "metadata": {
    "tags": []
   },
   "outputs": [],
   "source": [
    "sqlhtn <- paste('\n",
    "\n",
    "\n",
    "with diagnosis_by_code as \n",
    "(\n",
    "  with a as (\n",
    "  SELECT \n",
    "  person_id,\n",
    "  dateevent,\n",
    "  row_number() over(partition by person_id order by dateevent) code_sequence\n",
    "  FROM  ',targetdb2,'.tbl_srcode\n",
    "  WHERE snomedcode in(SELECT SNOMEDCT_CONCEPTID FROM ',targetdb4,'.tbl_EFI2_Codelist where deficit = \"Hypertension\" AND Otherinstructions IS NULL) \n",
    "AND person_id in(select person_id from ',targetdb3,'.care_home_cohort_v1)),\n",
    "\n",
    "  snomed as (\n",
    "  SELECT \n",
    "  m.person_id,\n",
    "  m.first_episodestartdate,\n",
    "  a.dateevent as hypertension_date,\n",
    "  FROM ',targetdb3,'.care_home_cohort_v1 m\n",
    "  LEFT JOIN a ON\n",
    "  a.person_id= m.person_id AND a.dateevent < m.first_episodestartdate and code_sequence = 1),\n",
    "\n",
    "cohort as (\n",
    "select\n",
    "person_id,\n",
    "case when hypertension_date is not null then \"yes\"\n",
    "when hypertension_date is null then \"no\"\n",
    "end as hypertension_code\n",
    "from snomed)\n",
    "\n",
    "select\n",
    "*\n",
    "from cohort\n",
    "where hypertension_code = \"yes\"\n",
    "order by person_id),\n",
    "\n",
    "##here we have the script for identifying hypetension by numeric value taken from cb_2172_hypertension_numeric\n",
    "\n",
    "diagnosis_by_value as (\n",
    "  (with a as (\n",
    "SELECT person_id, ctv3text,cast(numericvalue as bignumeric) as numericvalue_1, idappointment, dateevent, extract(date from dateevent) as date_record\n",
    ",case \n",
    "when snomedcode in(\"400975005\",\"163031004\",\"407557002\", \"407555005\") then \"diastolic\"\n",
    "when snomedcode in(\"163033001\",\"163030003\",\"163034007\",\"163035008\",\"407554009\",\"407556006\",\"400974009\",\"163020007\") then \"systolic\"\n",
    "when snomedcode in(\"413605002\",\"198000000000000\",\"314462001\") then \"home diastolic\"\n",
    "when snomedcode in(\"314449000\",\"413606001\",\"1.98E+14\") then \"home systolic\"\n",
    "else NULL end as bp_reading\n",
    " FROM ',targetdb2,'.tbl_srcode where person_id  in (select person_id from ',targetdb3,'.care_home_cohort_v1)\n",
    "order by dateeventrecorded), \n",
    "\n",
    "b as (\n",
    "  select a.*,\n",
    "  c.first_episodestartdate\n",
    "  from a\n",
    "  left join ',targetdb3,'.care_home_cohort_v1  c\n",
    "  on a.person_id = c.person_id\n",
    "  where bp_reading is not null\n",
    "  ),\n",
    "#select for the minimum systlic and diastolic value on a given date \n",
    "d as(\n",
    "  select \n",
    "  person_id, date_record,bp_reading,\n",
    "  min(numericvalue_1) as min_bp\n",
    "  from b\n",
    "  where dateevent < first_episodestartdate and (datetime_diff(first_episodestartdate, dateevent, year) <= 2) and (numericvalue_1 > 10)\n",
    "  group by person_id, date_record, bp_reading\n",
    "  order by person_id, date_record),\n",
    "#create a new variable of the preceding and following systolic and distolic value \n",
    "e as (select\n",
    "  person_id,\n",
    "  bp_reading,\n",
    "  min_bp,\n",
    "  row_number() over (partition by person_id,bp_reading order by min_bp desc) as bp_reading_seq,\n",
    "  date_record\n",
    "from d\n",
    "order by person_id\n",
    "),\n",
    "\n",
    "max_value as (\n",
    "  select\n",
    "  *\n",
    "  from e \n",
    "  where bp_reading_seq =1\n",
    "),\n",
    "\n",
    "min_value as (\n",
    "  select\n",
    "  *\n",
    "  from e \n",
    "  where bp_reading_seq =2\n",
    "),\n",
    "\n",
    "min_max_join as (\n",
    "  select\n",
    "  max_value.person_id, \n",
    "  max_value.bp_reading,\n",
    "  max_value.min_bp as first_reading,\n",
    "  min_value.min_bp as second_reading\n",
    "  from max_value \n",
    "  inner join min_value on\n",
    "  max_value.person_id = min_value.person_id and max_value.bp_reading = min_value.bp_reading\n",
    "  order by person_id),\n",
    "\n",
    "htn_code as (\n",
    "  select\n",
    "  person_id, case when bp_reading = \"diastolic\" and (first_reading > 90) and (second_reading > 90) then \"yes\"\n",
    "  when bp_reading = \"systolic\" and (first_reading >140) and (second_reading > 140) then \"yes\"\n",
    "  when bp_reading = \"home systolic\" and (first_reading > 135) and (second_reading > 135) then \"yes\"\n",
    "  when bp_reading = \"home diastolic\" and (first_reading > 85) and (second_reading> 85) then \"yes\" else \"false\"\n",
    "  end as hypertension_numeric\n",
    "  from min_max_join\n",
    "  order by person_id)\n",
    "\n",
    "  select\n",
    "  distinct * \n",
    "  from htn_code\n",
    "  where hypertension_numeric = \"yes\")),\n",
    "#then we union the two together\n",
    "\n",
    "union_htn as (\n",
    "select\n",
    "* from diagnosis_by_code\n",
    "\n",
    "union distinct\n",
    "\n",
    "select\n",
    "* from diagnosis_by_value)\n",
    "\n",
    "select ee.person_id,ee.first_episodestartdate, case when union_htn.hypertension_code = \"yes\" then \"yes\" else \"no\" end as hypertension from ',targetdb3,'.care_home_cohort_v1 ee left join union_htn on ee.person_id = union_htn.person_id\n",
    ";',sep=\"\")\n",
    "\n",
    "tblhtn <-bq_project_query(ProjectId,sqlhtn)\n",
    "data_htn <- bq_table_download(tblhtn)"
   ]
  },
  {
   "cell_type": "code",
   "execution_count": null,
   "id": "83ef932b-3521-4909-a824-3a4ec517e432",
   "metadata": {
    "tags": []
   },
   "outputs": [],
   "source": [
    "data_htn %>% n_distinct()"
   ]
  },
  {
   "cell_type": "code",
   "execution_count": null,
   "id": "79519209-6a9e-41bc-b6ad-690b897a86ec",
   "metadata": {
    "tags": []
   },
   "outputs": [],
   "source": [
    "data_htn_factor <- data_htn\n",
    "data_htn_factor$hypertension.factor <- as.factor(data_htn_factor$hypertension)\n",
    "data_htn_factor <- data_htn_factor%>%  select(-hypertension)"
   ]
  },
  {
   "cell_type": "code",
   "execution_count": null,
   "id": "5b1af632-5aed-40af-8008-d7cd6cb9fb0d",
   "metadata": {
    "tags": []
   },
   "outputs": [],
   "source": [
    "library(finalfit)\n",
    "data_htn_factor %>% summary_factorlist(dependent= NULL ,explanatory=\"hypertension.factor\")"
   ]
  },
  {
   "cell_type": "code",
   "execution_count": null,
   "id": "e108d322-ef4b-4313-ad78-f27578c81ab3",
   "metadata": {
    "tags": []
   },
   "outputs": [],
   "source": [
    "mybq = bq_table(project='yhcr-prd-bradfor-bia-core', dataset='CB_2172', table='cb_2172_hypertension_combined')\n",
    "bq_table_upload(x=mybq, values= data_htn, fields= NULL,create_disposition='CREATE_IF_NEEDED', \n",
    "             write_disposition='WRITE_TRUNCATE')"
   ]
  }
 ],
 "metadata": {
  "environment": {
   "kernel": "mk_env",
   "name": "workbench-notebooks.m123",
   "type": "gcloud",
   "uri": "us-docker.pkg.dev/deeplearning-platform-release/gcr.io/workbench-notebooks:m123"
  },
  "kernelspec": {
   "display_name": "mk_env",
   "language": "R",
   "name": "mk_env"
  },
  "language_info": {
   "codemirror_mode": "r",
   "file_extension": ".r",
   "mimetype": "text/x-r-source",
   "name": "R",
   "pygments_lexer": "r",
   "version": "4.4.1"
  }
 },
 "nbformat": 4,
 "nbformat_minor": 5
}
