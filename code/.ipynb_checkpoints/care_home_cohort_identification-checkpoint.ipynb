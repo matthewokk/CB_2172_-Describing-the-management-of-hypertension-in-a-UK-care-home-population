{
 "cells": [
  {
   "cell_type": "markdown",
   "id": "7a9ad9da-9caf-4106-8eee-c1cf90722f07",
   "metadata": {},
   "source": [
    "## Care home identification notebook\n"
   ]
  },
  {
   "cell_type": "markdown",
   "id": "bf03499f-4eed-4ad7-b7e2-e432f4ea5348",
   "metadata": {},
   "source": [
    "this notebook is the latest version as of 17/08/2024 for identifying care home residents in connected bradford after some issues wih previous scripts were identified. it is the number that will be used in the final analysis, having it in a jupytner notebook format also enabls it to be easily upliaded to github to be made freely available."
   ]
  },
  {
   "cell_type": "code",
   "execution_count": 1,
   "id": "8abf86ed-4de5-4f0c-9423-57870e417b9d",
   "metadata": {
    "tags": []
   },
   "outputs": [
    {
     "name": "stderr",
     "output_type": "stream",
     "text": [
      "── \u001b[1mAttaching core tidyverse packages\u001b[22m ──────────────────────── tidyverse 2.0.0 ──\n",
      "\u001b[32m✔\u001b[39m \u001b[34mdplyr    \u001b[39m 1.1.4     \u001b[32m✔\u001b[39m \u001b[34mreadr    \u001b[39m 2.1.5\n",
      "\u001b[32m✔\u001b[39m \u001b[34mforcats  \u001b[39m 1.0.0     \u001b[32m✔\u001b[39m \u001b[34mstringr  \u001b[39m 1.5.1\n",
      "\u001b[32m✔\u001b[39m \u001b[34mggplot2  \u001b[39m 3.5.1     \u001b[32m✔\u001b[39m \u001b[34mtibble   \u001b[39m 3.2.1\n",
      "\u001b[32m✔\u001b[39m \u001b[34mlubridate\u001b[39m 1.9.3     \u001b[32m✔\u001b[39m \u001b[34mtidyr    \u001b[39m 1.3.1\n",
      "\u001b[32m✔\u001b[39m \u001b[34mpurrr    \u001b[39m 1.0.2     \n",
      "── \u001b[1mConflicts\u001b[22m ────────────────────────────────────────── tidyverse_conflicts() ──\n",
      "\u001b[31m✖\u001b[39m \u001b[34mdplyr\u001b[39m::\u001b[32mfilter()\u001b[39m masks \u001b[34mstats\u001b[39m::filter()\n",
      "\u001b[31m✖\u001b[39m \u001b[34mdplyr\u001b[39m::\u001b[32mlag()\u001b[39m    masks \u001b[34mstats\u001b[39m::lag()\n",
      "\u001b[36mℹ\u001b[39m Use the conflicted package (\u001b[3m\u001b[34m<http://conflicted.r-lib.org/>\u001b[39m\u001b[23m) to force all conflicts to become errors\n"
     ]
    }
   ],
   "source": [
    "library(bigrquery)\n",
    "library(tidyverse) "
   ]
  },
  {
   "cell_type": "code",
   "execution_count": 2,
   "id": "e6cf67a9-24f6-4de1-96be-6c6062ab6b52",
   "metadata": {
    "tags": []
   },
   "outputs": [],
   "source": [
    "ProjectId = \"yhcr-prd-bradfor-bia-core\"\n",
    "\n",
    "targetdb1 <- \"yhcr-prd-bradfor-bia-core.CB_2172\"\n",
    "targetdb1 <- gsub(\" \",\"\",targetdb1)\n",
    "\n",
    "targetdb2 <- 'yhcr-prd-bradfor-bia-core.CB_FDM_DeathCertificates'\n",
    "targetdb2 <- gsub(\" \",\"\",targetdb2)\n",
    "\n",
    "targetdb3 <- \"yhcr-prd-bradfor-bia-core.CB_FDM_AdultSocialCare\"\n",
    "targetdb3 <- gsub(\" \",\"\",targetdb3)\n",
    "\n"
   ]
  },
  {
   "cell_type": "code",
   "execution_count": 3,
   "id": "9147e329-e02c-40b4-8c05-1fba1a876c32",
   "metadata": {},
   "outputs": [],
   "source": [
    "#first query selects all individuals admitted to a care home at any point no age or date restrictions"
   ]
  },
  {
   "cell_type": "code",
   "execution_count": 4,
   "id": "4e09ad2d-94cf-4203-a34a-ed14aa5f707d",
   "metadata": {},
   "outputs": [],
   "source": [
    "sql1 <- \n",
    "paste(\n",
    "    #updated care home cohort code, uses analytic functions so is tidier, this is the currnet query used to define the cohort,\n",
    "    'with a  as (\n",
    "SELECT person_id, \n",
    "tbl_adultsocialcare_services_start_date, \n",
    "servicetype, \n",
    "FinalisedPSR, \n",
    "row_number() over (partition by person_id order by tbl_adultsocialcare_services_start_date) as care_seq \n",
    "from ',targetdb3,'.tbl_adultsocialcare_services \n",
    "where ServiceType in(\"Nursing\",\"Residential\") \n",
    "),\n",
    "b as (\n",
    "select \n",
    "* \n",
    "from a\n",
    "where care_seq = 1\n",
    "order by person_id, tbl_adultsocialcare_services_start_date),\n",
    "\n",
    "c as \n",
    "(SELECT person_id,\n",
    "tbl_adultsocialcare_services_end_date, \n",
    "servicetype, \n",
    "row_number() over (partition by person_id order by tbl_adultsocialcare_services_end_date desc) as care_end_seq \n",
    "from ',targetdb3,'.tbl_adultsocialcare_services \n",
    "where ServiceType in(\"Nursing\",\"Residential\") )\n",
    ",\n",
    "\n",
    "d as (select\n",
    "* from c \n",
    "where care_end_seq = 1),\n",
    "\n",
    "e as (\n",
    "select \n",
    "b.person_id,\n",
    "b.tbl_adultsocialcare_services_start_date as first_episodestartdate,\n",
    "d.tbl_adultsocialcare_services_end_date as last_episodestopdate,\n",
    "b.ServiceType as admission_service,\n",
    "b.finalisedPSR\n",
    "from b \n",
    "LEFT join d on\n",
    "b.person_id= d.person_id\n",
    "order by person_id),\n",
    "\n",
    "f as (\n",
    "Select \n",
    "e.*,\n",
    "datetime_diff(e.last_episodestopdate,e.first_episodestartdate,day) as admission_length\n",
    "from e\n",
    "),\n",
    "\n",
    "h as (\n",
    "SELECT\n",
    "f.*,\n",
    "g.birth_datetime,\n",
    "FORMAT_DATETIME(\"%d-%b-%y\",first_episodestartdate) as date_of_admission,\n",
    "g.death_datetime,\n",
    "g.ethnicity_source_value,\n",
    "g.gender_source_value\n",
    "FROM f \n",
    "LEFT JOIN ',targetdb3,'.person g on\n",
    "f.person_id = g.person_id),\n",
    "\n",
    "g as (\n",
    "select\n",
    "DATE_DIFF(first_episodestartdate, birth_datetime, YEAR) as age_admission,\n",
    "h.*,\n",
    "from h\n",
    "where first_episodestartdate < \"2019-12-31T00:00:00\"\n",
    "order by age_admission desc)\n",
    "\n",
    "select\n",
    "* from g\n",
    "\n",
    ";',sep=\"\")\n",
    "\n",
    "sql_tbl <-bq_project_query(ProjectId,sql1)\n",
    "sql_data <- bq_table_download(sql_tbl)\n"
   ]
  },
  {
   "cell_type": "code",
   "execution_count": 5,
   "id": "957797e8-cc03-444e-91f4-1765e0665be5",
   "metadata": {},
   "outputs": [],
   "source": [
    "#convert vectors to date"
   ]
  },
  {
   "cell_type": "code",
   "execution_count": 6,
   "id": "2948e6df-2602-4f86-9e85-46952dac05ba",
   "metadata": {},
   "outputs": [],
   "source": [
    "sql_data$death_date <- as_date(sql_data$death_datetime)\n",
    "sql_data <- sql_data %>% select(-death_datetime)"
   ]
  },
  {
   "cell_type": "code",
   "execution_count": 7,
   "id": "1de81d23-ffce-42e9-928b-f16d33534a34",
   "metadata": {
    "tags": []
   },
   "outputs": [],
   "source": [
    "sql_data$episodestartdate <- as_date(sql_data$first_episodestartdate)\n"
   ]
  },
  {
   "cell_type": "code",
   "execution_count": 8,
   "id": "db426e6d-da9e-441b-8d0f-b3a3fdc0e81b",
   "metadata": {
    "tags": []
   },
   "outputs": [],
   "source": [
    "sql_data$episodestopdate <- as_date(sql_data$last_episodestopdate)\n"
   ]
  },
  {
   "cell_type": "code",
   "execution_count": 9,
   "id": "bfff7dcc-f93f-4b54-93f6-35d216f566a9",
   "metadata": {},
   "outputs": [],
   "source": [
    "sql_data$birth_date <- as_date(sql_data$birth_datetime)\n",
    "sql_data <- sql_data %>% select(-birth_datetime)"
   ]
  },
  {
   "cell_type": "code",
   "execution_count": 10,
   "id": "53ae09f3-23a3-4d0f-bc75-284c792bafb5",
   "metadata": {},
   "outputs": [],
   "source": [
    "#remove those inidividuals admitted on dates that were identified as being erroneous (i.e. these individuals were actually admitted into a care home prior to 2016, but had no start date so the date was put as the date of upload, creating some skew) this has been confirmed with the individual who built the social care FDM in Connected bradford"
   ]
  },
  {
   "cell_type": "code",
   "execution_count": 11,
   "id": "0c38154b-d3ce-444a-8b1a-6d7a7bad8d62",
   "metadata": {
    "tags": []
   },
   "outputs": [],
   "source": [
    "sql_data <- sql_data %>% filter(!(episodestartdate == \"2016-04-04\"))%>% filter(!(episodestartdate == \"2016-07-25\"))%>% filter(!(episodestartdate == \"2016-08-22\"))"
   ]
  },
  {
   "cell_type": "code",
   "execution_count": 37,
   "id": "e3354c8c-061f-4cc8-9fbc-fee57b33f51e",
   "metadata": {
    "tags": []
   },
   "outputs": [
    {
     "data": {
      "text/html": [
       "3919"
      ],
      "text/latex": [
       "3919"
      ],
      "text/markdown": [
       "3919"
      ],
      "text/plain": [
       "[1] 3919"
      ]
     },
     "metadata": {},
     "output_type": "display_data"
    }
   ],
   "source": [
    "sql_data %>% n_distinct('person_id')"
   ]
  },
  {
   "cell_type": "code",
   "execution_count": 13,
   "id": "ffbe9497-c169-48e9-a6f1-73950d898b72",
   "metadata": {},
   "outputs": [],
   "source": [
    "#how many aged less than 65 "
   ]
  },
  {
   "cell_type": "code",
   "execution_count": 14,
   "id": "b78b21c5-62df-4f47-9c21-49fc8d6ce15b",
   "metadata": {
    "tags": []
   },
   "outputs": [
    {
     "data": {
      "text/html": [
       "333"
      ],
      "text/latex": [
       "333"
      ],
      "text/markdown": [
       "333"
      ],
      "text/plain": [
       "[1] 333"
      ]
     },
     "metadata": {},
     "output_type": "display_data"
    }
   ],
   "source": [
    "sql_data_below_65 <- sql_data %>% filter(age_admission < 65)\n",
    "n_distinct(sql_data_below_65$person_id)"
   ]
  },
  {
   "cell_type": "code",
   "execution_count": 15,
   "id": "df40fb54-dcea-406e-bea2-1703c18c36e6",
   "metadata": {
    "tags": []
   },
   "outputs": [
    {
     "data": {
      "text/html": [
       "3586"
      ],
      "text/latex": [
       "3586"
      ],
      "text/markdown": [
       "3586"
      ],
      "text/plain": [
       "[1] 3586"
      ]
     },
     "metadata": {},
     "output_type": "display_data"
    }
   ],
   "source": [
    "sql_data_above_sixtyfive <- sql_data %>% filter(age_admission >= 65) \n",
    "sql_data_above_sixtyfive %>% n_distinct()\n"
   ]
  },
  {
   "cell_type": "code",
   "execution_count": 16,
   "id": "3c8228b7-f703-42c7-9f75-b1f5ea3704f9",
   "metadata": {},
   "outputs": [],
   "source": [
    "#here we bring in the mortality data to reduce number of missig death dates "
   ]
  },
  {
   "cell_type": "code",
   "execution_count": 17,
   "id": "ed6680f6-3f15-4358-ae9b-ec7aa1b5298a",
   "metadata": {
    "tags": []
   },
   "outputs": [
    {
     "name": "stdout",
     "output_type": "stream",
     "text": [
      "\u001b[90m# A tibble: 5,620 × 3\u001b[39m\n",
      "   person_id dod        reg_date  \n",
      "       \u001b[3m\u001b[90m<int>\u001b[39m\u001b[23m \u001b[3m\u001b[90m<chr>\u001b[39m\u001b[23m      \u001b[3m\u001b[90m<chr>\u001b[39m\u001b[23m     \n",
      "\u001b[90m 1\u001b[39m     \u001b[4m1\u001b[24m\u001b[4m2\u001b[24m594 2022-10-22 2022-11-24\n",
      "\u001b[90m 2\u001b[39m     \u001b[4m1\u001b[24m\u001b[4m4\u001b[24m596 2024-01-01 2024-01-16\n",
      "\u001b[90m 3\u001b[39m    \u001b[4m1\u001b[24m\u001b[4m0\u001b[24m\u001b[4m3\u001b[24m569 2024-01-12 2024-01-27\n",
      "\u001b[90m 4\u001b[39m    \u001b[4m1\u001b[24m\u001b[4m0\u001b[24m\u001b[4m7\u001b[24m679 2023-06-30 2023-07-19\n",
      "\u001b[90m 5\u001b[39m    \u001b[4m1\u001b[24m\u001b[4m1\u001b[24m\u001b[4m1\u001b[24m197 2022-12-30 2023-01-11\n",
      "\u001b[90m 6\u001b[39m    \u001b[4m1\u001b[24m\u001b[4m3\u001b[24m\u001b[4m2\u001b[24m521 2023-11-27 2023-12-01\n",
      "\u001b[90m 7\u001b[39m    \u001b[4m1\u001b[24m\u001b[4m4\u001b[24m\u001b[4m4\u001b[24m752 2023-04-26 2023-05-02\n",
      "\u001b[90m 8\u001b[39m    \u001b[4m1\u001b[24m\u001b[4m4\u001b[24m\u001b[4m8\u001b[24m575 2022-04-05 2022-04-07\n",
      "\u001b[90m 9\u001b[39m    \u001b[4m2\u001b[24m\u001b[4m0\u001b[24m\u001b[4m5\u001b[24m277 2022-02-24 2022-02-25\n",
      "\u001b[90m10\u001b[39m    \u001b[4m2\u001b[24m\u001b[4m1\u001b[24m\u001b[4m8\u001b[24m437 2023-08-29 2023-09-01\n",
      "\u001b[90m# ℹ 5,610 more rows\u001b[39m\n"
     ]
    }
   ],
   "source": [
    "sql_death <- paste('\n",
    "with a as (SELECT person_id,\n",
    "dod,\n",
    "tbl_NEC_Deaths,\n",
    "reg_date,\n",
    "rank() over(partition by person_id order by dod desc, reg_date desc) as rank_seq\n",
    "from ',targetdb2,'.tbl_NEC_Deaths\n",
    "where person_id in (SELECT person_id from ',targetdb3,'.person where death_datetime is null)),\n",
    "\n",
    "b as (\n",
    "select\n",
    "*,\n",
    "row_number() over(partition by person_id order by person_id) as rank_seq_2\n",
    "from a \n",
    "where rank_seq = 1)\n",
    "\n",
    "select \n",
    "person_id, dod,reg_date from b \n",
    "where rank_seq_2 = 1 \n",
    "order by person_id \n",
    ";',sep=\"\")\n",
    "\n",
    "tbl_death <-bq_project_query(ProjectId,sql_death)\n",
    "ch_death<- bq_table_download(tbl_death)\n",
    "\n",
    "print(ch_death)"
   ]
  },
  {
   "cell_type": "code",
   "execution_count": 18,
   "id": "0224e409-d621-4c06-bed4-d304f4052176",
   "metadata": {
    "tags": []
   },
   "outputs": [],
   "source": [
    "ch_death <- ch_death %>% mutate(date_death = ifelse(is.na(dod), reg_date,dod))"
   ]
  },
  {
   "cell_type": "code",
   "execution_count": 19,
   "id": "38f3123b-4c05-4f96-926e-1b8d9c98fba9",
   "metadata": {
    "tags": []
   },
   "outputs": [],
   "source": [
    "ch_death$date_death <- as_date(ch_death$date_death)"
   ]
  },
  {
   "cell_type": "code",
   "execution_count": 20,
   "id": "5cb95e7d-b517-4033-b73f-61439b215d72",
   "metadata": {},
   "outputs": [],
   "source": [
    "## join death certificate tibble to the deathdate in the master cohort table "
   ]
  },
  {
   "cell_type": "code",
   "execution_count": 21,
   "id": "305458e6-e456-4d30-a563-c50e4e1e0a5a",
   "metadata": {
    "tags": []
   },
   "outputs": [],
   "source": [
    "ch_death_filter <- ch_death %>% select(person_id,date_death)\n",
    "sql_data_above_sixtyfive <- left_join(sql_data_above_sixtyfive,ch_death_filter,by='person_id')"
   ]
  },
  {
   "cell_type": "code",
   "execution_count": 22,
   "id": "6ac20ec9-f24b-4e31-a4f4-1833b51f70a2",
   "metadata": {
    "tags": []
   },
   "outputs": [],
   "source": [
    "sql_data_above_sixtyfive <- sql_data_above_sixtyfive %>% mutate(dod = coalesce(sql_data_above_sixtyfive$death_date,sql_data_above_sixtyfive$date_death))%>% select(-death_date,-date_death)\n"
   ]
  },
  {
   "cell_type": "code",
   "execution_count": 23,
   "id": "58e13825-7b17-4455-acd4-91a0e610f47e",
   "metadata": {
    "tags": []
   },
   "outputs": [],
   "source": [
    "sql_data_above_sixtyfive <- sql_data_above_sixtyfive %>% mutate(mortality = dod-episodestartdate)"
   ]
  },
  {
   "cell_type": "code",
   "execution_count": 25,
   "id": "f45b1701-2777-49bf-9bc6-25861e3fd331",
   "metadata": {
    "tags": []
   },
   "outputs": [],
   "source": [
    "alive_morethan_6weeks <- sql_data_above_sixtyfive %>% filter((mortality > 42) |is.na(dod))"
   ]
  },
  {
   "cell_type": "code",
   "execution_count": 26,
   "id": "8a6a2b9f-c271-4631-9836-4e369be7b1ab",
   "metadata": {
    "tags": []
   },
   "outputs": [
    {
     "data": {
      "text/html": [
       "2946"
      ],
      "text/latex": [
       "2946"
      ],
      "text/markdown": [
       "2946"
      ],
      "text/plain": [
       "[1] 2946"
      ]
     },
     "metadata": {},
     "output_type": "display_data"
    }
   ],
   "source": [
    "alive_morethan_6weeks %>% n_distinct()"
   ]
  },
  {
   "cell_type": "code",
   "execution_count": 27,
   "id": "200716ba-fb94-462f-8262-c3c1157dca18",
   "metadata": {
    "tags": []
   },
   "outputs": [],
   "source": [
    "##next we remove anyone who was discharged within 42 days or died within 42 days\n",
    "#first we calculate the number and then remove anyone who died within 42 days \n",
    "long_stay_resident <- alive_morethan_6weeks %>% filter(episodestopdate > (episodestartdate + ddays(x=42)))\n"
   ]
  },
  {
   "cell_type": "code",
   "execution_count": 28,
   "id": "a68abf83-4ccf-468f-902d-037fbaf54abb",
   "metadata": {},
   "outputs": [],
   "source": [
    "#second, of  those remaining, we calculate and remove those who had a recorded legnth of stay of 42 days or less. \n",
    "#the two figures combined (number died withi 42 days and number discharged alive) gives the total number filtered at this stage. "
   ]
  },
  {
   "cell_type": "code",
   "execution_count": 29,
   "id": "3a2d5e38-a722-44b8-87a9-d40e78bfa14f",
   "metadata": {
    "tags": []
   },
   "outputs": [
    {
     "data": {
      "text/html": [
       "2885"
      ],
      "text/latex": [
       "2885"
      ],
      "text/markdown": [
       "2885"
      ],
      "text/plain": [
       "[1] 2885"
      ]
     },
     "metadata": {},
     "output_type": "display_data"
    }
   ],
   "source": [
    "long_stay_resident %>% n_distinct()"
   ]
  },
  {
   "cell_type": "code",
   "execution_count": 30,
   "id": "041eaf1b-da3b-4ecf-8ea3-402065f7ec94",
   "metadata": {},
   "outputs": [],
   "source": [
    "#we iidentified anyone with missing primary care data and removed them, this is most likely because whilst they are recieving social care funding from the bradford local authorty they are not registered to a GP contributing to Connected Bradford. "
   ]
  },
  {
   "cell_type": "code",
   "execution_count": 31,
   "id": "6c94c9c3-bee1-44d1-a5b9-323db7d704c8",
   "metadata": {
    "tags": []
   },
   "outputs": [
    {
     "name": "stderr",
     "output_type": "stream",
     "text": [
      "Warning message in as.integer.integer64(x):\n",
      "“NAs produced by integer overflow”\n"
     ]
    }
   ],
   "source": [
    "sql_missing <- paste('\n",
    "select\n",
    "distinct b.person_id as primary_care_person\n",
    "from `yhcr-prd-bradfor-bia-core.CB_FDM_AdultSocialCare.person` b\n",
    "left join (select person_id,\n",
    "  from `yhcr-prd-bradfor-bia-core.CB_FDM_PrimaryCare.tbl_srcode`\n",
    "  where person_id in(select person_id from `yhcr-prd-bradfor-bia-core.CB_FDM_AdultSocialCare.person`)) a\n",
    "  on b.person_id = a.person_id\n",
    "  where a.person_id is null\n",
    "\n",
    "                     ;',sep=\"\")\n",
    "\n",
    "tbl_missing <-bq_project_query(ProjectId,sql_missing)\n",
    "tbl_missing <- bq_table_download(tbl_missing)\n"
   ]
  },
  {
   "cell_type": "code",
   "execution_count": 32,
   "id": "950080e2-20c3-4328-bd7b-f5645ae23a3e",
   "metadata": {
    "tags": []
   },
   "outputs": [
    {
     "data": {
      "text/html": [
       "2794"
      ],
      "text/latex": [
       "2794"
      ],
      "text/markdown": [
       "2794"
      ],
      "text/plain": [
       "[1] 2794"
      ]
     },
     "metadata": {},
     "output_type": "display_data"
    }
   ],
   "source": [
    "care_home_cohort_final <- long_stay_resident %>% filter(!(long_stay_resident$person_id %in% tbl_missing$primary_care_person)) \n",
    "care_home_cohort_final %>%  n_distinct()\n",
    "care_home_ghosts <- care_home_cohort_final %>% filter( is.na(dod))"
   ]
  },
  {
   "cell_type": "code",
   "execution_count": 33,
   "id": "00393e95-a062-4ca3-a232-614cb5939c2c",
   "metadata": {
    "tags": []
   },
   "outputs": [
    {
     "data": {
      "text/html": [
       "148"
      ],
      "text/latex": [
       "148"
      ],
      "text/markdown": [
       "148"
      ],
      "text/plain": [
       "[1] 148"
      ]
     },
     "metadata": {},
     "output_type": "display_data"
    }
   ],
   "source": [
    "care_home_ghosts %>% n_distinct()"
   ]
  },
  {
   "cell_type": "code",
   "execution_count": 34,
   "id": "94a22865-d9c3-4c82-bf42-60cc1a8b18ed",
   "metadata": {
    "tags": []
   },
   "outputs": [
    {
     "name": "stdout",
     "output_type": "stream",
     "text": [
      "tibble [2,794 × 15] (S3: tbl_df/tbl/data.frame)\n",
      " $ age_admission         : int [1:2794] 110 105 104 104 104 104 103 103 103 103 ...\n",
      " $ person_id             : int [1:2794] 13165651 12993099 12757662 12696288 12606511 13729945 442273 12913109 12584650 13273683 ...\n",
      " $ first_episodestartdate: POSIXct[1:2794], format: \"2017-10-31\" \"2018-07-20\" ...\n",
      " $ last_episodestopdate  : POSIXct[1:2794], format: \"2018-01-09\" \"2018-11-13\" ...\n",
      " $ admission_service     : chr [1:2794] \"Residential\" \"Nursing\" \"Residential\" \"Residential\" ...\n",
      " $ finalisedPSR          : chr [1:2794] \"Physical Support - Personal Care Support\" \"Physical Support - Personal Care Support\" \"Physical Support - Personal Care Support\" \"Physical Support - Personal Care Support\" ...\n",
      " $ admission_length      : int [1:2794] 70 116 866 671 85 171 326 871 585 58 ...\n",
      " $ date_of_admission     : chr [1:2794] \"31-Oct-17\" \"20-Jul-18\" \"03-Oct-19\" \"23-Aug-19\" ...\n",
      " $ ethnicity_source_value: chr [1:2794] \"Unknown/Refuse to say\" \"White: English or Welsh or Scottish or Northern Irish or British - England and Wales ethnic category 2011 census\" \"White: English or Welsh or Scottish or Northern Irish or British - England and Wales ethnic category 2011 census\" \"White: English or Welsh or Scottish or Northern Irish or British - England and Wales ethnic category 2011 census\" ...\n",
      " $ gender_source_value   : chr [1:2794] \"F\" \"F\" \"F\" \"F\" ...\n",
      " $ episodestartdate      : Date[1:2794], format: \"2017-10-31\" \"2018-07-20\" ...\n",
      " $ episodestopdate       : Date[1:2794], format: \"2018-01-09\" \"2018-11-13\" ...\n",
      " $ birth_date            : Date[1:2794], format: \"1907-09-15\" \"1913-03-15\" ...\n",
      " $ dod                   : Date[1:2794], format: \"2018-01-15\" \"2018-11-15\" ...\n",
      " $ mortality             : 'difftime' num [1:2794] 76 118 866 662 ...\n",
      "  ..- attr(*, \"units\")= chr \"days\"\n"
     ]
    }
   ],
   "source": [
    "care_home_cohort_final %>% str()"
   ]
  },
  {
   "cell_type": "code",
   "execution_count": 35,
   "id": "63eb8014-55a6-4f2a-99d0-fbed89251868",
   "metadata": {},
   "outputs": [
    {
     "data": {
      "text/plain": [
       "<bq_fields>\n",
       "  age_admission <INTEGER>\n",
       "  person_id <INTEGER>\n",
       "  first_episodestartdate <TIMESTAMP>\n",
       "  last_episodestopdate <TIMESTAMP>\n",
       "  admission_service <STRING>\n",
       "  finalisedPSR <STRING>\n",
       "  admission_length <INTEGER>\n",
       "  date_of_admission <STRING>\n",
       "  ethnicity_source_value <STRING>\n",
       "  gender_source_value <STRING>\n",
       "  episodestartdate <DATE>\n",
       "  episodestopdate <DATE>\n",
       "  birth_date <DATE>\n",
       "  dod <DATE>\n",
       "  mortality <FLOAT>\n"
      ]
     },
     "metadata": {},
     "output_type": "display_data"
    }
   ],
   "source": [
    "#send the final care home cohort back to bigquery as a table so it can be ran through the other queries\n",
    "as_bq_fields(care_home_cohort_final)\n",
    "care_home_cohort_final$mortality <- as.numeric(care_home_cohort_final$mortality)"
   ]
  },
  {
   "cell_type": "code",
   "execution_count": 36,
   "id": "0b85ee75-e6ce-46a5-99a1-073b7cdb024d",
   "metadata": {
    "tags": []
   },
   "outputs": [
    {
     "ename": "ERROR",
     "evalue": "\u001b[1m\u001b[33mError\u001b[39m in `bq_table_upload()`:\u001b[22m\n\u001b[1m\u001b[22m\u001b[33m!\u001b[39m Job\n  yhcr-prd-bradfor-bia-core.job_K_-majvH4QxFv6WaaJ1EQxRVNjRT.europe-west2\n  failed\n\u001b[31m✖\u001b[39m Error while reading data, error message: JSON processing encountered too many\n  errors, giving up. Rows: 1; errors: 1; max bad: 0; error percent: 0 [invalid]\n\u001b[31m✖\u001b[39m Invalid date: '31-Oct-17' Field: date_of_admission; Value: 31-Oct-17\n  [invalidQuery]\n",
     "output_type": "error",
     "traceback": [
      "\u001b[1m\u001b[33mError\u001b[39m in `bq_table_upload()`:\u001b[22m\n\u001b[1m\u001b[22m\u001b[33m!\u001b[39m Job\n  yhcr-prd-bradfor-bia-core.job_K_-majvH4QxFv6WaaJ1EQxRVNjRT.europe-west2\n  failed\n\u001b[31m✖\u001b[39m Error while reading data, error message: JSON processing encountered too many\n  errors, giving up. Rows: 1; errors: 1; max bad: 0; error percent: 0 [invalid]\n\u001b[31m✖\u001b[39m Invalid date: '31-Oct-17' Field: date_of_admission; Value: 31-Oct-17\n  [invalidQuery]\nTraceback:\n",
      "1. bq_table_upload(x = mybq, values = care_home_cohort_final, create_disposition = \"CREATE_IF_NEEDED\", \n .     write_disposition = \"WRITE_TRUNCATE\")",
      "2. bq_job_wait(job, quiet = quiet)",
      "3. cli::cli_abort(c(\"Job {x} failed\", bullets), call = call)",
      "4. rlang::abort(message, ..., call = call, use_cli_format = TRUE, \n .     .frame = .frame)",
      "5. signal_abort(cnd, .file)"
     ]
    }
   ],
   "source": [
    "mybq = bq_table(project='yhcr-prd-bradfor-bia-core', dataset='CB_2172', table='care_home_cohort_v1')\n",
    "bq_table_upload(x=mybq, values= care_home_cohort_final, create_disposition='CREATE_IF_NEEDED', \n",
    "             write_disposition='WRITE_TRUNCATE')"
   ]
  },
  {
   "cell_type": "code",
   "execution_count": null,
   "id": "1566e5ff-944f-4a8a-be71-9abc5dbf444f",
   "metadata": {
    "tags": []
   },
   "outputs": [],
   "source": [
    "sql_ch <- paste('\n",
    "select\n",
    "* except(first_episodestartdate,finalisedPSR,episodestartdate,episodestopdate), cast(first_episodestartdate as DATETIME) as first_episodestartdate\n",
    "from ',targetdb1,'.care_home_cohort_v1\n",
    "\n",
    "                     ;',sep=\"\")\n",
    "\n",
    "tbl_ch <-bq_project_query(ProjectId,sql_ch)\n",
    "tbl_ch <- bq_table_download(tbl_ch)\n",
    "\n"
   ]
  }
 ],
 "metadata": {
  "environment": {
   "kernel": "mk_env",
   "name": "workbench-notebooks.m123",
   "type": "gcloud",
   "uri": "us-docker.pkg.dev/deeplearning-platform-release/gcr.io/workbench-notebooks:m123"
  },
  "kernelspec": {
   "display_name": "mk_env",
   "language": "R",
   "name": "mk_env"
  },
  "language_info": {
   "codemirror_mode": "r",
   "file_extension": ".r",
   "mimetype": "text/x-r-source",
   "name": "R",
   "pygments_lexer": "r",
   "version": "4.4.1"
  }
 },
 "nbformat": 4,
 "nbformat_minor": 5
}
