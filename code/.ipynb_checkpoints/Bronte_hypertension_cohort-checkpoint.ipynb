{
 "cells": [
  {
   "cell_type": "markdown",
   "id": "f044ece2-769d-4aa8-be70-772fa0f6f026",
   "metadata": {
    "tags": []
   },
   "source": [
    "# Table 1"
   ]
  },
  {
   "cell_type": "markdown",
   "id": "b65d517e-44dd-422a-9045-da07a8cdff72",
   "metadata": {
    "tags": []
   },
   "source": [
    "## initial layout "
   ]
  },
  {
   "cell_type": "code",
   "execution_count": 1,
   "id": "a39a01d7-f8e5-4c40-a7c6-ccd869eafc2a",
   "metadata": {
    "tags": []
   },
   "outputs": [
    {
     "name": "stderr",
     "output_type": "stream",
     "text": [
      "── \u001b[1mAttaching core tidyverse packages\u001b[22m ──────────────────────── tidyverse 2.0.0 ──\n",
      "\u001b[32m✔\u001b[39m \u001b[34mdplyr    \u001b[39m 1.1.4     \u001b[32m✔\u001b[39m \u001b[34mreadr    \u001b[39m 2.1.5\n",
      "\u001b[32m✔\u001b[39m \u001b[34mforcats  \u001b[39m 1.0.0     \u001b[32m✔\u001b[39m \u001b[34mstringr  \u001b[39m 1.5.1\n",
      "\u001b[32m✔\u001b[39m \u001b[34mlubridate\u001b[39m 1.9.3     \u001b[32m✔\u001b[39m \u001b[34mtibble   \u001b[39m 3.2.1\n",
      "\u001b[32m✔\u001b[39m \u001b[34mpurrr    \u001b[39m 1.0.2     \u001b[32m✔\u001b[39m \u001b[34mtidyr    \u001b[39m 1.3.1\n",
      "── \u001b[1mConflicts\u001b[22m ────────────────────────────────────────── tidyverse_conflicts() ──\n",
      "\u001b[31m✖\u001b[39m \u001b[34mdplyr\u001b[39m::\u001b[32mfilter()\u001b[39m masks \u001b[34mstats\u001b[39m::filter()\n",
      "\u001b[31m✖\u001b[39m \u001b[34mdplyr\u001b[39m::\u001b[32mlag()\u001b[39m    masks \u001b[34mstats\u001b[39m::lag()\n",
      "\u001b[36mℹ\u001b[39m Use the conflicted package (\u001b[3m\u001b[34m<http://conflicted.r-lib.org/>\u001b[39m\u001b[23m) to force all conflicts to become errors\n"
     ]
    }
   ],
   "source": [
    "library(ggplot2)\n",
    "library(bigrquery)\n",
    "library(tidyverse)\n",
    "library(ggplot2)\n",
    "library(lubridate)\n",
    "library(stats)\n",
    "library(finalfit)\n",
    "ProjectId = \"yhcr-prd-bradfor-bia-core\"\n",
    "\n",
    "targetdb2 <- 'yhcr-prd-bradfor-bia-core.CB_FDM_DeathCertificates'\n",
    "targetdb2 <-gsub(' ','',targetdb2)\n",
    "\n",
    "targetdb3 <- 'yhcr-prd-bradfor-bia-core.CB_2172'\n",
    "targetdb3 <- gsub(' ','',targetdb3)\n"
   ]
  },
  {
   "cell_type": "markdown",
   "id": "36a5aa1a-907e-4395-a932-e17a69595dfc",
   "metadata": {},
   "source": [
    "download data from connected bradford and create a master table by left joining the care_home_cohort table to the health characterstics"
   ]
  },
  {
   "cell_type": "code",
   "execution_count": 2,
   "id": "a6291100-ae32-4021-98d2-075f27de00ee",
   "metadata": {
    "tags": []
   },
   "outputs": [],
   "source": [
    "sql1 <- \n",
    "paste(\n",
    "    'SELECT a.*, imd.imd, bm.bmi, htn.hypertension, bp.systolic_value , ck.ckd_diagnosis, ps.prev_stroke,dm.dm_diagnosis as diabetes_mellitus, af.af_diagnosis, chd.chd_diagnosis, hf.heart_failure as hf_diagnosis, ss.smoking_status, p.no_medication \n",
    "from ',targetdb3,'.care_home_cohort_v1 a \n",
    "left join ',targetdb3,'.cb_2172_efi2_value b on a.person_id = b.person_id \n",
    "left join ',targetdb3,'.efall_value e on a.person_id = e.person_id\n",
    "left join ',targetdb3,'.cb_2172_polypharmacy p on a.person_id = p.person_id\n",
    "left join ',targetdb3,'.temp_cb_2172_efi2_bmi bm on a.person_id = bm.person_id\n",
    "left join ',targetdb3,'.temp_cb_2172_efi2 efi on a.person_id = efi.person_id\n",
    "left join ',targetdb3,'.cb_2172_ckd_diagnosis ck on a.person_id = ck.person_id\n",
    "left join ',targetdb3,'.cb_2172_previous_stroke ps on a.person_id = ps.person_id\n",
    "left join ',targetdb3,'.cb_2172_ch_imd imd on a.person_id = imd.person_id \n",
    "left join ',targetdb3,'.cb_2172_dm_diagnosis dm on a.person_id = dm.person_id \n",
    "left join ',targetdb3,'.temp_cb_2172_af_diagnosis af on a.person_id = af.person_id\n",
    "left join ',targetdb3,'.cb_2172_efi2_hf hf on a.person_id = hf.person_id\n",
    "left join ',targetdb3,'.cb_2172_smoking_status ss on a.person_id = ss.person_id \n",
    "left join ',targetdb3,'.cb_2172_chd_diagnosis chd on a.person_id = chd.person_id \n",
    "left join ',targetdb3,'.cb_2172_hypertension_combined htn on a.person_id = htn.person_id\n",
    "left join ',targetdb3,'.cb_2172_bp_post_admission bp on a.person_id = bp.person_id\n",
    ";',sep=\"\")\n",
    "\n",
    "bp_tbl <-bq_project_query(ProjectId,sql1)\n",
    "bp_data <- bq_table_download(bp_tbl)\n"
   ]
  },
  {
   "cell_type": "markdown",
   "id": "a64f4690-00ff-41a9-8fed-21f78523aedb",
   "metadata": {},
   "source": [
    "First recode the binary variables as factors "
   ]
  },
  {
   "cell_type": "code",
   "execution_count": 3,
   "id": "f98081f9-6dbc-4277-bb48-2e93282ec471",
   "metadata": {
    "tags": []
   },
   "outputs": [],
   "source": [
    "bp_data$hypertension.factor <- as.factor(bp_data$hypertension)\n",
    "\n",
    "bp_data <- bp_data %>% select(-hypertension)"
   ]
  },
  {
   "cell_type": "code",
   "execution_count": 4,
   "id": "e9e879bc-e16d-4f49-83f1-707fe2fb4b75",
   "metadata": {
    "tags": []
   },
   "outputs": [],
   "source": [
    "bp_data$service.factor <- as.factor(bp_data$admission_service)\n",
    "\n",
    "bp_data <- bp_data %>% select(-admission_service)"
   ]
  },
  {
   "cell_type": "code",
   "execution_count": 5,
   "id": "42313698-6068-4f40-8900-df2abc7b4901",
   "metadata": {
    "tags": []
   },
   "outputs": [],
   "source": [
    "bp_data$body_mass_index <- as.numeric(bp_data$bmi)\n",
    "\n",
    "bp_data <- bp_data %>% select(-bmi)"
   ]
  },
  {
   "cell_type": "code",
   "execution_count": 6,
   "id": "be40af07-1fc2-40d4-96b9-1c33bea783ac",
   "metadata": {
    "tags": []
   },
   "outputs": [],
   "source": [
    "bp_data$chronic_kidney_disease <- as.factor(bp_data$ckd_diagnosis)\n",
    "\n",
    "bp_data <- bp_data %>% select(-ckd_diagnosis)\n"
   ]
  },
  {
   "cell_type": "code",
   "execution_count": 7,
   "id": "f8601028-5390-4811-97b1-d6996f7ab3d7",
   "metadata": {
    "tags": []
   },
   "outputs": [],
   "source": [
    "bp_data$ethnicity.factor <- as.factor(bp_data$ethnicity_source_value)\n",
    "bp_data = bp_data %>% select(-ethnicity_source_value)"
   ]
  },
  {
   "cell_type": "code",
   "execution_count": 8,
   "id": "784fcef4-0bfb-4acc-84bb-0281337ddcb3",
   "metadata": {
    "tags": []
   },
   "outputs": [],
   "source": [
    "bp_data <- bp_data %>%\n",
    "  mutate(\n",
    "    ethnicity.final = fct_collapse(\n",
    "      ethnicity.factor,\n",
    "      \"White\" = c(\"White: English or Welsh or Scottish or Northern Irish or British - England and Wales ethnic category 2011 census\", \n",
    "                  \"White: Irish - England and Wales ethnic category 2011 census\",\"White:Any other White background\"),\n",
    "    \"Pakistani\" = \"Asian or Asian British: Pakistani - England and Wales ethnic category 2011 census\",\"Missing\" = \"Unknown/Refuse to say\",\n",
    "    other_level = \"DEPRECATED\")\n",
    "  )"
   ]
  },
  {
   "cell_type": "code",
   "execution_count": 9,
   "id": "5c1f689b-0f4a-465f-b617-1b649de459cf",
   "metadata": {},
   "outputs": [],
   "source": [
    "bp_data$death_date <- as_date(bp_data$dod)\n",
    "bp_data <- bp_data %>% select(-dod)"
   ]
  },
  {
   "cell_type": "code",
   "execution_count": 10,
   "id": "0b71e141-bf60-4b7b-963b-7f7062c24e3b",
   "metadata": {
    "tags": []
   },
   "outputs": [],
   "source": [
    "bp_data$previous_stroke <- as.factor(bp_data$prev_stroke)\n",
    "\n",
    "bp_data <- bp_data %>% select(-prev_stroke)"
   ]
  },
  {
   "cell_type": "code",
   "execution_count": 11,
   "id": "c7c1929f-bbdc-48d0-9da1-d41f621ed548",
   "metadata": {
    "tags": []
   },
   "outputs": [],
   "source": [
    "bp_data$gender <- as.factor(bp_data$gender_source_value)\n",
    "\n",
    "bp_data <- bp_data %>% select (-gender_source_value)"
   ]
  },
  {
   "cell_type": "code",
   "execution_count": 12,
   "id": "3e27c18f-9be9-4ece-a1c8-7ab85a6f002f",
   "metadata": {},
   "outputs": [],
   "source": [
    "bp_data<- bp_data %>%  mutate(imd.factor = factor(bp_data$imd)) %>% mutate(imd.quintile =\n",
    "           fct_collapse(imd.factor,\"1\" = c(\"1\",\"2\"),\n",
    "                      \"2\"  = c(\"4\",\"3\"),\n",
    "                       \"3\" = c(\"5\",\"6\"),\n",
    "                         \"4\" = c(\"7\",\"8\"),\n",
    "                         \"5\" = c(\"9\",\"10\")))"
   ]
  },
  {
   "cell_type": "code",
   "execution_count": 13,
   "id": "956f0115-b374-4509-96f3-4bbb22044782",
   "metadata": {
    "tags": []
   },
   "outputs": [],
   "source": [
    "bp_data <-bp_data %>% \n",
    "  mutate(imd.quintile = imd.quintile %>%\n",
    "           fct_relevel(\"1\",\"2\",\"3\",\"4\",\"5\",\"missing\")\n",
    "         )"
   ]
  },
  {
   "cell_type": "code",
   "execution_count": 14,
   "id": "cf3a7318-2519-4c73-ba11-2689f3790c98",
   "metadata": {
    "tags": []
   },
   "outputs": [],
   "source": [
    "bp_data$diabetes.factor <- as.factor(bp_data$diabetes_mellitus)\n",
    "\n",
    "bp_data <- bp_data %>% select (-diabetes_mellitus)"
   ]
  },
  {
   "cell_type": "code",
   "execution_count": 15,
   "id": "9dcdf72d-92be-44c0-a0a0-5e43989c89d3",
   "metadata": {
    "tags": []
   },
   "outputs": [],
   "source": [
    "bp_data$af.factor <- as.factor(bp_data$af_diagnosis)\n",
    "\n",
    "bp_data <- bp_data %>% select (-af_diagnosis)"
   ]
  },
  {
   "cell_type": "code",
   "execution_count": 16,
   "id": "073ba6bf-a945-48c2-a14c-67acdeeff313",
   "metadata": {
    "tags": []
   },
   "outputs": [],
   "source": [
    "bp_data$hf.factor<- as.factor(bp_data$hf_diagnosis)\n",
    "\n",
    "bp_data <- bp_data %>% select (-hf_diagnosis)"
   ]
  },
  {
   "cell_type": "code",
   "execution_count": 17,
   "id": "7db99ef0-17ab-41d9-83a0-6f0ccb15fdcf",
   "metadata": {
    "tags": []
   },
   "outputs": [],
   "source": [
    "bp_data$smoking.factor <- as.factor(bp_data$smoking_status)\n",
    "\n",
    "bp_data <- bp_data %>%  select(-smoking_status)"
   ]
  },
  {
   "cell_type": "markdown",
   "id": "7f65e320-77d2-4105-9f05-9e57ef9a719b",
   "metadata": {},
   "source": [
    "code NA values for smoking status as missing factor level "
   ]
  },
  {
   "cell_type": "code",
   "execution_count": 18,
   "id": "b1b37754-3307-400b-8d22-ad46f909dbdb",
   "metadata": {
    "tags": []
   },
   "outputs": [
    {
     "data": {
      "text/html": [
       "<style>\n",
       ".list-inline {list-style: none; margin:0; padding: 0}\n",
       ".list-inline>li {display: inline-block}\n",
       ".list-inline>li:not(:last-child)::after {content: \"\\00b7\"; padding: 0 .5ex}\n",
       "</style>\n",
       "<ol class=list-inline><li>'current smoker'</li><li>'ex-smoker'</li><li>'non-smoker'</li><li>'missing'</li></ol>\n"
      ],
      "text/latex": [
       "\\begin{enumerate*}\n",
       "\\item 'current smoker'\n",
       "\\item 'ex-smoker'\n",
       "\\item 'non-smoker'\n",
       "\\item 'missing'\n",
       "\\end{enumerate*}\n"
      ],
      "text/markdown": [
       "1. 'current smoker'\n",
       "2. 'ex-smoker'\n",
       "3. 'non-smoker'\n",
       "4. 'missing'\n",
       "\n",
       "\n"
      ],
      "text/plain": [
       "[1] \"current smoker\" \"ex-smoker\"      \"non-smoker\"     \"missing\"       "
      ]
     },
     "metadata": {},
     "output_type": "display_data"
    }
   ],
   "source": [
    "bp_data$smoking.factor <- fct_na_value_to_level(bp_data$smoking.factor,\"missing\")\n",
    "           bp_data$smoking.factor %>% levels()                                 "
   ]
  },
  {
   "cell_type": "code",
   "execution_count": 19,
   "id": "e08f0ec1-de59-49ff-a6a3-2aa6ce557c41",
   "metadata": {
    "tags": []
   },
   "outputs": [],
   "source": [
    "bp_data$chd.factor <- as.factor(bp_data$chd_diagnosis)\n",
    "\n",
    "bp_data <- bp_data %>% select (-chd_diagnosis)"
   ]
  },
  {
   "cell_type": "markdown",
   "id": "05034d00-8fbb-44ab-a6b8-4968ebee7b2d",
   "metadata": {
    "tags": []
   },
   "source": [
    "create factor variable where systolic blood pressure is present or absent "
   ]
  },
  {
   "cell_type": "code",
   "execution_count": 20,
   "id": "e03ec66b-d380-492b-9b2b-ea4ca02bdb9e",
   "metadata": {
    "tags": []
   },
   "outputs": [],
   "source": [
    "bp_data <- bp_data %>% mutate(bp_present= case_when(is.na(systolic_value) ~ 'missing',systolic_value > 0 ~ 'yes'))\n",
    "\n",
    "bp_data$bp_present.factor <- as.factor(bp_data$bp_present)"
   ]
  },
  {
   "cell_type": "markdown",
   "id": "d75454ba-b74b-4e00-99b4-d8eba4f4d2dc",
   "metadata": {},
   "source": [
    "here we filter the care home cohort for those with a confirmed diagnosis of hypertension at the point of admission. all anaylsis from here on will be restricted to those with a diagnosis of hypertension"
   ]
  },
  {
   "cell_type": "code",
   "execution_count": 21,
   "id": "6dcadab8-2eca-41df-915e-754879795400",
   "metadata": {
    "tags": []
   },
   "outputs": [],
   "source": [
    "bp_data_filtered <- bp_data %>% filter(hypertension.factor == TRUE)"
   ]
  },
  {
   "cell_type": "code",
   "execution_count": 22,
   "id": "e986a326-4e57-4086-bab5-cb4cf6d8c441",
   "metadata": {
    "tags": []
   },
   "outputs": [
    {
     "data": {
      "text/html": [
       "<table class=\"dataframe\">\n",
       "<caption>A tibble: 2 × 2</caption>\n",
       "<thead>\n",
       "\t<tr><th scope=col>bp_present</th><th scope=col>n()</th></tr>\n",
       "\t<tr><th scope=col>&lt;chr&gt;</th><th scope=col>&lt;int&gt;</th></tr>\n",
       "</thead>\n",
       "<tbody>\n",
       "\t<tr><td>missing</td><td> 435</td></tr>\n",
       "\t<tr><td>yes    </td><td>1593</td></tr>\n",
       "</tbody>\n",
       "</table>\n"
      ],
      "text/latex": [
       "A tibble: 2 × 2\n",
       "\\begin{tabular}{ll}\n",
       " bp\\_present & n()\\\\\n",
       " <chr> & <int>\\\\\n",
       "\\hline\n",
       "\t missing &  435\\\\\n",
       "\t yes     & 1593\\\\\n",
       "\\end{tabular}\n"
      ],
      "text/markdown": [
       "\n",
       "A tibble: 2 × 2\n",
       "\n",
       "| bp_present &lt;chr&gt; | n() &lt;int&gt; |\n",
       "|---|---|\n",
       "| missing |  435 |\n",
       "| yes     | 1593 |\n",
       "\n"
      ],
      "text/plain": [
       "  bp_present n() \n",
       "1 missing     435\n",
       "2 yes        1593"
      ]
     },
     "metadata": {},
     "output_type": "display_data"
    }
   ],
   "source": [
    "bp_data_filtered %>% group_by(bp_present) %>% summarise(n())"
   ]
  },
  {
   "cell_type": "markdown",
   "id": "2bb7de51-393c-40f0-a736-729ea48acd98",
   "metadata": {},
   "source": [
    "here I ran some explarotry statistical inference tests to determine whether the missingness of blood pressure values varied significantly between different characteristics "
   ]
  },
  {
   "cell_type": "code",
   "execution_count": 23,
   "id": "f384fef5-a308-4a5e-bad5-406be37d37d0",
   "metadata": {
    "tags": []
   },
   "outputs": [
    {
     "data": {
      "text/plain": [
       "\n",
       "\tWelch Two Sample t-test\n",
       "\n",
       "data:  age_admission by bp_present.factor\n",
       "t = 0.35799, df = 657.65, p-value = 0.7205\n",
       "alternative hypothesis: true difference in means between group missing and group yes is not equal to 0\n",
       "95 percent confidence interval:\n",
       " -0.6876766  0.9943286\n",
       "sample estimates:\n",
       "mean in group missing     mean in group yes \n",
       "             85.54253              85.38920 \n"
      ]
     },
     "metadata": {},
     "output_type": "display_data"
    }
   ],
   "source": [
    "bp_data_filtered %>% t.test(age_admission ~ bp_present.factor,data=.)"
   ]
  },
  {
   "cell_type": "code",
   "execution_count": 24,
   "id": "cf4f336a-aef2-4174-8948-01f0dfc9ff6d",
   "metadata": {
    "tags": []
   },
   "outputs": [],
   "source": [
    "#bp_data_filtered %>% t.test(efi2~ bp_present.factor,data=.)"
   ]
  },
  {
   "cell_type": "markdown",
   "id": "0a43df2a-50e5-4816-abe8-d24d3a2940ca",
   "metadata": {},
   "source": [
    "created a new factor variable based on whether blood pressure target was above or below NICE guidelines"
   ]
  },
  {
   "cell_type": "code",
   "execution_count": 25,
   "id": "93359976-5354-4eef-87b6-e684eaa1ea53",
   "metadata": {
    "tags": []
   },
   "outputs": [],
   "source": [
    "\n",
    "\n",
    "bp_data_filtered <- bp_data_filtered %>%  mutate(bp_target= if_else(systolic_value>=150 & age_admission >= 80| systolic_value>=140 & age_admission <80, \"above\",\"below\", missing=NULL))"
   ]
  },
  {
   "cell_type": "code",
   "execution_count": 26,
   "id": "731bfcac-47ff-45ce-8a83-a64f82a17b9d",
   "metadata": {
    "tags": []
   },
   "outputs": [
    {
     "data": {
      "image/png": "[encoded data removed]",
      "text/plain": [
       "plot without title"
      ]
     },
     "metadata": {
      "image/png": {
       "height": 420,
       "width": 420
      }
     },
     "output_type": "display_data"
    }
   ],
   "source": [
    "bp_data_filtered %>% filter(systolic_value >0) %>%  ggplot(aes(x= bp_target ))+geom_bar() + theme_bw()  + labs(y= \"number of residents\", title= \"Hypertension control in care home residents\")"
   ]
  },
  {
   "cell_type": "code",
   "execution_count": 28,
   "id": "56f92ac1-a858-4afb-94f3-d8b2f3389d8c",
   "metadata": {
    "tags": []
   },
   "outputs": [
    {
     "data": {
      "text/html": [
       "<table class=\"dataframe\">\n",
       "<caption>A data.frame.ff: 2 × 4</caption>\n",
       "<thead>\n",
       "\t<tr><th scope=col>label</th><th scope=col>levels</th><th scope=col>missing</th><th scope=col>yes</th></tr>\n",
       "\t<tr><th scope=col>&lt;chr&gt;</th><th scope=col>&lt;chr&gt;</th><th scope=col>&lt;chr&gt;</th><th scope=col>&lt;chr&gt;</th></tr>\n",
       "</thead>\n",
       "<tbody>\n",
       "\t<tr><td>hypertension.factor</td><td>FALSE</td><td>0 (0.0)    </td><td>0 (0.0)     </td></tr>\n",
       "\t<tr><td>                   </td><td>TRUE </td><td>435 (100.0)</td><td>1593 (100.0)</td></tr>\n",
       "</tbody>\n",
       "</table>\n"
      ],
      "text/latex": [
       "A data.frame.ff: 2 × 4\n",
       "\\begin{tabular}{llll}\n",
       " label & levels & missing & yes\\\\\n",
       " <chr> & <chr> & <chr> & <chr>\\\\\n",
       "\\hline\n",
       "\t hypertension.factor & FALSE & 0 (0.0)     & 0 (0.0)     \\\\\n",
       "\t                     & TRUE  & 435 (100.0) & 1593 (100.0)\\\\\n",
       "\\end{tabular}\n"
      ],
      "text/markdown": [
       "\n",
       "A data.frame.ff: 2 × 4\n",
       "\n",
       "| label &lt;chr&gt; | levels &lt;chr&gt; | missing &lt;chr&gt; | yes &lt;chr&gt; |\n",
       "|---|---|---|---|\n",
       "| hypertension.factor | FALSE | 0 (0.0)     | 0 (0.0)      |\n",
       "| <!----> | TRUE  | 435 (100.0) | 1593 (100.0) |\n",
       "\n"
      ],
      "text/plain": [
       "  label               levels missing     yes         \n",
       "1 hypertension.factor FALSE  0 (0.0)     0 (0.0)     \n",
       "2                     TRUE   435 (100.0) 1593 (100.0)"
      ]
     },
     "metadata": {},
     "output_type": "display_data"
    }
   ],
   "source": [
    "library(finalfit)\n",
    "bp_data_filtered %>%  \n",
    "summary_factorlist(dependent= \"bp_present.factor\",\n",
    "                   explanatory= c(\"hypertension.factor\")\n",
    "                   )\n"
   ]
  },
  {
   "cell_type": "code",
   "execution_count": 29,
   "id": "b86bdb1b-667e-482a-befe-1135f7b830ec",
   "metadata": {
    "tags": []
   },
   "outputs": [
    {
     "name": "stderr",
     "output_type": "stream",
     "text": [
      "No dependent variable(s) provided; defaulting to single-level factor\n",
      "\n"
     ]
    },
    {
     "data": {
      "text/html": [
       "<table class=\"dataframe\">\n",
       "<caption>A data.frame.ff: 8 × 3</caption>\n",
       "<thead>\n",
       "\t<tr><th scope=col>label</th><th scope=col>levels</th><th scope=col>all</th></tr>\n",
       "\t<tr><th scope=col>&lt;chr&gt;</th><th scope=col>&lt;chr&gt;</th><th scope=col>&lt;chr&gt;</th></tr>\n",
       "</thead>\n",
       "<tbody>\n",
       "\t<tr><td>imd.quintile   </td><td>1      </td><td>593 (29.3) </td></tr>\n",
       "\t<tr><td>               </td><td>2      </td><td>334 (16.5) </td></tr>\n",
       "\t<tr><td>               </td><td>3      </td><td>450 (22.2) </td></tr>\n",
       "\t<tr><td>               </td><td>4      </td><td>255 (12.6) </td></tr>\n",
       "\t<tr><td>               </td><td>5      </td><td>333 (16.4) </td></tr>\n",
       "\t<tr><td>               </td><td>missing</td><td>62 (3.1)   </td></tr>\n",
       "\t<tr><td>previous_stroke</td><td>no     </td><td>1943 (95.8)</td></tr>\n",
       "\t<tr><td>               </td><td>yes    </td><td>85 (4.2)   </td></tr>\n",
       "</tbody>\n",
       "</table>\n"
      ],
      "text/latex": [
       "A data.frame.ff: 8 × 3\n",
       "\\begin{tabular}{lll}\n",
       " label & levels & all\\\\\n",
       " <chr> & <chr> & <chr>\\\\\n",
       "\\hline\n",
       "\t imd.quintile    & 1       & 593 (29.3) \\\\\n",
       "\t                 & 2       & 334 (16.5) \\\\\n",
       "\t                 & 3       & 450 (22.2) \\\\\n",
       "\t                 & 4       & 255 (12.6) \\\\\n",
       "\t                 & 5       & 333 (16.4) \\\\\n",
       "\t                 & missing & 62 (3.1)   \\\\\n",
       "\t previous\\_stroke & no      & 1943 (95.8)\\\\\n",
       "\t                 & yes     & 85 (4.2)   \\\\\n",
       "\\end{tabular}\n"
      ],
      "text/markdown": [
       "\n",
       "A data.frame.ff: 8 × 3\n",
       "\n",
       "| label &lt;chr&gt; | levels &lt;chr&gt; | all &lt;chr&gt; |\n",
       "|---|---|---|\n",
       "| imd.quintile    | 1       | 593 (29.3)  |\n",
       "| <!----> | 2       | 334 (16.5)  |\n",
       "| <!----> | 3       | 450 (22.2)  |\n",
       "| <!----> | 4       | 255 (12.6)  |\n",
       "| <!----> | 5       | 333 (16.4)  |\n",
       "| <!----> | missing | 62 (3.1)    |\n",
       "| previous_stroke | no      | 1943 (95.8) |\n",
       "| <!----> | yes     | 85 (4.2)    |\n",
       "\n"
      ],
      "text/plain": [
       "  label           levels  all        \n",
       "1 imd.quintile    1       593 (29.3) \n",
       "2                 2       334 (16.5) \n",
       "3                 3       450 (22.2) \n",
       "4                 4       255 (12.6) \n",
       "5                 5       333 (16.4) \n",
       "6                 missing 62 (3.1)   \n",
       "7 previous_stroke no      1943 (95.8)\n",
       "8                 yes     85 (4.2)   "
      ]
     },
     "metadata": {},
     "output_type": "display_data"
    }
   ],
   "source": [
    "bp_data_filtered %>% \n",
    "  summary_factorlist(dependent = NULL, \n",
    "                     explanatory = \n",
    "                       c(\"imd.quintile\", \"previous_stroke\")\n",
    "  )"
   ]
  },
  {
   "cell_type": "markdown",
   "id": "74743e00-2b5f-453d-bd6e-a5881b79d449",
   "metadata": {
    "tags": []
   },
   "source": [
    "### demographics table"
   ]
  },
  {
   "cell_type": "code",
   "execution_count": 49,
   "id": "e527b101-be40-415a-9707-a595d56a5709",
   "metadata": {
    "tags": []
   },
   "outputs": [
    {
     "name": "stderr",
     "output_type": "stream",
     "text": [
      "Warning message:\n",
      "“\u001b[1m\u001b[22mRemoved 103 rows containing non-finite outside the scale range (`stat_bin()`).”\n",
      "Warning message:\n",
      "“\u001b[1m\u001b[22mRemoved 2 rows containing missing values or values outside the scale range\n",
      "(`geom_bar()`).”\n",
      "Warning message:\n",
      "“\u001b[1m\u001b[22mRemoved 103 rows containing non-finite outside the scale range (`stat_bin()`).”\n",
      "Warning message:\n",
      "“\u001b[1m\u001b[22mRemoved 2 rows containing missing values or values outside the scale range\n",
      "(`geom_bar()`).”\n"
     ]
    },
    {
     "data": {
      "image/png": "[encoded data removed]",
      "text/plain": [
       "plot without title"
      ]
     },
     "metadata": {
      "image/png": {
       "height": 420,
       "width": 420
      }
     },
     "output_type": "display_data"
    }
   ],
   "source": [
    "\n",
    "bp_data_filtered %>% ggplot(aes(x=mortality))+geom_histogram(binwidth = 30,col=\"black\",fill=\"turquoise\")+\n",
    "geom_vline(xintercept = 10, color = \"red\", linetype = \"dashed\", linewidth = 1) +\n",
    "labs(title = \"Life Expectancy at admission\",x=\"Life expectancy (days)\",y=\"Frequency\")+\n",
    "theme_bw()+xlim(1.2,3000) + \n",
    "annotate(\"text\", x = 2, y = -5, label = \"6 weeks\")+annotate(\"text\",x=28,y=300, label= \"Median life expetancy: 11 months\")\n",
    "\n",
    "ggsave(\"life_exp_hist.png\", width = 10, height = 10)"
   ]
  },
  {
   "cell_type": "code",
   "execution_count": 31,
   "id": "725fc7e6-47a4-4855-8094-a8da16a86db2",
   "metadata": {
    "tags": []
   },
   "outputs": [
    {
     "name": "stderr",
     "output_type": "stream",
     "text": [
      "No dependent variable(s) provided; defaulting to single-level factor\n",
      "\n"
     ]
    },
    {
     "data": {
      "text/html": [
       "<table class=\"dataframe\">\n",
       "<caption>A data.frame.ff: 22 × 3</caption>\n",
       "<thead>\n",
       "\t<tr><th scope=col>label</th><th scope=col>levels</th><th scope=col>all</th></tr>\n",
       "\t<tr><th scope=col>&lt;chr&gt;</th><th scope=col>&lt;chr&gt;</th><th scope=col>&lt;chr&gt;</th></tr>\n",
       "</thead>\n",
       "<tbody>\n",
       "\t<tr><td>Age at admission</td><td>Mean (SD)  </td><td>85.4 (7.6)   </td></tr>\n",
       "\t<tr><td>Service Type    </td><td>Nursing    </td><td>1140 (56.2)  </td></tr>\n",
       "\t<tr><td>                </td><td>Residential</td><td>888 (43.8)   </td></tr>\n",
       "\t<tr><td>gender          </td><td>F          </td><td>1329 (65.5)  </td></tr>\n",
       "\t<tr><td>                </td><td>M          </td><td>699 (34.5)   </td></tr>\n",
       "\t<tr><td>imd             </td><td>1          </td><td>409 (20.2)   </td></tr>\n",
       "\t<tr><td>                </td><td>10         </td><td>180 (8.9)    </td></tr>\n",
       "\t<tr><td>                </td><td>2          </td><td>184 (9.1)    </td></tr>\n",
       "\t<tr><td>                </td><td>3          </td><td>218 (10.8)   </td></tr>\n",
       "\t<tr><td>                </td><td>4          </td><td>116 (5.7)    </td></tr>\n",
       "\t<tr><td>                </td><td>5          </td><td>184 (9.1)    </td></tr>\n",
       "\t<tr><td>                </td><td>6          </td><td>266 (13.1)   </td></tr>\n",
       "\t<tr><td>                </td><td>7          </td><td>146 (7.2)    </td></tr>\n",
       "\t<tr><td>                </td><td>8          </td><td>109 (5.4)    </td></tr>\n",
       "\t<tr><td>                </td><td>9          </td><td>153 (7.5)    </td></tr>\n",
       "\t<tr><td>                </td><td>missing    </td><td>62 (3.1)     </td></tr>\n",
       "\t<tr><td>Ethnicity       </td><td>Pakistani  </td><td>8 (0.4)      </td></tr>\n",
       "\t<tr><td>                </td><td>Missing    </td><td>395 (19.5)   </td></tr>\n",
       "\t<tr><td>                </td><td>White      </td><td>1574 (77.6)  </td></tr>\n",
       "\t<tr><td>                </td><td>DEPRECATED </td><td>51 (2.5)     </td></tr>\n",
       "\t<tr><td>Admission length</td><td>Mean (SD)  </td><td>649.9 (565.2)</td></tr>\n",
       "\t<tr><td>Lifespan        </td><td>Mean (SD)  </td><td>646.3 (554.5)</td></tr>\n",
       "</tbody>\n",
       "</table>\n"
      ],
      "text/latex": [
       "A data.frame.ff: 22 × 3\n",
       "\\begin{tabular}{lll}\n",
       " label & levels & all\\\\\n",
       " <chr> & <chr> & <chr>\\\\\n",
       "\\hline\n",
       "\t Age at admission & Mean (SD)   & 85.4 (7.6)   \\\\\n",
       "\t Service Type     & Nursing     & 1140 (56.2)  \\\\\n",
       "\t                  & Residential & 888 (43.8)   \\\\\n",
       "\t gender           & F           & 1329 (65.5)  \\\\\n",
       "\t                  & M           & 699 (34.5)   \\\\\n",
       "\t imd              & 1           & 409 (20.2)   \\\\\n",
       "\t                  & 10          & 180 (8.9)    \\\\\n",
       "\t                  & 2           & 184 (9.1)    \\\\\n",
       "\t                  & 3           & 218 (10.8)   \\\\\n",
       "\t                  & 4           & 116 (5.7)    \\\\\n",
       "\t                  & 5           & 184 (9.1)    \\\\\n",
       "\t                  & 6           & 266 (13.1)   \\\\\n",
       "\t                  & 7           & 146 (7.2)    \\\\\n",
       "\t                  & 8           & 109 (5.4)    \\\\\n",
       "\t                  & 9           & 153 (7.5)    \\\\\n",
       "\t                  & missing     & 62 (3.1)     \\\\\n",
       "\t Ethnicity        & Pakistani   & 8 (0.4)      \\\\\n",
       "\t                  & Missing     & 395 (19.5)   \\\\\n",
       "\t                  & White       & 1574 (77.6)  \\\\\n",
       "\t                  & DEPRECATED  & 51 (2.5)     \\\\\n",
       "\t Admission length & Mean (SD)   & 649.9 (565.2)\\\\\n",
       "\t Lifespan         & Mean (SD)   & 646.3 (554.5)\\\\\n",
       "\\end{tabular}\n"
      ],
      "text/markdown": [
       "\n",
       "A data.frame.ff: 22 × 3\n",
       "\n",
       "| label &lt;chr&gt; | levels &lt;chr&gt; | all &lt;chr&gt; |\n",
       "|---|---|---|\n",
       "| Age at admission | Mean (SD)   | 85.4 (7.6)    |\n",
       "| Service Type     | Nursing     | 1140 (56.2)   |\n",
       "| <!----> | Residential | 888 (43.8)    |\n",
       "| gender           | F           | 1329 (65.5)   |\n",
       "| <!----> | M           | 699 (34.5)    |\n",
       "| imd              | 1           | 409 (20.2)    |\n",
       "| <!----> | 10          | 180 (8.9)     |\n",
       "| <!----> | 2           | 184 (9.1)     |\n",
       "| <!----> | 3           | 218 (10.8)    |\n",
       "| <!----> | 4           | 116 (5.7)     |\n",
       "| <!----> | 5           | 184 (9.1)     |\n",
       "| <!----> | 6           | 266 (13.1)    |\n",
       "| <!----> | 7           | 146 (7.2)     |\n",
       "| <!----> | 8           | 109 (5.4)     |\n",
       "| <!----> | 9           | 153 (7.5)     |\n",
       "| <!----> | missing     | 62 (3.1)      |\n",
       "| Ethnicity        | Pakistani   | 8 (0.4)       |\n",
       "| <!----> | Missing     | 395 (19.5)    |\n",
       "| <!----> | White       | 1574 (77.6)   |\n",
       "| <!----> | DEPRECATED  | 51 (2.5)      |\n",
       "| Admission length | Mean (SD)   | 649.9 (565.2) |\n",
       "| Lifespan         | Mean (SD)   | 646.3 (554.5) |\n",
       "\n"
      ],
      "text/plain": [
       "   label            levels      all          \n",
       "1  Age at admission Mean (SD)   85.4 (7.6)   \n",
       "2  Service Type     Nursing     1140 (56.2)  \n",
       "3                   Residential 888 (43.8)   \n",
       "4  gender           F           1329 (65.5)  \n",
       "5                   M           699 (34.5)   \n",
       "6  imd              1           409 (20.2)   \n",
       "7                   10          180 (8.9)    \n",
       "8                   2           184 (9.1)    \n",
       "9                   3           218 (10.8)   \n",
       "10                  4           116 (5.7)    \n",
       "11                  5           184 (9.1)    \n",
       "12                  6           266 (13.1)   \n",
       "13                  7           146 (7.2)    \n",
       "14                  8           109 (5.4)    \n",
       "15                  9           153 (7.5)    \n",
       "16                  missing     62 (3.1)     \n",
       "17 Ethnicity        Pakistani   8 (0.4)      \n",
       "18                  Missing     395 (19.5)   \n",
       "19                  White       1574 (77.6)  \n",
       "20                  DEPRECATED  51 (2.5)     \n",
       "21 Admission length Mean (SD)   649.9 (565.2)\n",
       "22 Lifespan         Mean (SD)   646.3 (554.5)"
      ]
     },
     "metadata": {},
     "output_type": "display_data"
    }
   ],
   "source": [
    "bp_data_filtered %>% \n",
    "  mutate(\n",
    "        age_admission = ff_label(age_admission, \"Age at admission\"),\n",
    "      service.factor = ff_label(service.factor,\"Service Type\"),\n",
    "      ethnicity.final = ff_label(ethnicity.final,\"Ethnicity\"),\n",
    "      admission_length = ff_label(admission_length,\"Admission length\"),\n",
    "      mortality = ff_label(mortality,\"Lifespan\"),\n",
    "    ) %>% \n",
    "summary_factorlist(dependent= NULL, explanatory = c(\"age_admission\",\"service.factor\",\"gender\",\"imd\",\"ethnicity.final\",\"admission_length\",\"mortality\") ) "
   ]
  },
  {
   "cell_type": "markdown",
   "id": "a789888e-b934-409e-adb4-0794b00b5e2f",
   "metadata": {
    "tags": []
   },
   "source": [
    "## Cardiovascular Risk Factors "
   ]
  },
  {
   "cell_type": "code",
   "execution_count": 32,
   "id": "5060a6f7-2f43-4b70-947f-40a7ce4e5b38",
   "metadata": {
    "tags": []
   },
   "outputs": [
    {
     "name": "stderr",
     "output_type": "stream",
     "text": [
      "No dependent variable(s) provided; defaulting to single-level factor\n",
      "\n"
     ]
    },
    {
     "data": {
      "text/html": [
       "<table class=\"dataframe\">\n",
       "<caption>A data.frame.ff: 15 × 3</caption>\n",
       "<thead>\n",
       "\t<tr><th scope=col>label</th><th scope=col>levels</th><th scope=col>all</th></tr>\n",
       "\t<tr><th scope=col>&lt;chr&gt;</th><th scope=col>&lt;chr&gt;</th><th scope=col>&lt;chr&gt;</th></tr>\n",
       "</thead>\n",
       "<tbody>\n",
       "\t<tr><td>age_admission         </td><td>Mean (SD)     </td><td>85.4 (7.6) </td></tr>\n",
       "\t<tr><td>body_mass_index       </td><td>Mean (SD)     </td><td>24.8 (6.8) </td></tr>\n",
       "\t<tr><td>af.factor             </td><td>no            </td><td>1561 (77.3)</td></tr>\n",
       "\t<tr><td>                      </td><td>yes           </td><td>459 (22.7) </td></tr>\n",
       "\t<tr><td>chronic_kidney_disease</td><td>yes           </td><td>715 (100.0)</td></tr>\n",
       "\t<tr><td>hf.factor             </td><td>yes           </td><td>331 (100.0)</td></tr>\n",
       "\t<tr><td>chd.factor            </td><td>yes           </td><td>505 (100.0)</td></tr>\n",
       "\t<tr><td>diabetes.factor       </td><td>no            </td><td>1453 (71.6)</td></tr>\n",
       "\t<tr><td>                      </td><td>yes           </td><td>575 (28.4) </td></tr>\n",
       "\t<tr><td>smoking.factor        </td><td>current smoker</td><td>176 (8.7)  </td></tr>\n",
       "\t<tr><td>                      </td><td>ex-smoker     </td><td>704 (34.7) </td></tr>\n",
       "\t<tr><td>                      </td><td>non-smoker    </td><td>1128 (55.6)</td></tr>\n",
       "\t<tr><td>                      </td><td>missing       </td><td>20 (1.0)   </td></tr>\n",
       "\t<tr><td>previous_stroke       </td><td>no            </td><td>1943 (95.8)</td></tr>\n",
       "\t<tr><td>                      </td><td>yes           </td><td>85 (4.2)   </td></tr>\n",
       "</tbody>\n",
       "</table>\n"
      ],
      "text/latex": [
       "A data.frame.ff: 15 × 3\n",
       "\\begin{tabular}{lll}\n",
       " label & levels & all\\\\\n",
       " <chr> & <chr> & <chr>\\\\\n",
       "\\hline\n",
       "\t age\\_admission          & Mean (SD)      & 85.4 (7.6) \\\\\n",
       "\t body\\_mass\\_index        & Mean (SD)      & 24.8 (6.8) \\\\\n",
       "\t af.factor              & no             & 1561 (77.3)\\\\\n",
       "\t                        & yes            & 459 (22.7) \\\\\n",
       "\t chronic\\_kidney\\_disease & yes            & 715 (100.0)\\\\\n",
       "\t hf.factor              & yes            & 331 (100.0)\\\\\n",
       "\t chd.factor             & yes            & 505 (100.0)\\\\\n",
       "\t diabetes.factor        & no             & 1453 (71.6)\\\\\n",
       "\t                        & yes            & 575 (28.4) \\\\\n",
       "\t smoking.factor         & current smoker & 176 (8.7)  \\\\\n",
       "\t                        & ex-smoker      & 704 (34.7) \\\\\n",
       "\t                        & non-smoker     & 1128 (55.6)\\\\\n",
       "\t                        & missing        & 20 (1.0)   \\\\\n",
       "\t previous\\_stroke        & no             & 1943 (95.8)\\\\\n",
       "\t                        & yes            & 85 (4.2)   \\\\\n",
       "\\end{tabular}\n"
      ],
      "text/markdown": [
       "\n",
       "A data.frame.ff: 15 × 3\n",
       "\n",
       "| label &lt;chr&gt; | levels &lt;chr&gt; | all &lt;chr&gt; |\n",
       "|---|---|---|\n",
       "| age_admission          | Mean (SD)      | 85.4 (7.6)  |\n",
       "| body_mass_index        | Mean (SD)      | 24.8 (6.8)  |\n",
       "| af.factor              | no             | 1561 (77.3) |\n",
       "| <!----> | yes            | 459 (22.7)  |\n",
       "| chronic_kidney_disease | yes            | 715 (100.0) |\n",
       "| hf.factor              | yes            | 331 (100.0) |\n",
       "| chd.factor             | yes            | 505 (100.0) |\n",
       "| diabetes.factor        | no             | 1453 (71.6) |\n",
       "| <!----> | yes            | 575 (28.4)  |\n",
       "| smoking.factor         | current smoker | 176 (8.7)   |\n",
       "| <!----> | ex-smoker      | 704 (34.7)  |\n",
       "| <!----> | non-smoker     | 1128 (55.6) |\n",
       "| <!----> | missing        | 20 (1.0)    |\n",
       "| previous_stroke        | no             | 1943 (95.8) |\n",
       "| <!----> | yes            | 85 (4.2)    |\n",
       "\n"
      ],
      "text/plain": [
       "   label                  levels         all        \n",
       "1  age_admission          Mean (SD)      85.4 (7.6) \n",
       "2  body_mass_index        Mean (SD)      24.8 (6.8) \n",
       "3  af.factor              no             1561 (77.3)\n",
       "4                         yes            459 (22.7) \n",
       "5  chronic_kidney_disease yes            715 (100.0)\n",
       "6  hf.factor              yes            331 (100.0)\n",
       "7  chd.factor             yes            505 (100.0)\n",
       "8  diabetes.factor        no             1453 (71.6)\n",
       "9                         yes            575 (28.4) \n",
       "10 smoking.factor         current smoker 176 (8.7)  \n",
       "11                        ex-smoker      704 (34.7) \n",
       "12                        non-smoker     1128 (55.6)\n",
       "13                        missing        20 (1.0)   \n",
       "14 previous_stroke        no             1943 (95.8)\n",
       "15                        yes            85 (4.2)   "
      ]
     },
     "metadata": {},
     "output_type": "display_data"
    }
   ],
   "source": [
    "bp_data_filtered %>% \n",
    "\n",
    "summary_factorlist(dependent= NULL, explanatory = c(\"age_admission\",\"body_mass_index\",\"af.factor\",\"chronic_kidney_disease\",\"hf.factor\",\"chd.factor\",\"diabetes.factor\",\"smoking.factor\",\"previous_stroke\") )"
   ]
  },
  {
   "cell_type": "markdown",
   "id": "fb9d8cd0-e47e-44a1-89ff-9bc675c55116",
   "metadata": {
    "jp-MarkdownHeadingCollapsed": true,
    "tags": []
   },
   "source": [
    "## Electronic frailty index 2"
   ]
  },
  {
   "cell_type": "code",
   "execution_count": null,
   "id": "bc09892d-6080-4f96-852a-480a043a8ad7",
   "metadata": {
    "tags": []
   },
   "outputs": [],
   "source": [
    "bp_data <- bp_data %>% \n",
    "  mutate(\n",
    "    efi2.factor = \n",
    "      efi2 %>%\n",
    "      cut(breaks = c(0,0.12,0.24,0.36,0.999), include.lowest= TRUE) %>% \n",
    "      fct_recode(\n",
    "        \"fit\"      =  \"[0,0.12]\",\n",
    "        \"mild frailty\" = \"(0.12,0.24]\",\n",
    "        \"moderate frailty\" = \"(0.24,0.36]\",\n",
    "        \"severe frailty\"  = \"(0.36,0.999]\"\n",
    "      ) %>% \n",
    "      ff_label(\"Efi2 category\"))\n",
    "\n"
   ]
  },
  {
   "cell_type": "code",
   "execution_count": null,
   "id": "8bde2c56-747c-4076-b936-7082d3e1c427",
   "metadata": {
    "tags": []
   },
   "outputs": [],
   "source": [
    "bp_data %>% summary_factorlist(dependent = c(\"service.factor\"),explanatory=c(\"efi2.factor\"))"
   ]
  },
  {
   "cell_type": "code",
   "execution_count": null,
   "id": "8c6a144c-abfb-49b7-97df-93ceb8bfe311",
   "metadata": {
    "tags": []
   },
   "outputs": [],
   "source": [
    "efi2 <- bp_data %>% group_by(efi2.factor,service.factor) %>% summarise(freq=n())%>% mutate(percentage=(round(freq/sum(freq),3))*100)\n",
    "\n",
    "efi2"
   ]
  },
  {
   "cell_type": "code",
   "execution_count": null,
   "id": "25626b27-4252-47df-a76c-9d5de064c257",
   "metadata": {
    "tags": []
   },
   "outputs": [],
   "source": [
    "efi2%>%  ggplot(aes(fill=service.factor,x=efi2.factor,y= percentage))+ geom_col(fill='dark green') + theme_bw()+labs(x= \"Electronic frailty index 2\")+expand_limits(y=100)+geom_text(aes(label = percentage),vjust = 0)"
   ]
  },
  {
   "cell_type": "code",
   "execution_count": null,
   "id": "5aac49b4-f57b-4395-9f5e-df21774d7650",
   "metadata": {
    "tags": []
   },
   "outputs": [],
   "source": [
    "bp_data %>% \n",
    "\n",
    "summary_factorlist(dependent= NULL, explanatory = c(\"efi2\",\"efall_value\") )"
   ]
  },
  {
   "cell_type": "code",
   "execution_count": null,
   "id": "562ad672-7c01-4408-a33f-6f4e0f887d4b",
   "metadata": {
    "tags": []
   },
   "outputs": [],
   "source": [
    "bp_data %>%  ggplot(aes(x= life_exp ))+ geom_histogram(bins=50) + theme_bw()"
   ]
  },
  {
   "cell_type": "markdown",
   "id": "cce6916f-3f93-4b22-97d5-8a11bddddcbd",
   "metadata": {
    "tags": []
   },
   "source": [
    "## Hypertension Prevalence"
   ]
  },
  {
   "cell_type": "code",
   "execution_count": null,
   "id": "f01cc378-f7a0-4541-b294-fbc6ce59ae25",
   "metadata": {
    "tags": []
   },
   "outputs": [],
   "source": [
    "is.na(bp_data$hypertension.factor)\n",
    "#levels(bp_data$hypertension.factor)"
   ]
  },
  {
   "cell_type": "code",
   "execution_count": null,
   "id": "76c28384-8a3b-4339-a912-80a1ac7d0fcb",
   "metadata": {
    "tags": []
   },
   "outputs": [],
   "source": [
    "bp_data %>% summary_factorlist(dependent=NULL, explanatory = c(\"hypertension.factor\"),na_to_prop=TRUE)"
   ]
  },
  {
   "cell_type": "code",
   "execution_count": 33,
   "id": "a3820d02-d30b-4c82-82d4-06859269b50d",
   "metadata": {
    "tags": []
   },
   "outputs": [
    {
     "data": {
      "text/plain": [
       "\n",
       "\tExact binomial test\n",
       "\n",
       "data:  2028 and (766 + 2028)\n",
       "number of successes = 2028, number of trials = 2794, p-value < 2.2e-16\n",
       "alternative hypothesis: true probability of success is not equal to 0.5\n",
       "95 percent confidence interval:\n",
       " 0.7088905 0.7423173\n",
       "sample estimates:\n",
       "probability of success \n",
       "             0.7258411 \n"
      ]
     },
     "metadata": {},
     "output_type": "display_data"
    }
   ],
   "source": [
    " binom.test(2028,(766+2028), conf.level = 0.95)"
   ]
  },
  {
   "cell_type": "code",
   "execution_count": null,
   "id": "6a8c1656-c40f-4991-9fc6-18f138678fb8",
   "metadata": {
    "tags": []
   },
   "outputs": [],
   "source": [
    "bp_data$bp_reading_factor <- as.factor(bp_data$bp_present)"
   ]
  },
  {
   "cell_type": "markdown",
   "id": "85e8ab0c-3f96-4bbf-a6ea-c8ae758c20d0",
   "metadata": {
    "tags": []
   },
   "source": [
    "# Antihypertensive medicaiton "
   ]
  },
  {
   "cell_type": "code",
   "execution_count": null,
   "id": "f8aeb764-1fed-4425-a46d-1841e8e2b9e3",
   "metadata": {
    "tags": []
   },
   "outputs": [],
   "source": [
    "sql_med<- paste('SELECT * from `CB_2172.cb_2172_antihypertensive_long_format` where person_id in (select person_id from ',targetdb3,'.care_home_cohort_v1) ;',sep=\"\")\n",
    "\n",
    "tbl_med <-bq_project_query(ProjectId,sql_med)\n",
    "\n",
    "tbl_med <- bq_table_download(tbl_med)\n",
    "\n",
    "tbl_med_f <- tbl_med %>% filter(early_death == 'false')\n",
    "#still need to exclude those with a death\n",
    "str(tbl_med)"
   ]
  },
  {
   "cell_type": "code",
   "execution_count": null,
   "id": "702dd121-bb0c-42fc-bba9-b6cdd458804e",
   "metadata": {
    "tags": []
   },
   "outputs": [],
   "source": [
    "#switch time_status and medication binary variables to factor variables \n",
    "tbl_med_f$time_status.factor <- as.factor(tbl_med_f$time_status)\n",
    "\n",
    "tbl_med_f <- tbl_med_f %>% select(-time_status)"
   ]
  },
  {
   "cell_type": "markdown",
   "id": "4786a0a7-efad-4299-b9aa-0a4fd33b8fe3",
   "metadata": {},
   "source": [
    "### this section will produce a table of the type of antihypertensives prescribed and how this changes during admission in those with hypertension"
   ]
  },
  {
   "cell_type": "code",
   "execution_count": null,
   "id": "f0f379c3-cbd6-4e1e-b7d8-c9136cf6fd1f",
   "metadata": {
    "tags": []
   },
   "outputs": [],
   "source": [
    "str(tbl_med_f)"
   ]
  },
  {
   "cell_type": "code",
   "execution_count": null,
   "id": "b1c13088-d4ef-4a3d-ac36-5c12e5483f35",
   "metadata": {
    "tags": []
   },
   "outputs": [],
   "source": [
    "tbl_med_class <-tbl_med_f"
   ]
  },
  {
   "cell_type": "code",
   "execution_count": null,
   "id": "28e30b5f-da20-4a3c-b398-68f503d14847",
   "metadata": {
    "tags": []
   },
   "outputs": [],
   "source": [
    "tbl_med_class$beta_blocker.factor <- as.factor(tbl_med_class$beta_blocker)\n",
    "\n",
    "tbl_med <- tbl_med_class %>% select(-beta_blocker)"
   ]
  },
  {
   "cell_type": "code",
   "execution_count": null,
   "id": "8af10db9-7ff7-4e94-8a75-051e436f5bdd",
   "metadata": {
    "tags": []
   },
   "outputs": [],
   "source": [
    "tbl_med_class$calcium_channel_blocker.factor <- as.factor(tbl_med_class$calcium_channel_blocker)\n",
    "\n",
    "tbl_med_class <- tbl_med_class %>% select(-calcium_channel_blocker)"
   ]
  },
  {
   "cell_type": "code",
   "execution_count": null,
   "id": "92a637d0-2364-4c06-b55a-1716b6a59478",
   "metadata": {
    "tags": []
   },
   "outputs": [],
   "source": [
    "tbl_med_class$thiazide.factor <- as.factor(tbl_med_class$thiazide_type_diuretic)\n",
    "\n",
    "tbl_med_class <- tbl_med_class %>% select(-thiazide_type_diuretic)"
   ]
  },
  {
   "cell_type": "code",
   "execution_count": null,
   "id": "cb3493cc-0e3c-4af1-99be-f99b3d7b8cb1",
   "metadata": {
    "tags": []
   },
   "outputs": [],
   "source": [
    "tbl_med_class$angiotensin_receptor_blocker.factor <- as.factor(tbl_med_class$angiotensin_receptor_blocker)\n",
    "\n",
    "tbl_med_class <- tbl_med_class %>% select(-angiotensin_receptor_blocker)"
   ]
  },
  {
   "cell_type": "code",
   "execution_count": null,
   "id": "8037496b-1cde-44c4-bcec-aa78dacb5eb6",
   "metadata": {
    "tags": []
   },
   "outputs": [],
   "source": [
    "tbl_med_class$ace_inhibitor.factor <- as.factor(tbl_med_class$ace_inhibitor)\n",
    "\n",
    "tbl_med_class <- tbl_med_class %>% select(-ace_inhibitor)"
   ]
  },
  {
   "cell_type": "code",
   "execution_count": null,
   "id": "a80971c2-50e7-4f4d-93d2-c4d467bce607",
   "metadata": {
    "tags": []
   },
   "outputs": [],
   "source": [
    "tbl_med_class$alpha_blocker.factor <- as.factor(tbl_med_class$alpha_blocker)\n",
    "\n",
    "tbl_med_class <- tbl_med_class %>% select(-alpha_blocker)\n"
   ]
  },
  {
   "cell_type": "code",
   "execution_count": null,
   "id": "43d2b53d-60de-4d41-af5d-d81693c1feef",
   "metadata": {
    "tags": []
   },
   "outputs": [],
   "source": [
    "tbl_med_class$early_death.factor <- as.factor(tbl_med_class$early_death)\n",
    "\n",
    "tbl_med_class <- tbl_med_class %>% select(-early_death)"
   ]
  },
  {
   "cell_type": "code",
   "execution_count": null,
   "id": "95b6264d-2519-4b89-823b-122af1517936",
   "metadata": {
    "tags": []
   },
   "outputs": [],
   "source": [
    "tbl_med$time_status.factor %>% levels()"
   ]
  },
  {
   "cell_type": "code",
   "execution_count": null,
   "id": "2d8dd4a3-3069-49f1-88d7-5e218b8d1699",
   "metadata": {
    "tags": []
   },
   "outputs": [],
   "source": [
    " tbl_med_class <- tbl_med_class %>% \n",
    "  mutate(time_status.factor = time_status.factor %>% \n",
    "           fct_relevel(\"pre_admission\"))\n",
    "\n",
    "tbl_med_class$time_status.factor %>% levels()"
   ]
  },
  {
   "cell_type": "code",
   "execution_count": null,
   "id": "745ccb85-6b08-44ef-8151-0fa795ef70e4",
   "metadata": {
    "tags": []
   },
   "outputs": [],
   "source": [
    "tbl_med_class %>% summary_factorlist(dependent   =\"time_status.factor\" , \n",
    "                     explanatory = c(\"calcium_channel_blocker.factor\", \"beta_blocker.factor\",\"ace_inhibitor.factor\",\"angiotensin_receptor_blocker.factor\",\"alpha_blocker.factor\",\"thiazide.factor\"))"
   ]
  },
  {
   "cell_type": "markdown",
   "id": "f496c6ca-560f-495f-ac16-17c98e0087dc",
   "metadata": {},
   "source": [
    "### this next section will etermine the number of antihypertnesives prescribed for each inidiudal and how this changes ove rthe course of an admission "
   ]
  },
  {
   "cell_type": "code",
   "execution_count": null,
   "id": "d7f22bb3-5bdd-4ce4-b4af-40519a073100",
   "metadata": {
    "tags": []
   },
   "outputs": [],
   "source": [
    "tbl_antihypertensive_class <- tbl_med_f %>%  filter(time_status.factor == 'admission')"
   ]
  },
  {
   "cell_type": "code",
   "execution_count": null,
   "id": "3be19ebf-9361-4d7c-8b2d-5ea5b44433a0",
   "metadata": {},
   "outputs": [],
   "source": [
    "#convert medication data into long format"
   ]
  },
  {
   "cell_type": "code",
   "execution_count": null,
   "id": "3b7aaceb-5504-43a3-bf09-21751dd8588f",
   "metadata": {
    "tags": []
   },
   "outputs": [],
   "source": [
    "tbl_med_long <- tbl_med_f %>% pivot_longer(beta_blocker:alpha_blocker,names_to = \"antihypertensive\",values_to= \"prescribed\")"
   ]
  },
  {
   "cell_type": "code",
   "execution_count": null,
   "id": "1f448a69-d7cc-40eb-a681-b299d9dee1ad",
   "metadata": {},
   "outputs": [],
   "source": [
    "#recode antihypertenisve classess as factor vectors"
   ]
  },
  {
   "cell_type": "code",
   "execution_count": null,
   "id": "1428e337-bfac-4dab-9b37-ec89fb09f72e",
   "metadata": {
    "tags": []
   },
   "outputs": [],
   "source": [
    "tbl_med_long$antihypertensive.factor <- as.factor(tbl_med_long$antihypertensive)\n",
    "tbl_med_long<- tbl_med_long %>% select(-antihypertensive)"
   ]
  },
  {
   "cell_type": "code",
   "execution_count": null,
   "id": "aa5ff518-5eef-4195-9137-4cefbfe482ea",
   "metadata": {
    "tags": []
   },
   "outputs": [],
   "source": [
    "head(tbl_med_long)"
   ]
  },
  {
   "cell_type": "code",
   "execution_count": null,
   "id": "8666d097-0b4e-4dd0-aed4-51d9c4955c24",
   "metadata": {
    "tags": []
   },
   "outputs": [],
   "source": [
    "#this was attempt at trying to do the group_by function in R< but didn't work so i just sent it back to bigquery and did it there because i know how to do it with SQL\n",
    "#tbl_med_long_filtered <- tbl_med_long  %>%   group_by(person_id, tbl_med_long$time_status.factor)%>% summarise(antihypertensive.factor)"
   ]
  },
  {
   "cell_type": "code",
   "execution_count": null,
   "id": "783f140c-8d45-4816-9c95-c01271abea65",
   "metadata": {
    "tags": []
   },
   "outputs": [],
   "source": [
    "names(tbl_med_long)[names(tbl_med_long) == \"antihypertensive.factor\"] <- \"antihypertensive_type\"\n",
    "names(tbl_med_long)[names(tbl_med_long) == \"time_status.factor\"] <- \"time_factor\""
   ]
  },
  {
   "cell_type": "code",
   "execution_count": null,
   "id": "440e31c9-537d-47de-ae02-401be838a97c",
   "metadata": {
    "tags": []
   },
   "outputs": [],
   "source": [
    "mybq = bq_table(project='yhcr-prd-bradfor-bia-core', dataset='CB_2172', table='tbl_med_long_filtered')\n",
    "bq_table_upload(x=mybq, values= tbl_med_long, create_disposition='CREATE_IF_NEEDED', \n",
    "             write_disposition='WRITE_TRUNCATE')"
   ]
  },
  {
   "cell_type": "code",
   "execution_count": null,
   "id": "bde56f62-947c-44d5-9063-3665783dc0ef",
   "metadata": {
    "tags": []
   },
   "outputs": [],
   "source": [
    "sql4<- paste(\n",
    "    'SELECT person_id, time_factor, avg(no_antihypertensive) as number_antihypertensive \n",
    "FROM `yhcr-prd-bradfor-bia-core.CB_2172.tbl_med_long_filtered` \n",
    "group by person_id, time_factor \n",
    "order by person_id, time_factor;'\n",
    "             ,sep=\"\")\n",
    "\n",
    "tbl_antihtn <-bq_project_query(ProjectId,sql4)\n",
    "\n",
    "tbl_antihtn <- bq_table_download(tbl_antihtn)\n",
    "\n"
   ]
  },
  {
   "cell_type": "code",
   "execution_count": null,
   "id": "f2ea0dc0-988c-49fd-9ba3-ffd64dc52127",
   "metadata": {
    "tags": []
   },
   "outputs": [],
   "source": [
    " tbl_antihtn$number_antihypertensive.factor <- as.factor(tbl_antihtn$number_antihypertensive)\n",
    " tbl_antihtn$time.factor <- as.factor(tbl_antihtn$time_factor)"
   ]
  },
  {
   "cell_type": "code",
   "execution_count": null,
   "id": "a6addc76-0366-4575-ba4c-fee1e92b3032",
   "metadata": {
    "tags": []
   },
   "outputs": [],
   "source": [
    " tbl_antihtn <- tbl_antihtn %>% \n",
    "  mutate(time.factor = time.factor %>% \n",
    "           fct_relevel(\"pre_admission\"))\n",
    "\n",
    "tbl_antihtn"
   ]
  },
  {
   "cell_type": "code",
   "execution_count": null,
   "id": "6f03aafb-e325-486b-90d0-c13757ae8e4f",
   "metadata": {
    "tags": []
   },
   "outputs": [],
   "source": [
    "deprescribing_tibble <- tbl_antihtn %>% \n",
    "summary_factorlist(dependent   =\"time.factor\", \n",
    "                     explanatory = c(\"number_antihypertensive.factor\"))\n",
    "\n",
    "deprescribing_tibble"
   ]
  },
  {
   "cell_type": "code",
   "execution_count": null,
   "id": "2937da79-658c-4f43-9c14-4d887e49bb37",
   "metadata": {},
   "outputs": [],
   "source": [
    "#we will do the same anaylsis as above but remove thos we with co-indications for a beta-blocker, inlcuidng CHD, heaert failure, and atrial fibrillation. \n",
    "bp_data \n",
    "tbl_antihtn %>%  filter(person_id == "
   ]
  },
  {
   "cell_type": "code",
   "execution_count": null,
   "id": "98582497-af0d-40d1-ad51-ba9b0ffd0332",
   "metadata": {
    "tags": []
   },
   "outputs": [],
   "source": [
    "tbl_antihtn %>%  ggplot(aes(x= number_antihypertensive.factor)) + geom_bar(stat=\"count\",width=0.7) + facet_grid(cols=vars(time.factor))+scale_fill_brewer(palette=\"Blues\")+labs(x=\"Number of antihypertensives prescribed\",title=\"Changes in antihypertensive prescriptions during care home admission\")"
   ]
  },
  {
   "cell_type": "code",
   "execution_count": null,
   "id": "18a049b9-6eca-4dd9-aa40-7d5a0c573347",
   "metadata": {
    "tags": []
   },
   "outputs": [],
   "source": [
    "#tbl_med_long_filtered <- tbl_med_long  %>%   group_by(person_id,time_status.factor)%>% summarise(antihypertensive.factor)"
   ]
  },
  {
   "cell_type": "code",
   "execution_count": null,
   "id": "692ba70b-4598-4363-aac3-fceb70b01db7",
   "metadata": {},
   "outputs": [],
   "source": [
    "#this part will examine type of antihypertensives at the point of admission"
   ]
  },
  {
   "cell_type": "markdown",
   "id": "b2ca560c-effb-4bc9-a4d0-56a6ca480b04",
   "metadata": {},
   "source": [
    "## Blood pressure measurements"
   ]
  },
  {
   "cell_type": "code",
   "execution_count": null,
   "id": "3985f543-b8c4-4c53-8ec5-e95289013591",
   "metadata": {},
   "outputs": [],
   "source": [
    "# join the number of medications at admission to the master cohort dataframe in order to calculate number of people with BP measurements after admission by number of medication "
   ]
  },
  {
   "cell_type": "code",
   "execution_count": null,
   "id": "659feabd-29d5-4cea-994c-5d3c187689fb",
   "metadata": {
    "tags": []
   },
   "outputs": [],
   "source": [
    "no_medication <- tbl_antihtn %>% filter(time.factor == 'admission')"
   ]
  },
  {
   "cell_type": "code",
   "execution_count": null,
   "id": "65e6620e-1410-4c2f-826f-6711719c4646",
   "metadata": {
    "tags": []
   },
   "outputs": [],
   "source": [
    "master_tibble<-bp_data %>% inner_join(no_medication, by=\"person_id\")\n",
    "str(master_tibble)"
   ]
  },
  {
   "cell_type": "code",
   "execution_count": null,
   "id": "89c9d015-80b5-4346-ba8b-a06503926748",
   "metadata": {
    "tags": []
   },
   "outputs": [],
   "source": [
    "master_tibble %>% ggplot(aes(x=number_antihypertensive.factor,fill=bp_present))+geom_bar(position=\"fill\")+labs(x=\"numer of antihypertensives\",y=\"proportion with bp present\")"
   ]
  },
  {
   "cell_type": "code",
   "execution_count": null,
   "id": "74db5c94-ebce-415b-9879-7fcff866dafa",
   "metadata": {
    "tags": []
   },
   "outputs": [],
   "source": [
    "master_tibble %>% ggplot(aes(x=number_antihypertensive.factor,fill=bp_target))+geom_bar(position=\"fill\")+labs(x=\"number of antihypertensives\",y=\"proportion with bp present\")"
   ]
  },
  {
   "cell_type": "code",
   "execution_count": null,
   "id": "3bec1a26-1a7f-4223-b8e9-537f1ef694cd",
   "metadata": {
    "tags": []
   },
   "outputs": [],
   "source": [
    "master_tibble %>% ggplot(aes(x=efi2.factor,fill=bp_target))+geom_bar(position=\"fill\")+labs(y=\"proportion with bp present\")"
   ]
  }
 ],
 "metadata": {
  "environment": {
   "kernel": "mk_env",
   "name": "workbench-notebooks.m123",
   "type": "gcloud",
   "uri": "us-docker.pkg.dev/deeplearning-platform-release/gcr.io/workbench-notebooks:m123"
  },
  "kernelspec": {
   "display_name": "mk_env",
   "language": "R",
   "name": "mk_env"
  },
  "language_info": {
   "codemirror_mode": "r",
   "file_extension": ".r",
   "mimetype": "text/x-r-source",
   "name": "R",
   "pygments_lexer": "r",
   "version": "4.4.1"
  }
 },
 "nbformat": 4,
 "nbformat_minor": 5
}
