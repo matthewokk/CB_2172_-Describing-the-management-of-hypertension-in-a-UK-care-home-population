{
 "cells": [
  {
   "cell_type": "markdown",
   "id": "f044ece2-769d-4aa8-be70-772fa0f6f026",
   "metadata": {
    "tags": []
   },
   "source": [
    "# Table 1"
   ]
  },
  {
   "cell_type": "markdown",
   "id": "b65d517e-44dd-422a-9045-da07a8cdff72",
   "metadata": {
    "tags": []
   },
   "source": [
    "## Cleaning data "
   ]
  },
  {
   "cell_type": "code",
   "execution_count": 1,
   "id": "a39a01d7-f8e5-4c40-a7c6-ccd869eafc2a",
   "metadata": {
    "tags": []
   },
   "outputs": [
    {
     "name": "stderr",
     "output_type": "stream",
     "text": [
      "── \u001b[1mAttaching core tidyverse packages\u001b[22m ──────────────────────── tidyverse 2.0.0 ──\n",
      "\u001b[32m✔\u001b[39m \u001b[34mdplyr    \u001b[39m 1.1.4     \u001b[32m✔\u001b[39m \u001b[34mreadr    \u001b[39m 2.1.5\n",
      "\u001b[32m✔\u001b[39m \u001b[34mforcats  \u001b[39m 1.0.0     \u001b[32m✔\u001b[39m \u001b[34mstringr  \u001b[39m 1.5.1\n",
      "\u001b[32m✔\u001b[39m \u001b[34mlubridate\u001b[39m 1.9.3     \u001b[32m✔\u001b[39m \u001b[34mtibble   \u001b[39m 3.2.1\n",
      "\u001b[32m✔\u001b[39m \u001b[34mpurrr    \u001b[39m 1.0.2     \u001b[32m✔\u001b[39m \u001b[34mtidyr    \u001b[39m 1.3.1\n",
      "── \u001b[1mConflicts\u001b[22m ────────────────────────────────────────── tidyverse_conflicts() ──\n",
      "\u001b[31m✖\u001b[39m \u001b[34mdplyr\u001b[39m::\u001b[32mfilter()\u001b[39m masks \u001b[34mstats\u001b[39m::filter()\n",
      "\u001b[31m✖\u001b[39m \u001b[34mdplyr\u001b[39m::\u001b[32mlag()\u001b[39m    masks \u001b[34mstats\u001b[39m::lag()\n",
      "\u001b[36mℹ\u001b[39m Use the conflicted package (\u001b[3m\u001b[34m<http://conflicted.r-lib.org/>\u001b[39m\u001b[23m) to force all conflicts to become errors\n"
     ]
    }
   ],
   "source": [
    "library(ggplot2)\n",
    "library(bigrquery)\n",
    "library(tidyverse)\n",
    "library(ggplot2)\n",
    "library(lubridate)\n",
    "library(stats)\n",
    "library(finalfit)\n",
    "ProjectId = \"yhcr-prd-bradfor-bia-core\"\n",
    "\n",
    "targetdb2 <- 'yhcr-prd-bradfor-bia-core.CB_FDM_DeathCertificates'\n",
    "targetdb2 <-gsub(' ','',targetdb2)\n",
    "\n",
    "targetdb3 <- 'yhcr-prd-bradfor-bia-core.CB_2172'\n",
    "targetdb3 <- gsub(' ','',targetdb3)\n"
   ]
  },
  {
   "cell_type": "markdown",
   "id": "36a5aa1a-907e-4395-a932-e17a69595dfc",
   "metadata": {},
   "source": [
    "download data from connected bradford and create a master table by left joining the care_home_cohort table to the health characterstics"
   ]
  },
  {
   "cell_type": "code",
   "execution_count": 2,
   "id": "a6291100-ae32-4021-98d2-075f27de00ee",
   "metadata": {
    "tags": []
   },
   "outputs": [],
   "source": [
    "sql1 <- \n",
    "paste(\n",
    "    'SELECT a.*,imd.imd, bm.bmi, htn.hypertension, bp.systolic_value , ck.ckd_diagnosis, ps.prev_stroke,dm.dm_diagnosis as diabetes_mellitus, af.af_diagnosis, chd.chd_diagnosis, hf.heart_failure as hf_diagnosis, ss.smoking_status, p.no_medication \n",
    "from ',targetdb3,'.care_home_cohort_v1 a \n",
    "left join ',targetdb3,'.cb_2172_efi2_value b on a.person_id = b.person_id \n",
    "left join ',targetdb3,'.efall_value e on a.person_id = e.person_id\n",
    "left join ',targetdb3,'.cb_2172_polypharmacy p on a.person_id = p.person_id\n",
    "left join ',targetdb3,'.temp_cb_2172_efi2_bmi bm on a.person_id = bm.person_id\n",
    "left join ',targetdb3,'.temp_cb_2172_efi2 efi on a.person_id = efi.person_id\n",
    "left join ',targetdb3,'.cb_2172_ckd_diagnosis ck on a.person_id = ck.person_id\n",
    "left join ',targetdb3,'.cb_2172_previous_stroke ps on a.person_id = ps.person_id\n",
    "left join ',targetdb3,'.cb_2172_ch_imd imd on a.person_id = imd.person_id \n",
    "left join ',targetdb3,'.cb_2172_dm_diagnosis dm on a.person_id = dm.person_id \n",
    "left join ',targetdb3,'.temp_cb_2172_af_diagnosis af on a.person_id = af.person_id\n",
    "left join ',targetdb3,'.cb_2172_efi2_hf hf on a.person_id = hf.person_id\n",
    "left join ',targetdb3,'.cb_2172_smoking_status ss on a.person_id = ss.person_id \n",
    "left join ',targetdb3,'.cb_2172_chd_diagnosis chd on a.person_id = chd.person_id \n",
    "left join ',targetdb3,'.cb_2172_hypertension_combined htn on a.person_id = htn.person_id\n",
    "left join ',targetdb3,'.cb_2172_bp_post_admission bp on a.person_id = bp.person_id\n",
    ";',sep=\"\")\n",
    "\n",
    "bp_tbl <-bq_project_query(ProjectId,sql1)\n",
    "bp_data <- bq_table_download(bp_tbl)\n"
   ]
  },
  {
   "cell_type": "markdown",
   "id": "a64f4690-00ff-41a9-8fed-21f78523aedb",
   "metadata": {},
   "source": [
    "First recode the binary variables as factors "
   ]
  },
  {
   "cell_type": "code",
   "execution_count": 3,
   "id": "f98081f9-6dbc-4277-bb48-2e93282ec471",
   "metadata": {
    "tags": []
   },
   "outputs": [],
   "source": [
    "bp_data$hypertension.factor <- as.factor(bp_data$hypertension)\n",
    "\n",
    "bp_data <- bp_data %>% select(-hypertension)"
   ]
  },
  {
   "cell_type": "code",
   "execution_count": 4,
   "id": "e9e879bc-e16d-4f49-83f1-707fe2fb4b75",
   "metadata": {
    "tags": []
   },
   "outputs": [],
   "source": [
    "bp_data$service.factor <- as.factor(bp_data$admission_service)\n",
    "\n",
    "bp_data <- bp_data %>% select(-admission_service)"
   ]
  },
  {
   "cell_type": "code",
   "execution_count": 5,
   "id": "42313698-6068-4f40-8900-df2abc7b4901",
   "metadata": {
    "tags": []
   },
   "outputs": [],
   "source": [
    "bp_data$body_mass_index <- as.numeric(bp_data$bmi)\n",
    "bp_data <- bp_data %>% select(-bmi)"
   ]
  },
  {
   "cell_type": "code",
   "execution_count": 6,
   "id": "be40af07-1fc2-40d4-96b9-1c33bea783ac",
   "metadata": {
    "tags": []
   },
   "outputs": [],
   "source": [
    "bp_data$chronic_kidney_disease <- as.factor(bp_data$ckd_diagnosis)\n",
    "bp_data$chronic_kidney_disease <- fct_na_value_to_level(bp_data$chronic_kidney_disease, \"no\")\n",
    "#bp_data <- bp_data %>% select(-ckd_diagnosis)"
   ]
  },
  {
   "cell_type": "code",
   "execution_count": 7,
   "id": "f8601028-5390-4811-97b1-d6996f7ab3d7",
   "metadata": {
    "tags": []
   },
   "outputs": [],
   "source": [
    "bp_data$ethnicity.factor <- as.factor(bp_data$ethnicity_source_value)\n",
    "bp_data = bp_data %>% select(-ethnicity_source_value)"
   ]
  },
  {
   "cell_type": "code",
   "execution_count": 8,
   "id": "784fcef4-0bfb-4acc-84bb-0281337ddcb3",
   "metadata": {
    "tags": []
   },
   "outputs": [
    {
     "name": "stderr",
     "output_type": "stream",
     "text": [
      "Warning message:\n",
      "“\u001b[1m\u001b[22mThere was 1 warning in `mutate()`.\n",
      "\u001b[1m\u001b[22m\u001b[36mℹ\u001b[39m In argument: `ethnicity.final = fct_collapse(...)`.\n",
      "Caused by warning:\n",
      "\u001b[33m!\u001b[39m Unknown levels in `f`: DEPRECATED”\n"
     ]
    }
   ],
   "source": [
    "bp_data <- bp_data %>%\n",
    "  mutate(\n",
    "    ethnicity.final = fct_collapse(\n",
    "      ethnicity.factor,\n",
    "      \"White\" = c(\"White: English or Welsh or Scottish or Northern Irish or British - England and Wales ethnic category 2011 census\", \n",
    "                  \"White: Irish - England and Wales ethnic category 2011 census\",\"White:Any other White background\"),\n",
    "    \"Pakistani\" = \"Asian or Asian British: Pakistani - England and Wales ethnic category 2011 census\",\n",
    "        \"Missing\" = c(\"Unknown/Refuse to say\", \"DEPRECATED\")\n",
    "  ))"
   ]
  },
  {
   "cell_type": "code",
   "execution_count": 9,
   "id": "5c1f689b-0f4a-465f-b617-1b649de459cf",
   "metadata": {},
   "outputs": [],
   "source": [
    "bp_data$death_date <- as_date(bp_data$dod)\n",
    "bp_data <- bp_data %>% select(-dod)"
   ]
  },
  {
   "cell_type": "code",
   "execution_count": 10,
   "id": "0b71e141-bf60-4b7b-963b-7f7062c24e3b",
   "metadata": {
    "tags": []
   },
   "outputs": [],
   "source": [
    "bp_data$previous_stroke <- as.factor(bp_data$prev_stroke)\n",
    "\n",
    "bp_data <- bp_data %>% select(-prev_stroke)"
   ]
  },
  {
   "cell_type": "code",
   "execution_count": 11,
   "id": "c7c1929f-bbdc-48d0-9da1-d41f621ed548",
   "metadata": {
    "tags": []
   },
   "outputs": [],
   "source": [
    "bp_data$gender <- as.factor(bp_data$gender_source_value) %>% fct_na_value_to_level(\"missing\")\n",
    "\n",
    "#bp_data <- bp_data %>% select (-gender_source_value)"
   ]
  },
  {
   "cell_type": "code",
   "execution_count": 12,
   "id": "3e27c18f-9be9-4ece-a1c8-7ab85a6f002f",
   "metadata": {},
   "outputs": [],
   "source": [
    "bp_data<- bp_data %>%  mutate(imd.factor = factor(bp_data$imd)) %>% mutate(imd.quintile =\n",
    "           fct_collapse(imd.factor,\"1\" = c(\"1\",\"2\"),\n",
    "                      \"2\"  = c(\"4\",\"3\"),\n",
    "                       \"3\" = c(\"5\",\"6\"),\n",
    "                         \"4\" = c(\"7\",\"8\"),\n",
    "                         \"5\" = c(\"9\",\"10\")))"
   ]
  },
  {
   "cell_type": "code",
   "execution_count": 13,
   "id": "956f0115-b374-4509-96f3-4bbb22044782",
   "metadata": {
    "tags": []
   },
   "outputs": [],
   "source": [
    "bp_data <-bp_data %>% \n",
    "  mutate(imd.quintile = imd.quintile %>%\n",
    "           fct_relevel(\"1\",\"2\",\"3\",\"4\",\"5\",\"missing\")\n",
    "         )"
   ]
  },
  {
   "cell_type": "code",
   "execution_count": 14,
   "id": "cf3a7318-2519-4c73-ba11-2689f3790c98",
   "metadata": {
    "tags": []
   },
   "outputs": [],
   "source": [
    "bp_data$diabetes.factor <- as.factor(bp_data$diabetes_mellitus) %>% fct_na_value_to_level(\"no\")\n",
    "\n",
    "bp_data <- bp_data %>% select (-diabetes_mellitus)"
   ]
  },
  {
   "cell_type": "code",
   "execution_count": 15,
   "id": "9dcdf72d-92be-44c0-a0a0-5e43989c89d3",
   "metadata": {
    "tags": []
   },
   "outputs": [],
   "source": [
    "bp_data$af.factor <- as.factor(bp_data$af_diagnosis) %>% fct_na_value_to_level(\"no\")\n",
    "\n",
    "bp_data <- bp_data %>% select (-af_diagnosis)"
   ]
  },
  {
   "cell_type": "code",
   "execution_count": 16,
   "id": "073ba6bf-a945-48c2-a14c-67acdeeff313",
   "metadata": {
    "tags": []
   },
   "outputs": [],
   "source": [
    "bp_data$hf.factor<- as.factor(bp_data$hf_diagnosis)%>% fct_na_value_to_level(\"no\")\n",
    "\n",
    "bp_data <- bp_data %>% select (-hf_diagnosis)"
   ]
  },
  {
   "cell_type": "code",
   "execution_count": 17,
   "id": "7db99ef0-17ab-41d9-83a0-6f0ccb15fdcf",
   "metadata": {
    "tags": []
   },
   "outputs": [],
   "source": [
    "bp_data$smoking.factor <- as.factor(bp_data$smoking_status)\n",
    "\n",
    "bp_data <- bp_data %>%  select(-smoking_status)"
   ]
  },
  {
   "cell_type": "markdown",
   "id": "7f65e320-77d2-4105-9f05-9e57ef9a719b",
   "metadata": {},
   "source": [
    "code NA values for smoking status as missing factor level "
   ]
  },
  {
   "cell_type": "code",
   "execution_count": 18,
   "id": "b1b37754-3307-400b-8d22-ad46f909dbdb",
   "metadata": {
    "tags": []
   },
   "outputs": [
    {
     "data": {
      "text/html": [
       "<style>\n",
       ".list-inline {list-style: none; margin:0; padding: 0}\n",
       ".list-inline>li {display: inline-block}\n",
       ".list-inline>li:not(:last-child)::after {content: \"\\00b7\"; padding: 0 .5ex}\n",
       "</style>\n",
       "<ol class=list-inline><li>'current smoker'</li><li>'ex-smoker'</li><li>'non-smoker'</li><li>'missing'</li></ol>\n"
      ],
      "text/latex": [
       "\\begin{enumerate*}\n",
       "\\item 'current smoker'\n",
       "\\item 'ex-smoker'\n",
       "\\item 'non-smoker'\n",
       "\\item 'missing'\n",
       "\\end{enumerate*}\n"
      ],
      "text/markdown": [
       "1. 'current smoker'\n",
       "2. 'ex-smoker'\n",
       "3. 'non-smoker'\n",
       "4. 'missing'\n",
       "\n",
       "\n"
      ],
      "text/plain": [
       "[1] \"current smoker\" \"ex-smoker\"      \"non-smoker\"     \"missing\"       "
      ]
     },
     "metadata": {},
     "output_type": "display_data"
    }
   ],
   "source": [
    "bp_data$smoking.factor <- fct_na_value_to_level(bp_data$smoking.factor,\"missing\")\n",
    "           bp_data$smoking.factor %>% levels()                                 "
   ]
  },
  {
   "cell_type": "code",
   "execution_count": 19,
   "id": "e08f0ec1-de59-49ff-a6a3-2aa6ce557c41",
   "metadata": {
    "tags": []
   },
   "outputs": [],
   "source": [
    "bp_data$chd.factor <- as.factor(bp_data$chd_diagnosis) %>% fct_na_value_to_level(\"no\")\n",
    "\n",
    "bp_data <- bp_data %>% select (-chd_diagnosis)"
   ]
  },
  {
   "cell_type": "markdown",
   "id": "05034d00-8fbb-44ab-a6b8-4968ebee7b2d",
   "metadata": {
    "tags": []
   },
   "source": [
    "create factor variable where systolic blood pressure is present or absent "
   ]
  },
  {
   "cell_type": "code",
   "execution_count": 20,
   "id": "e03ec66b-d380-492b-9b2b-ea4ca02bdb9e",
   "metadata": {
    "tags": []
   },
   "outputs": [],
   "source": [
    "bp_data <- bp_data %>% mutate(bp_present= case_when(is.na(systolic_value) ~ 'missing',systolic_value > 0 ~ 'yes'))\n",
    "\n",
    "bp_data$bp_present.factor <- as.factor(bp_data$bp_present)"
   ]
  },
  {
   "cell_type": "markdown",
   "id": "d75454ba-b74b-4e00-99b4-d8eba4f4d2dc",
   "metadata": {},
   "source": [
    "here we filter the care home cohort for those with a confirmed diagnosis of hypertension at the point of admission. all anaylsis from here on will be restricted to those with a diagnosis of hypertension"
   ]
  },
  {
   "cell_type": "code",
   "execution_count": 21,
   "id": "6dcadab8-2eca-41df-915e-754879795400",
   "metadata": {
    "tags": []
   },
   "outputs": [],
   "source": [
    "bp_data_filtered <- bp_data %>% filter(hypertension.factor == TRUE)"
   ]
  },
  {
   "cell_type": "code",
   "execution_count": 22,
   "id": "e986a326-4e57-4086-bab5-cb4cf6d8c441",
   "metadata": {
    "tags": []
   },
   "outputs": [
    {
     "data": {
      "text/html": [
       "<table class=\"dataframe\">\n",
       "<caption>A tibble: 2 × 2</caption>\n",
       "<thead>\n",
       "\t<tr><th scope=col>bp_present</th><th scope=col>n()</th></tr>\n",
       "\t<tr><th scope=col>&lt;chr&gt;</th><th scope=col>&lt;int&gt;</th></tr>\n",
       "</thead>\n",
       "<tbody>\n",
       "\t<tr><td>missing</td><td> 435</td></tr>\n",
       "\t<tr><td>yes    </td><td>1593</td></tr>\n",
       "</tbody>\n",
       "</table>\n"
      ],
      "text/latex": [
       "A tibble: 2 × 2\n",
       "\\begin{tabular}{ll}\n",
       " bp\\_present & n()\\\\\n",
       " <chr> & <int>\\\\\n",
       "\\hline\n",
       "\t missing &  435\\\\\n",
       "\t yes     & 1593\\\\\n",
       "\\end{tabular}\n"
      ],
      "text/markdown": [
       "\n",
       "A tibble: 2 × 2\n",
       "\n",
       "| bp_present &lt;chr&gt; | n() &lt;int&gt; |\n",
       "|---|---|\n",
       "| missing |  435 |\n",
       "| yes     | 1593 |\n",
       "\n"
      ],
      "text/plain": [
       "  bp_present n() \n",
       "1 missing     435\n",
       "2 yes        1593"
      ]
     },
     "metadata": {},
     "output_type": "display_data"
    }
   ],
   "source": [
    "bp_data_filtered %>% group_by(bp_present) %>% summarise(n())"
   ]
  },
  {
   "cell_type": "markdown",
   "id": "2bb7de51-393c-40f0-a736-729ea48acd98",
   "metadata": {},
   "source": [
    "here I ran some explarotry statistical inference tests to determine whether the missingness of blood pressure values varied significantly between different characteristics "
   ]
  },
  {
   "cell_type": "code",
   "execution_count": 23,
   "id": "f384fef5-a308-4a5e-bad5-406be37d37d0",
   "metadata": {
    "tags": []
   },
   "outputs": [
    {
     "data": {
      "text/plain": [
       "\n",
       "\tWelch Two Sample t-test\n",
       "\n",
       "data:  age_admission by bp_present.factor\n",
       "t = 0.35799, df = 657.65, p-value = 0.7205\n",
       "alternative hypothesis: true difference in means between group missing and group yes is not equal to 0\n",
       "95 percent confidence interval:\n",
       " -0.6876766  0.9943286\n",
       "sample estimates:\n",
       "mean in group missing     mean in group yes \n",
       "             85.54253              85.38920 \n"
      ]
     },
     "metadata": {},
     "output_type": "display_data"
    }
   ],
   "source": [
    "bp_data_filtered %>% t.test(age_admission ~ bp_present.factor,data=.)"
   ]
  },
  {
   "cell_type": "code",
   "execution_count": 24,
   "id": "cf4f336a-aef2-4174-8948-01f0dfc9ff6d",
   "metadata": {
    "tags": []
   },
   "outputs": [],
   "source": [
    "#bp_data_filtered %>% t.test(efi2~ bp_present.factor,data=.)"
   ]
  },
  {
   "cell_type": "markdown",
   "id": "0a43df2a-50e5-4816-abe8-d24d3a2940ca",
   "metadata": {},
   "source": [
    "created a new factor variable based on whether blood pressure target was above or below NICE guidelines"
   ]
  },
  {
   "cell_type": "code",
   "execution_count": 25,
   "id": "93359976-5354-4eef-87b6-e684eaa1ea53",
   "metadata": {
    "tags": []
   },
   "outputs": [],
   "source": [
    "bp_data_filtered <- bp_data_filtered %>%  mutate(bp_target= if_else(systolic_value>=150 & age_admission >= 80| systolic_value>=140 & age_admission <80, \"above\",\"below\", missing=NULL))"
   ]
  },
  {
   "cell_type": "code",
   "execution_count": 26,
   "id": "731bfcac-47ff-45ce-8a83-a64f82a17b9d",
   "metadata": {
    "tags": []
   },
   "outputs": [
    {
     "data": {
      "image/png": "[encoded data removed]",
      "text/plain": [
       "plot without title"
      ]
     },
     "metadata": {
      "image/png": {
       "height": 420,
       "width": 420
      }
     },
     "output_type": "display_data"
    }
   ],
   "source": [
    "bp_data_filtered %>% filter(systolic_value >0) %>%  ggplot(aes(x= bp_target ))+geom_bar() + theme_bw()  + labs(y= \"number of residents\", title= \"Hypertension control in care home residents\")"
   ]
  },
  {
   "cell_type": "markdown",
   "id": "fe35ec7f-93ad-4d07-9189-d1165da4a71e",
   "metadata": {},
   "source": [
    "how many care home residents with hypertension have their blood pressure measured following admission"
   ]
  },
  {
   "cell_type": "code",
   "execution_count": 146,
   "id": "56f92ac1-a858-4afb-94f3-d8b2f3389d8c",
   "metadata": {
    "tags": []
   },
   "outputs": [
    {
     "name": "stderr",
     "output_type": "stream",
     "text": [
      "No dependent variable(s) provided; defaulting to single-level factor\n",
      "\n"
     ]
    },
    {
     "data": {
      "text/html": [
       "<table class=\"dataframe\">\n",
       "<caption>A data.frame.ff: 2 × 3</caption>\n",
       "<thead>\n",
       "\t<tr><th scope=col>label</th><th scope=col>levels</th><th scope=col>all</th></tr>\n",
       "\t<tr><th scope=col>&lt;chr&gt;</th><th scope=col>&lt;chr&gt;</th><th scope=col>&lt;chr&gt;</th></tr>\n",
       "</thead>\n",
       "<tbody>\n",
       "\t<tr><td>bp_present.factor</td><td>missing</td><td>435 (21.4) </td></tr>\n",
       "\t<tr><td>                 </td><td>yes    </td><td>1593 (78.6)</td></tr>\n",
       "</tbody>\n",
       "</table>\n"
      ],
      "text/latex": [
       "A data.frame.ff: 2 × 3\n",
       "\\begin{tabular}{lll}\n",
       " label & levels & all\\\\\n",
       " <chr> & <chr> & <chr>\\\\\n",
       "\\hline\n",
       "\t bp\\_present.factor & missing & 435 (21.4) \\\\\n",
       "\t                   & yes     & 1593 (78.6)\\\\\n",
       "\\end{tabular}\n"
      ],
      "text/markdown": [
       "\n",
       "A data.frame.ff: 2 × 3\n",
       "\n",
       "| label &lt;chr&gt; | levels &lt;chr&gt; | all &lt;chr&gt; |\n",
       "|---|---|---|\n",
       "| bp_present.factor | missing | 435 (21.4)  |\n",
       "| <!----> | yes     | 1593 (78.6) |\n",
       "\n"
      ],
      "text/plain": [
       "  label             levels  all        \n",
       "1 bp_present.factor missing 435 (21.4) \n",
       "2                   yes     1593 (78.6)"
      ]
     },
     "metadata": {},
     "output_type": "display_data"
    }
   ],
   "source": [
    "library(finalfit)\n",
    "bp_data_filtered %>%  filter(hypertension.factor ==TRUE)%>% \n",
    "summary_factorlist(explanatory= \"bp_present.factor\",\n",
    "                   ,include_col_totals_percent = TRUE\n",
    "                   )\n"
   ]
  },
  {
   "cell_type": "code",
   "execution_count": 28,
   "id": "b86bdb1b-667e-482a-befe-1135f7b830ec",
   "metadata": {
    "tags": []
   },
   "outputs": [
    {
     "name": "stderr",
     "output_type": "stream",
     "text": [
      "No dependent variable(s) provided; defaulting to single-level factor\n",
      "\n"
     ]
    },
    {
     "data": {
      "text/html": [
       "<table class=\"dataframe\">\n",
       "<caption>A data.frame.ff: 8 × 3</caption>\n",
       "<thead>\n",
       "\t<tr><th scope=col>label</th><th scope=col>levels</th><th scope=col>all</th></tr>\n",
       "\t<tr><th scope=col>&lt;chr&gt;</th><th scope=col>&lt;chr&gt;</th><th scope=col>&lt;chr&gt;</th></tr>\n",
       "</thead>\n",
       "<tbody>\n",
       "\t<tr><td>imd.quintile   </td><td>1      </td><td>593 (29.3) </td></tr>\n",
       "\t<tr><td>               </td><td>2      </td><td>334 (16.5) </td></tr>\n",
       "\t<tr><td>               </td><td>3      </td><td>450 (22.2) </td></tr>\n",
       "\t<tr><td>               </td><td>4      </td><td>255 (12.6) </td></tr>\n",
       "\t<tr><td>               </td><td>5      </td><td>333 (16.4) </td></tr>\n",
       "\t<tr><td>               </td><td>missing</td><td>62 (3.1)   </td></tr>\n",
       "\t<tr><td>previous_stroke</td><td>no     </td><td>1943 (95.8)</td></tr>\n",
       "\t<tr><td>               </td><td>yes    </td><td>85 (4.2)   </td></tr>\n",
       "</tbody>\n",
       "</table>\n"
      ],
      "text/latex": [
       "A data.frame.ff: 8 × 3\n",
       "\\begin{tabular}{lll}\n",
       " label & levels & all\\\\\n",
       " <chr> & <chr> & <chr>\\\\\n",
       "\\hline\n",
       "\t imd.quintile    & 1       & 593 (29.3) \\\\\n",
       "\t                 & 2       & 334 (16.5) \\\\\n",
       "\t                 & 3       & 450 (22.2) \\\\\n",
       "\t                 & 4       & 255 (12.6) \\\\\n",
       "\t                 & 5       & 333 (16.4) \\\\\n",
       "\t                 & missing & 62 (3.1)   \\\\\n",
       "\t previous\\_stroke & no      & 1943 (95.8)\\\\\n",
       "\t                 & yes     & 85 (4.2)   \\\\\n",
       "\\end{tabular}\n"
      ],
      "text/markdown": [
       "\n",
       "A data.frame.ff: 8 × 3\n",
       "\n",
       "| label &lt;chr&gt; | levels &lt;chr&gt; | all &lt;chr&gt; |\n",
       "|---|---|---|\n",
       "| imd.quintile    | 1       | 593 (29.3)  |\n",
       "| <!----> | 2       | 334 (16.5)  |\n",
       "| <!----> | 3       | 450 (22.2)  |\n",
       "| <!----> | 4       | 255 (12.6)  |\n",
       "| <!----> | 5       | 333 (16.4)  |\n",
       "| <!----> | missing | 62 (3.1)    |\n",
       "| previous_stroke | no      | 1943 (95.8) |\n",
       "| <!----> | yes     | 85 (4.2)    |\n",
       "\n"
      ],
      "text/plain": [
       "  label           levels  all        \n",
       "1 imd.quintile    1       593 (29.3) \n",
       "2                 2       334 (16.5) \n",
       "3                 3       450 (22.2) \n",
       "4                 4       255 (12.6) \n",
       "5                 5       333 (16.4) \n",
       "6                 missing 62 (3.1)   \n",
       "7 previous_stroke no      1943 (95.8)\n",
       "8                 yes     85 (4.2)   "
      ]
     },
     "metadata": {},
     "output_type": "display_data"
    }
   ],
   "source": [
    "bp_data_filtered %>% \n",
    "  summary_factorlist(dependent = NULL, \n",
    "                     explanatory = \n",
    "                       c(\"imd.quintile\", \"previous_stroke\")\n",
    "  )"
   ]
  },
  {
   "cell_type": "markdown",
   "id": "74743e00-2b5f-453d-bd6e-a5881b79d449",
   "metadata": {
    "tags": []
   },
   "source": [
    "### demographics table"
   ]
  },
  {
   "cell_type": "markdown",
   "id": "498896a3-4483-4a79-8a13-1d0fa4d490e2",
   "metadata": {},
   "source": [
    "calculate median life exeptancy and create a new variable with mortality in months "
   ]
  },
  {
   "cell_type": "code",
   "execution_count": 68,
   "id": "e83a43d9-c08c-4777-b0ed-af928e163db8",
   "metadata": {
    "tags": []
   },
   "outputs": [
    {
     "data": {
      "text/html": [
       "16"
      ],
      "text/latex": [
       "16"
      ],
      "text/markdown": [
       "16"
      ],
      "text/plain": [
       "[1] 16"
      ]
     },
     "metadata": {},
     "output_type": "display_data"
    }
   ],
   "source": [
    "bp_data_filtered$mortality <- as.numeric(bp_data_filtered$mortality)\n",
    "bp_data_filtered <- bp_data_filtered %>% mutate(mortality_month = round((mortality/30.44),0))\n",
    "bp_data_filtered$mortality_month %>%  median(na.rm=TRUE)"
   ]
  },
  {
   "cell_type": "code",
   "execution_count": 65,
   "id": "e527b101-be40-415a-9707-a595d56a5709",
   "metadata": {
    "tags": []
   },
   "outputs": [
    {
     "name": "stderr",
     "output_type": "stream",
     "text": [
      "Warning message:\n",
      "“\u001b[1m\u001b[22mRemoved 119 rows containing non-finite outside the scale range (`stat_bin()`).”\n",
      "Warning message:\n",
      "“\u001b[1m\u001b[22mRemoved 2 rows containing missing values or values outside the scale range\n",
      "(`geom_bar()`).”\n",
      "Warning message:\n",
      "“\u001b[1m\u001b[22mRemoved 1 row containing missing values or values outside the scale range\n",
      "(`geom_vline()`).”\n",
      "Warning message:\n",
      "“\u001b[1m\u001b[22mRemoved 119 rows containing non-finite outside the scale range (`stat_bin()`).”\n",
      "Warning message:\n",
      "“\u001b[1m\u001b[22mRemoved 2 rows containing missing values or values outside the scale range\n",
      "(`geom_bar()`).”\n",
      "Warning message:\n",
      "“\u001b[1m\u001b[22mRemoved 1 row containing missing values or values outside the scale range\n",
      "(`geom_vline()`).”\n"
     ]
    },
    {
     "data": {
      "image/png": "[encoded data removed]",
      "text/plain": [
       "plot without title"
      ]
     },
     "metadata": {
      "image/png": {
       "height": 420,
       "width": 420
      }
     },
     "output_type": "display_data"
    }
   ],
   "source": [
    "bp_data_filtered %>% ggplot(aes(x=mortality_month))+geom_histogram(binwidth = 3,col=\"black\",fill=\"turquoise\")+\n",
    "geom_vline(xintercept = median(bp_data_filtered$mortality_month), color = \"red\", linetype = \"dashed\", linewidth = 1) +\n",
    "labs(title = \"Mortality in care home residents from admission\",x=\"Mortality (months)\",y=\"Frequency\")+\n",
    "theme_bw()+xlim(1.2,80) + \n",
    "annotate(\"text\", x = 2, y = -5, label = \"6 weeks\")\n",
    "\n",
    "ggsave(\"life_exp_hist.png\", width = 10, height = 10)"
   ]
  },
  {
   "cell_type": "code",
   "execution_count": 71,
   "id": "725fc7e6-47a4-4855-8094-a8da16a86db2",
   "metadata": {
    "tags": []
   },
   "outputs": [
    {
     "name": "stderr",
     "output_type": "stream",
     "text": [
      "No dependent variable(s) provided; defaulting to single-level factor\n",
      "\n"
     ]
    },
    {
     "data": {
      "text/html": [
       "<table class=\"dataframe\">\n",
       "<caption>A data.frame.ff: 34 × 3</caption>\n",
       "<thead>\n",
       "\t<tr><th scope=col>label</th><th scope=col>levels</th><th scope=col>all</th></tr>\n",
       "\t<tr><th scope=col>&lt;chr&gt;</th><th scope=col>&lt;chr&gt;</th><th scope=col>&lt;chr&gt;</th></tr>\n",
       "</thead>\n",
       "<tbody>\n",
       "\t<tr><td>Age at admission                      </td><td>Mean (SD)                                                                                                                                     </td><td>85.4 (7.6)   </td></tr>\n",
       "\t<tr><td>Service Type                          </td><td>Nursing                                                                                                                                       </td><td>1140 (56.2)  </td></tr>\n",
       "\t<tr><td>                                      </td><td>Residential                                                                                                                                   </td><td>888 (43.8)   </td></tr>\n",
       "\t<tr><td>gender                                </td><td>F                                                                                                                                             </td><td>1329 (65.5)  </td></tr>\n",
       "\t<tr><td>                                      </td><td>M                                                                                                                                             </td><td>699 (34.5)   </td></tr>\n",
       "\t<tr><td>                                      </td><td>missing                                                                                                                                       </td><td>0 (0.0)      </td></tr>\n",
       "\t<tr><td>Index of multiple deprivation(deciles)</td><td>1                                                                                                                                             </td><td>409 (20.2)   </td></tr>\n",
       "\t<tr><td>                                      </td><td>10                                                                                                                                            </td><td>180 (8.9)    </td></tr>\n",
       "\t<tr><td>                                      </td><td>2                                                                                                                                             </td><td>184 (9.1)    </td></tr>\n",
       "\t<tr><td>                                      </td><td>3                                                                                                                                             </td><td>218 (10.8)   </td></tr>\n",
       "\t<tr><td>                                      </td><td>4                                                                                                                                             </td><td>116 (5.7)    </td></tr>\n",
       "\t<tr><td>                                      </td><td>5                                                                                                                                             </td><td>184 (9.1)    </td></tr>\n",
       "\t<tr><td>                                      </td><td>6                                                                                                                                             </td><td>266 (13.1)   </td></tr>\n",
       "\t<tr><td>                                      </td><td>7                                                                                                                                             </td><td>146 (7.2)    </td></tr>\n",
       "\t<tr><td>                                      </td><td>8                                                                                                                                             </td><td>109 (5.4)    </td></tr>\n",
       "\t<tr><td>                                      </td><td>9                                                                                                                                             </td><td>153 (7.5)    </td></tr>\n",
       "\t<tr><td>                                      </td><td>missing                                                                                                                                       </td><td>62 (3.1)     </td></tr>\n",
       "\t<tr><td>Ethnicity                             </td><td>Asian or Asian British: any other Asian background - England and Wales ethnic category 2011 census                                            </td><td>2 (0.1)      </td></tr>\n",
       "\t<tr><td>                                      </td><td>Asian or Asian British: Bangladeshi - England and Wales ethnic category 2011 census                                                           </td><td>1 (0.0)      </td></tr>\n",
       "\t<tr><td>                                      </td><td>Asian or Asian British: Chinese - England and Wales ethnic category 2011 census                                                               </td><td>1 (0.0)      </td></tr>\n",
       "\t<tr><td>                                      </td><td>Asian or Asian British: Indian - England and Wales ethnic category 2011 census                                                                </td><td>17 (0.8)     </td></tr>\n",
       "\t<tr><td>                                      </td><td>Pakistani                                                                                                                                     </td><td>8 (0.4)      </td></tr>\n",
       "\t<tr><td>                                      </td><td>Black or African or Caribbean or Black British: African - England and Wales ethnic category 2011 census                                       </td><td>2 (0.1)      </td></tr>\n",
       "\t<tr><td>                                      </td><td>Black or African or Caribbean or Black British: Caribbean - England and Wales ethnic category 2011 census                                     </td><td>9 (0.4)      </td></tr>\n",
       "\t<tr><td>                                      </td><td>Black or African or Caribbean or Black British: other Black or African or Caribbean background - England and Wales ethnic category 2011 census</td><td>3 (0.1)      </td></tr>\n",
       "\t<tr><td>                                      </td><td>Mixed multiple ethnic groups: any other Mixed or multiple ethnic background - England and Wales ethnic category 2011 census                   </td><td>2 (0.1)      </td></tr>\n",
       "\t<tr><td>                                      </td><td>Mixed multiple ethnic groups: White and Asian - England and Wales ethnic category 2011 census                                                 </td><td>0 (0.0)      </td></tr>\n",
       "\t<tr><td>                                      </td><td>Mixed multiple ethnic groups: White and Black African - England and Wales ethnic category 2011 census                                         </td><td>2 (0.1)      </td></tr>\n",
       "\t<tr><td>                                      </td><td>Mixed multiple ethnic groups: White and Black Caribbean - England and Wales ethnic category 2011 census                                       </td><td>5 (0.2)      </td></tr>\n",
       "\t<tr><td>                                      </td><td>Other ethnic group: any other ethnic group - England and Wales ethnic category 2011 census                                                    </td><td>7 (0.3)      </td></tr>\n",
       "\t<tr><td>                                      </td><td>Missing                                                                                                                                       </td><td>395 (19.5)   </td></tr>\n",
       "\t<tr><td>                                      </td><td>White                                                                                                                                         </td><td>1574 (77.6)  </td></tr>\n",
       "\t<tr><td>Admission length                      </td><td>Mean (SD)                                                                                                                                     </td><td>649.9 (565.2)</td></tr>\n",
       "\t<tr><td>Lifespan                              </td><td>Mean (SD)                                                                                                                                     </td><td>646.3 (554.5)</td></tr>\n",
       "</tbody>\n",
       "</table>\n"
      ],
      "text/latex": [
       "A data.frame.ff: 34 × 3\n",
       "\\begin{tabular}{lll}\n",
       " label & levels & all\\\\\n",
       " <chr> & <chr> & <chr>\\\\\n",
       "\\hline\n",
       "\t Age at admission                       & Mean (SD)                                                                                                                                      & 85.4 (7.6)   \\\\\n",
       "\t Service Type                           & Nursing                                                                                                                                        & 1140 (56.2)  \\\\\n",
       "\t                                        & Residential                                                                                                                                    & 888 (43.8)   \\\\\n",
       "\t gender                                 & F                                                                                                                                              & 1329 (65.5)  \\\\\n",
       "\t                                        & M                                                                                                                                              & 699 (34.5)   \\\\\n",
       "\t                                        & missing                                                                                                                                        & 0 (0.0)      \\\\\n",
       "\t Index of multiple deprivation(deciles) & 1                                                                                                                                              & 409 (20.2)   \\\\\n",
       "\t                                        & 10                                                                                                                                             & 180 (8.9)    \\\\\n",
       "\t                                        & 2                                                                                                                                              & 184 (9.1)    \\\\\n",
       "\t                                        & 3                                                                                                                                              & 218 (10.8)   \\\\\n",
       "\t                                        & 4                                                                                                                                              & 116 (5.7)    \\\\\n",
       "\t                                        & 5                                                                                                                                              & 184 (9.1)    \\\\\n",
       "\t                                        & 6                                                                                                                                              & 266 (13.1)   \\\\\n",
       "\t                                        & 7                                                                                                                                              & 146 (7.2)    \\\\\n",
       "\t                                        & 8                                                                                                                                              & 109 (5.4)    \\\\\n",
       "\t                                        & 9                                                                                                                                              & 153 (7.5)    \\\\\n",
       "\t                                        & missing                                                                                                                                        & 62 (3.1)     \\\\\n",
       "\t Ethnicity                              & Asian or Asian British: any other Asian background - England and Wales ethnic category 2011 census                                             & 2 (0.1)      \\\\\n",
       "\t                                        & Asian or Asian British: Bangladeshi - England and Wales ethnic category 2011 census                                                            & 1 (0.0)      \\\\\n",
       "\t                                        & Asian or Asian British: Chinese - England and Wales ethnic category 2011 census                                                                & 1 (0.0)      \\\\\n",
       "\t                                        & Asian or Asian British: Indian - England and Wales ethnic category 2011 census                                                                 & 17 (0.8)     \\\\\n",
       "\t                                        & Pakistani                                                                                                                                      & 8 (0.4)      \\\\\n",
       "\t                                        & Black or African or Caribbean or Black British: African - England and Wales ethnic category 2011 census                                        & 2 (0.1)      \\\\\n",
       "\t                                        & Black or African or Caribbean or Black British: Caribbean - England and Wales ethnic category 2011 census                                      & 9 (0.4)      \\\\\n",
       "\t                                        & Black or African or Caribbean or Black British: other Black or African or Caribbean background - England and Wales ethnic category 2011 census & 3 (0.1)      \\\\\n",
       "\t                                        & Mixed multiple ethnic groups: any other Mixed or multiple ethnic background - England and Wales ethnic category 2011 census                    & 2 (0.1)      \\\\\n",
       "\t                                        & Mixed multiple ethnic groups: White and Asian - England and Wales ethnic category 2011 census                                                  & 0 (0.0)      \\\\\n",
       "\t                                        & Mixed multiple ethnic groups: White and Black African - England and Wales ethnic category 2011 census                                          & 2 (0.1)      \\\\\n",
       "\t                                        & Mixed multiple ethnic groups: White and Black Caribbean - England and Wales ethnic category 2011 census                                        & 5 (0.2)      \\\\\n",
       "\t                                        & Other ethnic group: any other ethnic group - England and Wales ethnic category 2011 census                                                     & 7 (0.3)      \\\\\n",
       "\t                                        & Missing                                                                                                                                        & 395 (19.5)   \\\\\n",
       "\t                                        & White                                                                                                                                          & 1574 (77.6)  \\\\\n",
       "\t Admission length                       & Mean (SD)                                                                                                                                      & 649.9 (565.2)\\\\\n",
       "\t Lifespan                               & Mean (SD)                                                                                                                                      & 646.3 (554.5)\\\\\n",
       "\\end{tabular}\n"
      ],
      "text/markdown": [
       "\n",
       "A data.frame.ff: 34 × 3\n",
       "\n",
       "| label &lt;chr&gt; | levels &lt;chr&gt; | all &lt;chr&gt; |\n",
       "|---|---|---|\n",
       "| Age at admission                       | Mean (SD)                                                                                                                                      | 85.4 (7.6)    |\n",
       "| Service Type                           | Nursing                                                                                                                                        | 1140 (56.2)   |\n",
       "| <!----> | Residential                                                                                                                                    | 888 (43.8)    |\n",
       "| gender                                 | F                                                                                                                                              | 1329 (65.5)   |\n",
       "| <!----> | M                                                                                                                                              | 699 (34.5)    |\n",
       "| <!----> | missing                                                                                                                                        | 0 (0.0)       |\n",
       "| Index of multiple deprivation(deciles) | 1                                                                                                                                              | 409 (20.2)    |\n",
       "| <!----> | 10                                                                                                                                             | 180 (8.9)     |\n",
       "| <!----> | 2                                                                                                                                              | 184 (9.1)     |\n",
       "| <!----> | 3                                                                                                                                              | 218 (10.8)    |\n",
       "| <!----> | 4                                                                                                                                              | 116 (5.7)     |\n",
       "| <!----> | 5                                                                                                                                              | 184 (9.1)     |\n",
       "| <!----> | 6                                                                                                                                              | 266 (13.1)    |\n",
       "| <!----> | 7                                                                                                                                              | 146 (7.2)     |\n",
       "| <!----> | 8                                                                                                                                              | 109 (5.4)     |\n",
       "| <!----> | 9                                                                                                                                              | 153 (7.5)     |\n",
       "| <!----> | missing                                                                                                                                        | 62 (3.1)      |\n",
       "| Ethnicity                              | Asian or Asian British: any other Asian background - England and Wales ethnic category 2011 census                                             | 2 (0.1)       |\n",
       "| <!----> | Asian or Asian British: Bangladeshi - England and Wales ethnic category 2011 census                                                            | 1 (0.0)       |\n",
       "| <!----> | Asian or Asian British: Chinese - England and Wales ethnic category 2011 census                                                                | 1 (0.0)       |\n",
       "| <!----> | Asian or Asian British: Indian - England and Wales ethnic category 2011 census                                                                 | 17 (0.8)      |\n",
       "| <!----> | Pakistani                                                                                                                                      | 8 (0.4)       |\n",
       "| <!----> | Black or African or Caribbean or Black British: African - England and Wales ethnic category 2011 census                                        | 2 (0.1)       |\n",
       "| <!----> | Black or African or Caribbean or Black British: Caribbean - England and Wales ethnic category 2011 census                                      | 9 (0.4)       |\n",
       "| <!----> | Black or African or Caribbean or Black British: other Black or African or Caribbean background - England and Wales ethnic category 2011 census | 3 (0.1)       |\n",
       "| <!----> | Mixed multiple ethnic groups: any other Mixed or multiple ethnic background - England and Wales ethnic category 2011 census                    | 2 (0.1)       |\n",
       "| <!----> | Mixed multiple ethnic groups: White and Asian - England and Wales ethnic category 2011 census                                                  | 0 (0.0)       |\n",
       "| <!----> | Mixed multiple ethnic groups: White and Black African - England and Wales ethnic category 2011 census                                          | 2 (0.1)       |\n",
       "| <!----> | Mixed multiple ethnic groups: White and Black Caribbean - England and Wales ethnic category 2011 census                                        | 5 (0.2)       |\n",
       "| <!----> | Other ethnic group: any other ethnic group - England and Wales ethnic category 2011 census                                                     | 7 (0.3)       |\n",
       "| <!----> | Missing                                                                                                                                        | 395 (19.5)    |\n",
       "| <!----> | White                                                                                                                                          | 1574 (77.6)   |\n",
       "| Admission length                       | Mean (SD)                                                                                                                                      | 649.9 (565.2) |\n",
       "| Lifespan                               | Mean (SD)                                                                                                                                      | 646.3 (554.5) |\n",
       "\n"
      ],
      "text/plain": [
       "   label                                 \n",
       "1  Age at admission                      \n",
       "2  Service Type                          \n",
       "3                                        \n",
       "4  gender                                \n",
       "5                                        \n",
       "6                                        \n",
       "7  Index of multiple deprivation(deciles)\n",
       "8                                        \n",
       "9                                        \n",
       "10                                       \n",
       "11                                       \n",
       "12                                       \n",
       "13                                       \n",
       "14                                       \n",
       "15                                       \n",
       "16                                       \n",
       "17                                       \n",
       "18 Ethnicity                             \n",
       "19                                       \n",
       "20                                       \n",
       "21                                       \n",
       "22                                       \n",
       "23                                       \n",
       "24                                       \n",
       "25                                       \n",
       "26                                       \n",
       "27                                       \n",
       "28                                       \n",
       "29                                       \n",
       "30                                       \n",
       "31                                       \n",
       "32                                       \n",
       "33 Admission length                      \n",
       "34 Lifespan                              \n",
       "   levels                                                                                                                                        \n",
       "1  Mean (SD)                                                                                                                                     \n",
       "2  Nursing                                                                                                                                       \n",
       "3  Residential                                                                                                                                   \n",
       "4  F                                                                                                                                             \n",
       "5  M                                                                                                                                             \n",
       "6  missing                                                                                                                                       \n",
       "7  1                                                                                                                                             \n",
       "8  10                                                                                                                                            \n",
       "9  2                                                                                                                                             \n",
       "10 3                                                                                                                                             \n",
       "11 4                                                                                                                                             \n",
       "12 5                                                                                                                                             \n",
       "13 6                                                                                                                                             \n",
       "14 7                                                                                                                                             \n",
       "15 8                                                                                                                                             \n",
       "16 9                                                                                                                                             \n",
       "17 missing                                                                                                                                       \n",
       "18 Asian or Asian British: any other Asian background - England and Wales ethnic category 2011 census                                            \n",
       "19 Asian or Asian British: Bangladeshi - England and Wales ethnic category 2011 census                                                           \n",
       "20 Asian or Asian British: Chinese - England and Wales ethnic category 2011 census                                                               \n",
       "21 Asian or Asian British: Indian - England and Wales ethnic category 2011 census                                                                \n",
       "22 Pakistani                                                                                                                                     \n",
       "23 Black or African or Caribbean or Black British: African - England and Wales ethnic category 2011 census                                       \n",
       "24 Black or African or Caribbean or Black British: Caribbean - England and Wales ethnic category 2011 census                                     \n",
       "25 Black or African or Caribbean or Black British: other Black or African or Caribbean background - England and Wales ethnic category 2011 census\n",
       "26 Mixed multiple ethnic groups: any other Mixed or multiple ethnic background - England and Wales ethnic category 2011 census                   \n",
       "27 Mixed multiple ethnic groups: White and Asian - England and Wales ethnic category 2011 census                                                 \n",
       "28 Mixed multiple ethnic groups: White and Black African - England and Wales ethnic category 2011 census                                         \n",
       "29 Mixed multiple ethnic groups: White and Black Caribbean - England and Wales ethnic category 2011 census                                       \n",
       "30 Other ethnic group: any other ethnic group - England and Wales ethnic category 2011 census                                                    \n",
       "31 Missing                                                                                                                                       \n",
       "32 White                                                                                                                                         \n",
       "33 Mean (SD)                                                                                                                                     \n",
       "34 Mean (SD)                                                                                                                                     \n",
       "   all          \n",
       "1  85.4 (7.6)   \n",
       "2  1140 (56.2)  \n",
       "3  888 (43.8)   \n",
       "4  1329 (65.5)  \n",
       "5  699 (34.5)   \n",
       "6  0 (0.0)      \n",
       "7  409 (20.2)   \n",
       "8  180 (8.9)    \n",
       "9  184 (9.1)    \n",
       "10 218 (10.8)   \n",
       "11 116 (5.7)    \n",
       "12 184 (9.1)    \n",
       "13 266 (13.1)   \n",
       "14 146 (7.2)    \n",
       "15 109 (5.4)    \n",
       "16 153 (7.5)    \n",
       "17 62 (3.1)     \n",
       "18 2 (0.1)      \n",
       "19 1 (0.0)      \n",
       "20 1 (0.0)      \n",
       "21 17 (0.8)     \n",
       "22 8 (0.4)      \n",
       "23 2 (0.1)      \n",
       "24 9 (0.4)      \n",
       "25 3 (0.1)      \n",
       "26 2 (0.1)      \n",
       "27 0 (0.0)      \n",
       "28 2 (0.1)      \n",
       "29 5 (0.2)      \n",
       "30 7 (0.3)      \n",
       "31 395 (19.5)   \n",
       "32 1574 (77.6)  \n",
       "33 649.9 (565.2)\n",
       "34 646.3 (554.5)"
      ]
     },
     "metadata": {},
     "output_type": "display_data"
    }
   ],
   "source": [
    "bp_data_filtered %>% \n",
    "  mutate(\n",
    "        age_admission = ff_label(age_admission, \"Age at admission\"),\n",
    "      service.factor = ff_label(service.factor,\"Service Type\"),\n",
    "      ethnicity.final = ff_label(ethnicity.final,\"Ethnicity\"),\n",
    "      admission_length = ff_label(admission_length,\"Admission length\"),\n",
    "      mortality = ff_label(mortality,\"Lifespan\"),\n",
    "      imd= ff_label(imd,\"Index of multiple deprivation(deciles)\")\n",
    "    ) %>% \n",
    "summary_factorlist(dependent= NULL, explanatory = c(\"age_admission\",\"service.factor\",\"gender\",\"imd\",\"ethnicity.final\",\"admission_length\",\"mortality\") ) "
   ]
  },
  {
   "cell_type": "markdown",
   "id": "a789888e-b934-409e-adb4-0794b00b5e2f",
   "metadata": {
    "jp-MarkdownHeadingCollapsed": true,
    "tags": []
   },
   "source": [
    "## Cardiovascular Risk Factors "
   ]
  },
  {
   "cell_type": "code",
   "execution_count": 33,
   "id": "5060a6f7-2f43-4b70-947f-40a7ce4e5b38",
   "metadata": {
    "tags": []
   },
   "outputs": [
    {
     "name": "stderr",
     "output_type": "stream",
     "text": [
      "No dependent variable(s) provided; defaulting to single-level factor\n",
      "\n"
     ]
    },
    {
     "data": {
      "text/html": [
       "<table class=\"dataframe\">\n",
       "<caption>A data.frame.ff: 18 × 3</caption>\n",
       "<thead>\n",
       "\t<tr><th scope=col>label</th><th scope=col>levels</th><th scope=col>all</th></tr>\n",
       "\t<tr><th scope=col>&lt;chr&gt;</th><th scope=col>&lt;chr&gt;</th><th scope=col>&lt;chr&gt;</th></tr>\n",
       "</thead>\n",
       "<tbody>\n",
       "\t<tr><td>age_admission         </td><td>Mean (SD)     </td><td>85.4 (7.6) </td></tr>\n",
       "\t<tr><td>body_mass_index       </td><td>Mean (SD)     </td><td>24.8 (6.8) </td></tr>\n",
       "\t<tr><td>af.factor             </td><td>no            </td><td>1569 (77.4)</td></tr>\n",
       "\t<tr><td>                      </td><td>yes           </td><td>459 (22.6) </td></tr>\n",
       "\t<tr><td>chronic_kidney_disease</td><td>yes           </td><td>715 (35.3) </td></tr>\n",
       "\t<tr><td>                      </td><td>no            </td><td>1313 (64.7)</td></tr>\n",
       "\t<tr><td>hf.factor             </td><td>yes           </td><td>331 (16.3) </td></tr>\n",
       "\t<tr><td>                      </td><td>no            </td><td>1697 (83.7)</td></tr>\n",
       "\t<tr><td>chd.factor            </td><td>yes           </td><td>505 (24.9) </td></tr>\n",
       "\t<tr><td>                      </td><td>no            </td><td>1523 (75.1)</td></tr>\n",
       "\t<tr><td>diabetes.factor       </td><td>no            </td><td>1453 (71.6)</td></tr>\n",
       "\t<tr><td>                      </td><td>yes           </td><td>575 (28.4) </td></tr>\n",
       "\t<tr><td>smoking.factor        </td><td>current smoker</td><td>176 (8.7)  </td></tr>\n",
       "\t<tr><td>                      </td><td>ex-smoker     </td><td>704 (34.7) </td></tr>\n",
       "\t<tr><td>                      </td><td>non-smoker    </td><td>1128 (55.6)</td></tr>\n",
       "\t<tr><td>                      </td><td>missing       </td><td>20 (1.0)   </td></tr>\n",
       "\t<tr><td>previous_stroke       </td><td>no            </td><td>1943 (95.8)</td></tr>\n",
       "\t<tr><td>                      </td><td>yes           </td><td>85 (4.2)   </td></tr>\n",
       "</tbody>\n",
       "</table>\n"
      ],
      "text/latex": [
       "A data.frame.ff: 18 × 3\n",
       "\\begin{tabular}{lll}\n",
       " label & levels & all\\\\\n",
       " <chr> & <chr> & <chr>\\\\\n",
       "\\hline\n",
       "\t age\\_admission          & Mean (SD)      & 85.4 (7.6) \\\\\n",
       "\t body\\_mass\\_index        & Mean (SD)      & 24.8 (6.8) \\\\\n",
       "\t af.factor              & no             & 1569 (77.4)\\\\\n",
       "\t                        & yes            & 459 (22.6) \\\\\n",
       "\t chronic\\_kidney\\_disease & yes            & 715 (35.3) \\\\\n",
       "\t                        & no             & 1313 (64.7)\\\\\n",
       "\t hf.factor              & yes            & 331 (16.3) \\\\\n",
       "\t                        & no             & 1697 (83.7)\\\\\n",
       "\t chd.factor             & yes            & 505 (24.9) \\\\\n",
       "\t                        & no             & 1523 (75.1)\\\\\n",
       "\t diabetes.factor        & no             & 1453 (71.6)\\\\\n",
       "\t                        & yes            & 575 (28.4) \\\\\n",
       "\t smoking.factor         & current smoker & 176 (8.7)  \\\\\n",
       "\t                        & ex-smoker      & 704 (34.7) \\\\\n",
       "\t                        & non-smoker     & 1128 (55.6)\\\\\n",
       "\t                        & missing        & 20 (1.0)   \\\\\n",
       "\t previous\\_stroke        & no             & 1943 (95.8)\\\\\n",
       "\t                        & yes            & 85 (4.2)   \\\\\n",
       "\\end{tabular}\n"
      ],
      "text/markdown": [
       "\n",
       "A data.frame.ff: 18 × 3\n",
       "\n",
       "| label &lt;chr&gt; | levels &lt;chr&gt; | all &lt;chr&gt; |\n",
       "|---|---|---|\n",
       "| age_admission          | Mean (SD)      | 85.4 (7.6)  |\n",
       "| body_mass_index        | Mean (SD)      | 24.8 (6.8)  |\n",
       "| af.factor              | no             | 1569 (77.4) |\n",
       "| <!----> | yes            | 459 (22.6)  |\n",
       "| chronic_kidney_disease | yes            | 715 (35.3)  |\n",
       "| <!----> | no             | 1313 (64.7) |\n",
       "| hf.factor              | yes            | 331 (16.3)  |\n",
       "| <!----> | no             | 1697 (83.7) |\n",
       "| chd.factor             | yes            | 505 (24.9)  |\n",
       "| <!----> | no             | 1523 (75.1) |\n",
       "| diabetes.factor        | no             | 1453 (71.6) |\n",
       "| <!----> | yes            | 575 (28.4)  |\n",
       "| smoking.factor         | current smoker | 176 (8.7)   |\n",
       "| <!----> | ex-smoker      | 704 (34.7)  |\n",
       "| <!----> | non-smoker     | 1128 (55.6) |\n",
       "| <!----> | missing        | 20 (1.0)    |\n",
       "| previous_stroke        | no             | 1943 (95.8) |\n",
       "| <!----> | yes            | 85 (4.2)    |\n",
       "\n"
      ],
      "text/plain": [
       "   label                  levels         all        \n",
       "1  age_admission          Mean (SD)      85.4 (7.6) \n",
       "2  body_mass_index        Mean (SD)      24.8 (6.8) \n",
       "3  af.factor              no             1569 (77.4)\n",
       "4                         yes            459 (22.6) \n",
       "5  chronic_kidney_disease yes            715 (35.3) \n",
       "6                         no             1313 (64.7)\n",
       "7  hf.factor              yes            331 (16.3) \n",
       "8                         no             1697 (83.7)\n",
       "9  chd.factor             yes            505 (24.9) \n",
       "10                        no             1523 (75.1)\n",
       "11 diabetes.factor        no             1453 (71.6)\n",
       "12                        yes            575 (28.4) \n",
       "13 smoking.factor         current smoker 176 (8.7)  \n",
       "14                        ex-smoker      704 (34.7) \n",
       "15                        non-smoker     1128 (55.6)\n",
       "16                        missing        20 (1.0)   \n",
       "17 previous_stroke        no             1943 (95.8)\n",
       "18                        yes            85 (4.2)   "
      ]
     },
     "metadata": {},
     "output_type": "display_data"
    }
   ],
   "source": [
    "bp_data_filtered %>% \n",
    "\n",
    "summary_factorlist(dependent= NULL, explanatory = c(\"age_admission\",\"body_mass_index\",\"af.factor\",\"chronic_kidney_disease\",\"hf.factor\",\"chd.factor\",\"diabetes.factor\",\"smoking.factor\",\"previous_stroke\") )"
   ]
  },
  {
   "cell_type": "markdown",
   "id": "fb9d8cd0-e47e-44a1-89ff-9bc675c55116",
   "metadata": {
    "jp-MarkdownHeadingCollapsed": true,
    "tags": []
   },
   "source": [
    "## Electronic frailty index 2"
   ]
  },
  {
   "cell_type": "code",
   "execution_count": 34,
   "id": "bc09892d-6080-4f96-852a-480a043a8ad7",
   "metadata": {
    "tags": []
   },
   "outputs": [
    {
     "ename": "ERROR",
     "evalue": "\u001b[1m\u001b[33mError\u001b[39m in `mutate()`:\u001b[22m\n\u001b[1m\u001b[22m\u001b[36mℹ\u001b[39m In argument: `efi2.factor = `%>%`(...)`.\n\u001b[1mCaused by error:\u001b[22m\n\u001b[33m!\u001b[39m object 'efi2' not found\n",
     "output_type": "error",
     "traceback": [
      "\u001b[1m\u001b[33mError\u001b[39m in `mutate()`:\u001b[22m\n\u001b[1m\u001b[22m\u001b[36mℹ\u001b[39m In argument: `efi2.factor = `%>%`(...)`.\n\u001b[1mCaused by error:\u001b[22m\n\u001b[33m!\u001b[39m object 'efi2' not found\nTraceback:\n",
      "1. bp_data %>% mutate(efi2.factor = efi2 %>% cut(breaks = c(0, 0.12, \n .     0.24, 0.36, 0.999), include.lowest = TRUE) %>% fct_recode(fit = \"[0,0.12]\", \n .     `mild frailty` = \"(0.12,0.24]\", `moderate frailty` = \"(0.24,0.36]\", \n .     `severe frailty` = \"(0.36,0.999]\") %>% ff_label(\"Efi2 category\"))",
      "2. mutate(., efi2.factor = efi2 %>% cut(breaks = c(0, 0.12, 0.24, \n .     0.36, 0.999), include.lowest = TRUE) %>% fct_recode(fit = \"[0,0.12]\", \n .     `mild frailty` = \"(0.12,0.24]\", `moderate frailty` = \"(0.24,0.36]\", \n .     `severe frailty` = \"(0.36,0.999]\") %>% ff_label(\"Efi2 category\"))",
      "3. mutate.data.frame(., efi2.factor = efi2 %>% cut(breaks = c(0, \n .     0.12, 0.24, 0.36, 0.999), include.lowest = TRUE) %>% fct_recode(fit = \"[0,0.12]\", \n .     `mild frailty` = \"(0.12,0.24]\", `moderate frailty` = \"(0.24,0.36]\", \n .     `severe frailty` = \"(0.36,0.999]\") %>% ff_label(\"Efi2 category\"))",
      "4. mutate_cols(.data, dplyr_quosures(...), by)",
      "5. withCallingHandlers(for (i in seq_along(dots)) {\n .     poke_error_context(dots, i, mask = mask)\n .     context_poke(\"column\", old_current_column)\n .     new_columns <- mutate_col(dots[[i]], data, mask, new_columns)\n . }, error = dplyr_error_handler(dots = dots, mask = mask, bullets = mutate_bullets, \n .     error_call = error_call, error_class = \"dplyr:::mutate_error\"), \n .     warning = dplyr_warning_handler(state = warnings_state, mask = mask, \n .         error_call = error_call))",
      "6. mutate_col(dots[[i]], data, mask, new_columns)",
      "7. mask$eval_all_mutate(quo)",
      "8. eval()",
      "9. efi2 %>% cut(breaks = c(0, 0.12, 0.24, 0.36, 0.999), include.lowest = TRUE) %>% \n .     fct_recode(fit = \"[0,0.12]\", `mild frailty` = \"(0.12,0.24]\", \n .         `moderate frailty` = \"(0.24,0.36]\", `severe frailty` = \"(0.36,0.999]\") %>% \n .     ff_label(\"Efi2 category\")",
      "10. ff_label(., \"Efi2 category\")",
      "11. fct_recode(., fit = \"[0,0.12]\", `mild frailty` = \"(0.12,0.24]\", \n  .     `moderate frailty` = \"(0.24,0.36]\", `severe frailty` = \"(0.36,0.999]\")",
      "12. check_factor(.f)",
      "13. cut(., breaks = c(0, 0.12, 0.24, 0.36, 0.999), include.lowest = TRUE)",
      "14. .handleSimpleError(function (cnd) \n  . {\n  .     local_error_context(dots, i = frame[[i_sym]], mask = mask)\n  .     if (inherits(cnd, \"dplyr:::internal_error\")) {\n  .         parent <- error_cnd(message = bullets(cnd))\n  .     }\n  .     else {\n  .         parent <- cnd\n  .     }\n  .     message <- c(cnd_bullet_header(action), i = if (has_active_group_context(mask)) cnd_bullet_cur_group_label())\n  .     abort(message, class = error_class, parent = parent, call = error_call)\n  . }, \"object 'efi2' not found\", base::quote(NULL))",
      "15. h(simpleError(msg, call))",
      "16. abort(message, class = error_class, parent = parent, call = error_call)",
      "17. signal_abort(cnd, .file)"
     ]
    }
   ],
   "source": [
    "bp_data <- bp_data %>% \n",
    "  mutate(\n",
    "    efi2.factor = \n",
    "      efi2 %>%\n",
    "      cut(breaks = c(0,0.12,0.24,0.36,0.999), include.lowest= TRUE) %>% \n",
    "      fct_recode(\n",
    "        \"fit\"      =  \"[0,0.12]\",\n",
    "        \"mild frailty\" = \"(0.12,0.24]\",\n",
    "        \"moderate frailty\" = \"(0.24,0.36]\",\n",
    "        \"severe frailty\"  = \"(0.36,0.999]\"\n",
    "      ) %>% \n",
    "      ff_label(\"Efi2 category\"))\n",
    "\n"
   ]
  },
  {
   "cell_type": "code",
   "execution_count": null,
   "id": "8bde2c56-747c-4076-b936-7082d3e1c427",
   "metadata": {
    "tags": []
   },
   "outputs": [],
   "source": [
    "bp_data %>% summary_factorlist(dependent = c(\"service.factor\"),explanatory=c(\"efi2.factor\"))"
   ]
  },
  {
   "cell_type": "code",
   "execution_count": null,
   "id": "8c6a144c-abfb-49b7-97df-93ceb8bfe311",
   "metadata": {
    "tags": []
   },
   "outputs": [],
   "source": [
    "efi2 <- bp_data %>% group_by(efi2.factor,service.factor) %>% summarise(freq=n())%>% mutate(percentage=(round(freq/sum(freq),3))*100)\n",
    "\n",
    "efi2"
   ]
  },
  {
   "cell_type": "code",
   "execution_count": null,
   "id": "25626b27-4252-47df-a76c-9d5de064c257",
   "metadata": {
    "tags": []
   },
   "outputs": [],
   "source": [
    "efi2%>%  ggplot(aes(fill=service.factor,x=efi2.factor,y= percentage))+ geom_col(fill='dark green') + theme_bw()+labs(x= \"Electronic frailty index 2\")+expand_limits(y=100)+geom_text(aes(label = percentage),vjust = 0)"
   ]
  },
  {
   "cell_type": "code",
   "execution_count": null,
   "id": "5aac49b4-f57b-4395-9f5e-df21774d7650",
   "metadata": {
    "tags": []
   },
   "outputs": [],
   "source": [
    "bp_data %>% \n",
    "\n",
    "summary_factorlist(dependent= NULL, explanatory = c(\"efi2\",\"efall_value\") )"
   ]
  },
  {
   "cell_type": "code",
   "execution_count": null,
   "id": "562ad672-7c01-4408-a33f-6f4e0f887d4b",
   "metadata": {
    "tags": []
   },
   "outputs": [],
   "source": [
    "bp_data %>%  ggplot(aes(x= life_exp ))+ geom_histogram(bins=50) + theme_bw()"
   ]
  },
  {
   "cell_type": "markdown",
   "id": "cce6916f-3f93-4b22-97d5-8a11bddddcbd",
   "metadata": {
    "jp-MarkdownHeadingCollapsed": true,
    "tags": []
   },
   "source": [
    "## Hypertension Prevalence"
   ]
  },
  {
   "cell_type": "code",
   "execution_count": 73,
   "id": "76c28384-8a3b-4339-a912-80a1ac7d0fcb",
   "metadata": {
    "tags": []
   },
   "outputs": [
    {
     "name": "stderr",
     "output_type": "stream",
     "text": [
      "No dependent variable(s) provided; defaulting to single-level factor\n",
      "\n"
     ]
    },
    {
     "data": {
      "text/html": [
       "<table class=\"dataframe\">\n",
       "<caption>A data.frame.ff: 2 × 3</caption>\n",
       "<thead>\n",
       "\t<tr><th scope=col>label</th><th scope=col>levels</th><th scope=col>all</th></tr>\n",
       "\t<tr><th scope=col>&lt;chr&gt;</th><th scope=col>&lt;chr&gt;</th><th scope=col>&lt;chr&gt;</th></tr>\n",
       "</thead>\n",
       "<tbody>\n",
       "\t<tr><td>hypertension.factor</td><td>FALSE</td><td>766 (27.4) </td></tr>\n",
       "\t<tr><td>                   </td><td>TRUE </td><td>2028 (72.6)</td></tr>\n",
       "</tbody>\n",
       "</table>\n"
      ],
      "text/latex": [
       "A data.frame.ff: 2 × 3\n",
       "\\begin{tabular}{lll}\n",
       " label & levels & all\\\\\n",
       " <chr> & <chr> & <chr>\\\\\n",
       "\\hline\n",
       "\t hypertension.factor & FALSE & 766 (27.4) \\\\\n",
       "\t                     & TRUE  & 2028 (72.6)\\\\\n",
       "\\end{tabular}\n"
      ],
      "text/markdown": [
       "\n",
       "A data.frame.ff: 2 × 3\n",
       "\n",
       "| label &lt;chr&gt; | levels &lt;chr&gt; | all &lt;chr&gt; |\n",
       "|---|---|---|\n",
       "| hypertension.factor | FALSE | 766 (27.4)  |\n",
       "| <!----> | TRUE  | 2028 (72.6) |\n",
       "\n"
      ],
      "text/plain": [
       "  label               levels all        \n",
       "1 hypertension.factor FALSE  766 (27.4) \n",
       "2                     TRUE   2028 (72.6)"
      ]
     },
     "metadata": {},
     "output_type": "display_data"
    }
   ],
   "source": [
    "bp_data %>% summary_factorlist(dependent=NULL, explanatory = c(\"hypertension.factor\"),na_to_prop=TRUE)"
   ]
  },
  {
   "cell_type": "code",
   "execution_count": 74,
   "id": "a3820d02-d30b-4c82-82d4-06859269b50d",
   "metadata": {
    "tags": []
   },
   "outputs": [
    {
     "data": {
      "text/plain": [
       "\n",
       "\tExact binomial test\n",
       "\n",
       "data:  2028 and (766 + 2028)\n",
       "number of successes = 2028, number of trials = 2794, p-value < 2.2e-16\n",
       "alternative hypothesis: true probability of success is not equal to 0.5\n",
       "95 percent confidence interval:\n",
       " 0.7088905 0.7423173\n",
       "sample estimates:\n",
       "probability of success \n",
       "             0.7258411 \n"
      ]
     },
     "metadata": {},
     "output_type": "display_data"
    }
   ],
   "source": [
    " binom.test(2028,(766+2028), conf.level = 0.95)"
   ]
  },
  {
   "cell_type": "code",
   "execution_count": 75,
   "id": "6a8c1656-c40f-4991-9fc6-18f138678fb8",
   "metadata": {
    "tags": []
   },
   "outputs": [],
   "source": [
    "bp_data$bp_reading_factor <- as.factor(bp_data$bp_present)"
   ]
  },
  {
   "cell_type": "markdown",
   "id": "85e8ab0c-3f96-4bbf-a6ea-c8ae758c20d0",
   "metadata": {
    "tags": []
   },
   "source": [
    "# Antihypertensive medicaiton "
   ]
  },
  {
   "cell_type": "markdown",
   "id": "086b09b7-bd4f-4405-9a0d-5d4287376395",
   "metadata": {},
   "source": [
    "i filtered out those with a mortality less than 6 months for the anaylsis below "
   ]
  },
  {
   "cell_type": "code",
   "execution_count": 79,
   "id": "f8aeb764-1fed-4425-a46d-1841e8e2b9e3",
   "metadata": {
    "tags": []
   },
   "outputs": [
    {
     "name": "stdout",
     "output_type": "stream",
     "text": [
      "tibble [4,452 × 10] (S3: tbl_df/tbl/data.frame)\n",
      " $ person_id                   : int [1:4452] 13171674 12620374 13643499 12604384 13562634 13551683 13629575 12731221 12507532 12809455 ...\n",
      " $ beta_blocker                : chr [1:4452] \"false\" \"false\" \"false\" \"false\" ...\n",
      " $ calcium_channel_blocker     : chr [1:4452] \"false\" \"false\" \"false\" \"false\" ...\n",
      " $ thiazide_type_diuretic      : chr [1:4452] \"false\" \"false\" \"false\" \"false\" ...\n",
      " $ angiotensin_receptor_blocker: chr [1:4452] \"false\" \"false\" \"false\" \"false\" ...\n",
      " $ ace_inhibitor               : chr [1:4452] \"false\" \"false\" \"false\" \"false\" ...\n",
      " $ alpha_blocker               : chr [1:4452] \"false\" \"false\" \"false\" \"false\" ...\n",
      " $ no_antihypertensive         : int [1:4452] 0 0 0 0 0 0 0 0 0 0 ...\n",
      " $ time_status                 : chr [1:4452] \"admission\" \"admission\" \"admission\" \"admission\" ...\n",
      " $ early_death                 : chr [1:4452] \"false\" \"false\" \"false\" \"false\" ...\n"
     ]
    }
   ],
   "source": [
    "sql_med<- paste('SELECT * from `CB_2172.cb_2172_antihypertensive_long_format` where person_id in (select person_id from ',targetdb3,'.care_home_cohort_v1 where mortality > 183) ;',sep=\"\")\n",
    "\n",
    "tbl_med <-bq_project_query(ProjectId,sql_med)\n",
    "\n",
    "tbl_med <- bq_table_download(tbl_med)\n",
    "\n",
    "tbl_med_f <- tbl_med\n",
    "#still need to exclude those with a death\n",
    "str(tbl_med)"
   ]
  },
  {
   "cell_type": "code",
   "execution_count": 80,
   "id": "702dd121-bb0c-42fc-bba9-b6cdd458804e",
   "metadata": {
    "tags": []
   },
   "outputs": [],
   "source": [
    "#switch time_status and medication binary variables to factor variables \n",
    "tbl_med_f$time_status.factor <- as.factor(tbl_med_f$time_status)\n",
    "\n",
    "tbl_med_f <- tbl_med_f %>% select(-time_status)"
   ]
  },
  {
   "cell_type": "markdown",
   "id": "4786a0a7-efad-4299-b9aa-0a4fd33b8fe3",
   "metadata": {},
   "source": [
    "### this section will produce a table of the type of antihypertensives prescribed and how this changes during admission in those with hypertension"
   ]
  },
  {
   "cell_type": "code",
   "execution_count": 81,
   "id": "b1c13088-d4ef-4a3d-ac36-5c12e5483f35",
   "metadata": {
    "tags": []
   },
   "outputs": [],
   "source": [
    "tbl_med_class <-tbl_med_f"
   ]
  },
  {
   "cell_type": "code",
   "execution_count": 82,
   "id": "28e30b5f-da20-4a3c-b398-68f503d14847",
   "metadata": {
    "tags": []
   },
   "outputs": [],
   "source": [
    "tbl_med_class$beta_blocker.factor <- as.factor(tbl_med_class$beta_blocker)\n",
    "\n",
    "tbl_med <- tbl_med_class %>% select(-beta_blocker)"
   ]
  },
  {
   "cell_type": "code",
   "execution_count": 84,
   "id": "8af10db9-7ff7-4e94-8a75-051e436f5bdd",
   "metadata": {
    "tags": []
   },
   "outputs": [],
   "source": [
    "tbl_med_class$calcium_channel_blocker.factor <- as.factor(tbl_med_class$calcium_channel_blocker)\n",
    "\n",
    "tbl_med_class <- tbl_med_class %>% select(-calcium_channel_blocker)"
   ]
  },
  {
   "cell_type": "code",
   "execution_count": 83,
   "id": "92a637d0-2364-4c06-b55a-1716b6a59478",
   "metadata": {
    "tags": []
   },
   "outputs": [],
   "source": [
    "tbl_med_class$thiazide.factor <- as.factor(tbl_med_class$thiazide_type_diuretic)\n",
    "\n",
    "tbl_med_class <- tbl_med_class %>% select(-thiazide_type_diuretic)"
   ]
  },
  {
   "cell_type": "code",
   "execution_count": 85,
   "id": "cb3493cc-0e3c-4af1-99be-f99b3d7b8cb1",
   "metadata": {
    "tags": []
   },
   "outputs": [],
   "source": [
    "tbl_med_class$angiotensin_receptor_blocker.factor <- as.factor(tbl_med_class$angiotensin_receptor_blocker)\n",
    "\n",
    "tbl_med_class <- tbl_med_class %>% select(-angiotensin_receptor_blocker)"
   ]
  },
  {
   "cell_type": "code",
   "execution_count": 86,
   "id": "8037496b-1cde-44c4-bcec-aa78dacb5eb6",
   "metadata": {
    "tags": []
   },
   "outputs": [],
   "source": [
    "tbl_med_class$ace_inhibitor.factor <- as.factor(tbl_med_class$ace_inhibitor)\n",
    "\n",
    "tbl_med_class <- tbl_med_class %>% select(-ace_inhibitor)"
   ]
  },
  {
   "cell_type": "code",
   "execution_count": 87,
   "id": "a80971c2-50e7-4f4d-93d2-c4d467bce607",
   "metadata": {
    "tags": []
   },
   "outputs": [],
   "source": [
    "tbl_med_class$alpha_blocker.factor <- as.factor(tbl_med_class$alpha_blocker)\n",
    "\n",
    "tbl_med_class <- tbl_med_class %>% select(-alpha_blocker)\n"
   ]
  },
  {
   "cell_type": "code",
   "execution_count": 88,
   "id": "43d2b53d-60de-4d41-af5d-d81693c1feef",
   "metadata": {
    "tags": []
   },
   "outputs": [],
   "source": [
    "tbl_med_class$early_death.factor <- as.factor(tbl_med_class$early_death)\n",
    "\n",
    "tbl_med_class <- tbl_med_class %>% select(-early_death)"
   ]
  },
  {
   "cell_type": "code",
   "execution_count": 89,
   "id": "95b6264d-2519-4b89-823b-122af1517936",
   "metadata": {
    "tags": []
   },
   "outputs": [
    {
     "data": {
      "text/html": [
       "<style>\n",
       ".list-inline {list-style: none; margin:0; padding: 0}\n",
       ".list-inline>li {display: inline-block}\n",
       ".list-inline>li:not(:last-child)::after {content: \"\\00b7\"; padding: 0 .5ex}\n",
       "</style>\n",
       "<ol class=list-inline><li>'admission'</li><li>'post_admission'</li><li>'pre_admission'</li></ol>\n"
      ],
      "text/latex": [
       "\\begin{enumerate*}\n",
       "\\item 'admission'\n",
       "\\item 'post\\_admission'\n",
       "\\item 'pre\\_admission'\n",
       "\\end{enumerate*}\n"
      ],
      "text/markdown": [
       "1. 'admission'\n",
       "2. 'post_admission'\n",
       "3. 'pre_admission'\n",
       "\n",
       "\n"
      ],
      "text/plain": [
       "[1] \"admission\"      \"post_admission\" \"pre_admission\" "
      ]
     },
     "metadata": {},
     "output_type": "display_data"
    }
   ],
   "source": [
    "tbl_med$time_status.factor %>% levels()"
   ]
  },
  {
   "cell_type": "code",
   "execution_count": 90,
   "id": "2d8dd4a3-3069-49f1-88d7-5e218b8d1699",
   "metadata": {
    "tags": []
   },
   "outputs": [
    {
     "data": {
      "text/html": [
       "<style>\n",
       ".list-inline {list-style: none; margin:0; padding: 0}\n",
       ".list-inline>li {display: inline-block}\n",
       ".list-inline>li:not(:last-child)::after {content: \"\\00b7\"; padding: 0 .5ex}\n",
       "</style>\n",
       "<ol class=list-inline><li>'pre_admission'</li><li>'admission'</li><li>'post_admission'</li></ol>\n"
      ],
      "text/latex": [
       "\\begin{enumerate*}\n",
       "\\item 'pre\\_admission'\n",
       "\\item 'admission'\n",
       "\\item 'post\\_admission'\n",
       "\\end{enumerate*}\n"
      ],
      "text/markdown": [
       "1. 'pre_admission'\n",
       "2. 'admission'\n",
       "3. 'post_admission'\n",
       "\n",
       "\n"
      ],
      "text/plain": [
       "[1] \"pre_admission\"  \"admission\"      \"post_admission\""
      ]
     },
     "metadata": {},
     "output_type": "display_data"
    }
   ],
   "source": [
    " tbl_med_class <- tbl_med_class %>% \n",
    "  mutate(time_status.factor = time_status.factor %>% \n",
    "           fct_relevel(\"pre_admission\"))\n",
    "\n",
    "tbl_med_class$time_status.factor %>% levels()"
   ]
  },
  {
   "cell_type": "code",
   "execution_count": 91,
   "id": "745ccb85-6b08-44ef-8151-0fa795ef70e4",
   "metadata": {
    "tags": []
   },
   "outputs": [
    {
     "data": {
      "text/html": [
       "<table class=\"dataframe\">\n",
       "<caption>A data.frame.ff: 12 × 5</caption>\n",
       "<thead>\n",
       "\t<tr><th scope=col>label</th><th scope=col>levels</th><th scope=col>pre_admission</th><th scope=col>admission</th><th scope=col>post_admission</th></tr>\n",
       "\t<tr><th scope=col>&lt;chr&gt;</th><th scope=col>&lt;chr&gt;</th><th scope=col>&lt;chr&gt;</th><th scope=col>&lt;chr&gt;</th><th scope=col>&lt;chr&gt;</th></tr>\n",
       "</thead>\n",
       "<tbody>\n",
       "\t<tr><td>calcium_channel_blocker.factor     </td><td>false</td><td>1317 (88.7)</td><td>1359 (91.6)</td><td>1383 (93.2)</td></tr>\n",
       "\t<tr><td>                                   </td><td>true </td><td>167 (11.3) </td><td>125 (8.4)  </td><td>101 (6.8)  </td></tr>\n",
       "\t<tr><td>beta_blocker.factor                </td><td>false</td><td>1181 (79.6)</td><td>1201 (80.9)</td><td>1201 (80.9)</td></tr>\n",
       "\t<tr><td>                                   </td><td>true </td><td>303 (20.4) </td><td>283 (19.1) </td><td>283 (19.1) </td></tr>\n",
       "\t<tr><td>ace_inhibitor.factor               </td><td>false</td><td>1245 (83.9)</td><td>1351 (91.0)</td><td>1362 (91.8)</td></tr>\n",
       "\t<tr><td>                                   </td><td>true </td><td>239 (16.1) </td><td>133 (9.0)  </td><td>122 (8.2)  </td></tr>\n",
       "\t<tr><td>angiotensin_receptor_blocker.factor</td><td>false</td><td>1377 (92.8)</td><td>1418 (95.6)</td><td>1433 (96.6)</td></tr>\n",
       "\t<tr><td>                                   </td><td>true </td><td>107 (7.2)  </td><td>66 (4.4)   </td><td>51 (3.4)   </td></tr>\n",
       "\t<tr><td>alpha_blocker.factor               </td><td>false</td><td>1446 (97.4)</td><td>1463 (98.6)</td><td>1470 (99.1)</td></tr>\n",
       "\t<tr><td>                                   </td><td>true </td><td>38 (2.6)   </td><td>21 (1.4)   </td><td>14 (0.9)   </td></tr>\n",
       "\t<tr><td>thiazide.factor                    </td><td>false</td><td>1414 (95.3)</td><td>1457 (98.2)</td><td>1468 (98.9)</td></tr>\n",
       "\t<tr><td>                                   </td><td>true </td><td>70 (4.7)   </td><td>27 (1.8)   </td><td>16 (1.1)   </td></tr>\n",
       "</tbody>\n",
       "</table>\n"
      ],
      "text/latex": [
       "A data.frame.ff: 12 × 5\n",
       "\\begin{tabular}{lllll}\n",
       " label & levels & pre\\_admission & admission & post\\_admission\\\\\n",
       " <chr> & <chr> & <chr> & <chr> & <chr>\\\\\n",
       "\\hline\n",
       "\t calcium\\_channel\\_blocker.factor      & false & 1317 (88.7) & 1359 (91.6) & 1383 (93.2)\\\\\n",
       "\t                                     & true  & 167 (11.3)  & 125 (8.4)   & 101 (6.8)  \\\\\n",
       "\t beta\\_blocker.factor                 & false & 1181 (79.6) & 1201 (80.9) & 1201 (80.9)\\\\\n",
       "\t                                     & true  & 303 (20.4)  & 283 (19.1)  & 283 (19.1) \\\\\n",
       "\t ace\\_inhibitor.factor                & false & 1245 (83.9) & 1351 (91.0) & 1362 (91.8)\\\\\n",
       "\t                                     & true  & 239 (16.1)  & 133 (9.0)   & 122 (8.2)  \\\\\n",
       "\t angiotensin\\_receptor\\_blocker.factor & false & 1377 (92.8) & 1418 (95.6) & 1433 (96.6)\\\\\n",
       "\t                                     & true  & 107 (7.2)   & 66 (4.4)    & 51 (3.4)   \\\\\n",
       "\t alpha\\_blocker.factor                & false & 1446 (97.4) & 1463 (98.6) & 1470 (99.1)\\\\\n",
       "\t                                     & true  & 38 (2.6)    & 21 (1.4)    & 14 (0.9)   \\\\\n",
       "\t thiazide.factor                     & false & 1414 (95.3) & 1457 (98.2) & 1468 (98.9)\\\\\n",
       "\t                                     & true  & 70 (4.7)    & 27 (1.8)    & 16 (1.1)   \\\\\n",
       "\\end{tabular}\n"
      ],
      "text/markdown": [
       "\n",
       "A data.frame.ff: 12 × 5\n",
       "\n",
       "| label &lt;chr&gt; | levels &lt;chr&gt; | pre_admission &lt;chr&gt; | admission &lt;chr&gt; | post_admission &lt;chr&gt; |\n",
       "|---|---|---|---|---|\n",
       "| calcium_channel_blocker.factor      | false | 1317 (88.7) | 1359 (91.6) | 1383 (93.2) |\n",
       "| <!----> | true  | 167 (11.3)  | 125 (8.4)   | 101 (6.8)   |\n",
       "| beta_blocker.factor                 | false | 1181 (79.6) | 1201 (80.9) | 1201 (80.9) |\n",
       "| <!----> | true  | 303 (20.4)  | 283 (19.1)  | 283 (19.1)  |\n",
       "| ace_inhibitor.factor                | false | 1245 (83.9) | 1351 (91.0) | 1362 (91.8) |\n",
       "| <!----> | true  | 239 (16.1)  | 133 (9.0)   | 122 (8.2)   |\n",
       "| angiotensin_receptor_blocker.factor | false | 1377 (92.8) | 1418 (95.6) | 1433 (96.6) |\n",
       "| <!----> | true  | 107 (7.2)   | 66 (4.4)    | 51 (3.4)    |\n",
       "| alpha_blocker.factor                | false | 1446 (97.4) | 1463 (98.6) | 1470 (99.1) |\n",
       "| <!----> | true  | 38 (2.6)    | 21 (1.4)    | 14 (0.9)    |\n",
       "| thiazide.factor                     | false | 1414 (95.3) | 1457 (98.2) | 1468 (98.9) |\n",
       "| <!----> | true  | 70 (4.7)    | 27 (1.8)    | 16 (1.1)    |\n",
       "\n"
      ],
      "text/plain": [
       "   label                               levels pre_admission admission  \n",
       "1  calcium_channel_blocker.factor      false  1317 (88.7)   1359 (91.6)\n",
       "2                                      true   167 (11.3)    125 (8.4)  \n",
       "3  beta_blocker.factor                 false  1181 (79.6)   1201 (80.9)\n",
       "4                                      true   303 (20.4)    283 (19.1) \n",
       "5  ace_inhibitor.factor                false  1245 (83.9)   1351 (91.0)\n",
       "6                                      true   239 (16.1)    133 (9.0)  \n",
       "7  angiotensin_receptor_blocker.factor false  1377 (92.8)   1418 (95.6)\n",
       "8                                      true   107 (7.2)     66 (4.4)   \n",
       "9  alpha_blocker.factor                false  1446 (97.4)   1463 (98.6)\n",
       "10                                     true   38 (2.6)      21 (1.4)   \n",
       "11 thiazide.factor                     false  1414 (95.3)   1457 (98.2)\n",
       "12                                     true   70 (4.7)      27 (1.8)   \n",
       "   post_admission\n",
       "1  1383 (93.2)   \n",
       "2  101 (6.8)     \n",
       "3  1201 (80.9)   \n",
       "4  283 (19.1)    \n",
       "5  1362 (91.8)   \n",
       "6  122 (8.2)     \n",
       "7  1433 (96.6)   \n",
       "8  51 (3.4)      \n",
       "9  1470 (99.1)   \n",
       "10 14 (0.9)      \n",
       "11 1468 (98.9)   \n",
       "12 16 (1.1)      "
      ]
     },
     "metadata": {},
     "output_type": "display_data"
    }
   ],
   "source": [
    "tbl_med_class %>% summary_factorlist(dependent   =\"time_status.factor\" , \n",
    "                     explanatory = c(\"calcium_channel_blocker.factor\", \"beta_blocker.factor\",\"ace_inhibitor.factor\",\"angiotensin_receptor_blocker.factor\",\"alpha_blocker.factor\",\"thiazide.factor\"))\n"
   ]
  },
  {
   "cell_type": "markdown",
   "id": "f496c6ca-560f-495f-ac16-17c98e0087dc",
   "metadata": {},
   "source": [
    "### this next section will etermine the number of antihypertnesives prescribed for each inidiudal and how this changes ove rthe course of an admission "
   ]
  },
  {
   "cell_type": "code",
   "execution_count": 92,
   "id": "d7f22bb3-5bdd-4ce4-b4af-40519a073100",
   "metadata": {
    "tags": []
   },
   "outputs": [],
   "source": [
    "tbl_antihypertensive_class <- tbl_med_f %>%  filter(time_status.factor == 'admission')"
   ]
  },
  {
   "cell_type": "code",
   "execution_count": null,
   "id": "3be19ebf-9361-4d7c-8b2d-5ea5b44433a0",
   "metadata": {},
   "outputs": [],
   "source": [
    "#convert medication data into long format"
   ]
  },
  {
   "cell_type": "code",
   "execution_count": 93,
   "id": "3b7aaceb-5504-43a3-bf09-21751dd8588f",
   "metadata": {
    "tags": []
   },
   "outputs": [],
   "source": [
    "tbl_med_long <- tbl_med_f %>% pivot_longer(beta_blocker:alpha_blocker,names_to = \"antihypertensive\",values_to= \"prescribed\")"
   ]
  },
  {
   "cell_type": "code",
   "execution_count": null,
   "id": "1f448a69-d7cc-40eb-a681-b299d9dee1ad",
   "metadata": {},
   "outputs": [],
   "source": [
    "#recode antihypertenisve classess as factor vectors"
   ]
  },
  {
   "cell_type": "code",
   "execution_count": 94,
   "id": "1428e337-bfac-4dab-9b37-ec89fb09f72e",
   "metadata": {
    "tags": []
   },
   "outputs": [],
   "source": [
    "tbl_med_long$antihypertensive.factor <- as.factor(tbl_med_long$antihypertensive)\n",
    "tbl_med_long<- tbl_med_long %>% select(-antihypertensive)"
   ]
  },
  {
   "cell_type": "code",
   "execution_count": null,
   "id": "8666d097-0b4e-4dd0-aed4-51d9c4955c24",
   "metadata": {
    "tags": []
   },
   "outputs": [],
   "source": [
    "#this was attempt at trying to do the group_by function in R< but didn't work so i just sent it back to bigquery and did it there because i know how to do it with SQL\n",
    "#tbl_med_long_filtered <- tbl_med_long  %>%   group_by(person_id, tbl_med_long$time_status.factor)%>% summarise(antihypertensive.factor)"
   ]
  },
  {
   "cell_type": "code",
   "execution_count": 96,
   "id": "783f140c-8d45-4816-9c95-c01271abea65",
   "metadata": {
    "tags": []
   },
   "outputs": [],
   "source": [
    "names(tbl_med_long)[names(tbl_med_long) == \"antihypertensive.factor\"] <- \"antihypertensive_type\"\n",
    "names(tbl_med_long)[names(tbl_med_long) == \"time_status.factor\"] <- \"time_factor\""
   ]
  },
  {
   "cell_type": "code",
   "execution_count": 97,
   "id": "440e31c9-537d-47de-ae02-401be838a97c",
   "metadata": {
    "tags": []
   },
   "outputs": [],
   "source": [
    "mybq = bq_table(project='yhcr-prd-bradfor-bia-core', dataset='CB_2172', table='tbl_med_long_filtered')\n",
    "bq_table_upload(x=mybq, values= tbl_med_long, create_disposition='CREATE_IF_NEEDED', \n",
    "             write_disposition='WRITE_TRUNCATE')"
   ]
  },
  {
   "cell_type": "code",
   "execution_count": 98,
   "id": "bde56f62-947c-44d5-9063-3665783dc0ef",
   "metadata": {
    "tags": []
   },
   "outputs": [],
   "source": [
    "sql4<- paste(\n",
    "    'SELECT person_id, time_factor, avg(no_antihypertensive) as number_antihypertensive \n",
    "FROM `yhcr-prd-bradfor-bia-core.CB_2172.tbl_med_long_filtered` \n",
    "group by person_id, time_factor \n",
    "order by person_id, time_factor;'\n",
    "             ,sep=\"\")\n",
    "\n",
    "tbl_antihtn <-bq_project_query(ProjectId,sql4)\n",
    "\n",
    "tbl_antihtn <- bq_table_download(tbl_antihtn)\n",
    "\n"
   ]
  },
  {
   "cell_type": "code",
   "execution_count": 128,
   "id": "f2ea0dc0-988c-49fd-9ba3-ffd64dc52127",
   "metadata": {
    "tags": []
   },
   "outputs": [],
   "source": [
    " tbl_antihtn$number_antihypertensive.factor <- as.factor(tbl_antihtn$number_antihypertensive)%>% fct_collapse(\"4+\"=c(4,5))\n",
    " tbl_antihtn$time.factor <- as.factor(tbl_antihtn$time_factor)"
   ]
  },
  {
   "cell_type": "code",
   "execution_count": 129,
   "id": "a6addc76-0366-4575-ba4c-fee1e92b3032",
   "metadata": {
    "tags": []
   },
   "outputs": [
    {
     "data": {
      "text/html": [
       "<table class=\"dataframe\">\n",
       "<caption>A tibble: 4452 × 5</caption>\n",
       "<thead>\n",
       "\t<tr><th scope=col>person_id</th><th scope=col>time_factor</th><th scope=col>number_antihypertensive</th><th scope=col>number_antihypertensive.factor</th><th scope=col>time.factor</th></tr>\n",
       "\t<tr><th scope=col>&lt;int&gt;</th><th scope=col>&lt;chr&gt;</th><th scope=col>&lt;dbl&gt;</th><th scope=col>&lt;fct&gt;</th><th scope=col>&lt;fct&gt;</th></tr>\n",
       "</thead>\n",
       "<tbody>\n",
       "\t<tr><td>  1271</td><td>admission     </td><td>1</td><td>1</td><td>admission     </td></tr>\n",
       "\t<tr><td>  1271</td><td>post_admission</td><td>1</td><td>1</td><td>post_admission</td></tr>\n",
       "\t<tr><td>  1271</td><td>pre_admission </td><td>1</td><td>1</td><td>pre_admission </td></tr>\n",
       "\t<tr><td>  5275</td><td>admission     </td><td>0</td><td>0</td><td>admission     </td></tr>\n",
       "\t<tr><td>  5275</td><td>post_admission</td><td>0</td><td>0</td><td>post_admission</td></tr>\n",
       "\t<tr><td>  5275</td><td>pre_admission </td><td>0</td><td>0</td><td>pre_admission </td></tr>\n",
       "\t<tr><td>111197</td><td>admission     </td><td>0</td><td>0</td><td>admission     </td></tr>\n",
       "\t<tr><td>111197</td><td>post_admission</td><td>0</td><td>0</td><td>post_admission</td></tr>\n",
       "\t<tr><td>111197</td><td>pre_admission </td><td>0</td><td>0</td><td>pre_admission </td></tr>\n",
       "\t<tr><td>118634</td><td>admission     </td><td>2</td><td>2</td><td>admission     </td></tr>\n",
       "\t<tr><td>118634</td><td>post_admission</td><td>0</td><td>0</td><td>post_admission</td></tr>\n",
       "\t<tr><td>118634</td><td>pre_admission </td><td>1</td><td>1</td><td>pre_admission </td></tr>\n",
       "\t<tr><td>144752</td><td>admission     </td><td>1</td><td>1</td><td>admission     </td></tr>\n",
       "\t<tr><td>144752</td><td>post_admission</td><td>0</td><td>0</td><td>post_admission</td></tr>\n",
       "\t<tr><td>144752</td><td>pre_admission </td><td>1</td><td>1</td><td>pre_admission </td></tr>\n",
       "\t<tr><td>158375</td><td>admission     </td><td>0</td><td>0</td><td>admission     </td></tr>\n",
       "\t<tr><td>158375</td><td>post_admission</td><td>0</td><td>0</td><td>post_admission</td></tr>\n",
       "\t<tr><td>158375</td><td>pre_admission </td><td>0</td><td>0</td><td>pre_admission </td></tr>\n",
       "\t<tr><td>186499</td><td>admission     </td><td>0</td><td>0</td><td>admission     </td></tr>\n",
       "\t<tr><td>186499</td><td>post_admission</td><td>0</td><td>0</td><td>post_admission</td></tr>\n",
       "\t<tr><td>186499</td><td>pre_admission </td><td>0</td><td>0</td><td>pre_admission </td></tr>\n",
       "\t<tr><td>207865</td><td>admission     </td><td>1</td><td>1</td><td>admission     </td></tr>\n",
       "\t<tr><td>207865</td><td>post_admission</td><td>1</td><td>1</td><td>post_admission</td></tr>\n",
       "\t<tr><td>207865</td><td>pre_admission </td><td>1</td><td>1</td><td>pre_admission </td></tr>\n",
       "\t<tr><td>233073</td><td>admission     </td><td>0</td><td>0</td><td>admission     </td></tr>\n",
       "\t<tr><td>233073</td><td>post_admission</td><td>1</td><td>1</td><td>post_admission</td></tr>\n",
       "\t<tr><td>233073</td><td>pre_admission </td><td>1</td><td>1</td><td>pre_admission </td></tr>\n",
       "\t<tr><td>247662</td><td>admission     </td><td>0</td><td>0</td><td>admission     </td></tr>\n",
       "\t<tr><td>247662</td><td>post_admission</td><td>0</td><td>0</td><td>post_admission</td></tr>\n",
       "\t<tr><td>247662</td><td>pre_admission </td><td>0</td><td>0</td><td>pre_admission </td></tr>\n",
       "\t<tr><td>⋮</td><td>⋮</td><td>⋮</td><td>⋮</td><td>⋮</td></tr>\n",
       "\t<tr><td>13749902</td><td>admission     </td><td>0</td><td>0</td><td>admission     </td></tr>\n",
       "\t<tr><td>13749902</td><td>post_admission</td><td>0</td><td>0</td><td>post_admission</td></tr>\n",
       "\t<tr><td>13749902</td><td>pre_admission </td><td>1</td><td>1</td><td>pre_admission </td></tr>\n",
       "\t<tr><td>13751531</td><td>admission     </td><td>0</td><td>0</td><td>admission     </td></tr>\n",
       "\t<tr><td>13751531</td><td>post_admission</td><td>0</td><td>0</td><td>post_admission</td></tr>\n",
       "\t<tr><td>13751531</td><td>pre_admission </td><td>3</td><td>3</td><td>pre_admission </td></tr>\n",
       "\t<tr><td>13751566</td><td>admission     </td><td>0</td><td>0</td><td>admission     </td></tr>\n",
       "\t<tr><td>13751566</td><td>post_admission</td><td>0</td><td>0</td><td>post_admission</td></tr>\n",
       "\t<tr><td>13751566</td><td>pre_admission </td><td>0</td><td>0</td><td>pre_admission </td></tr>\n",
       "\t<tr><td>13752194</td><td>admission     </td><td>0</td><td>0</td><td>admission     </td></tr>\n",
       "\t<tr><td>13752194</td><td>post_admission</td><td>0</td><td>0</td><td>post_admission</td></tr>\n",
       "\t<tr><td>13752194</td><td>pre_admission </td><td>1</td><td>1</td><td>pre_admission </td></tr>\n",
       "\t<tr><td>13753818</td><td>admission     </td><td>0</td><td>0</td><td>admission     </td></tr>\n",
       "\t<tr><td>13753818</td><td>post_admission</td><td>0</td><td>0</td><td>post_admission</td></tr>\n",
       "\t<tr><td>13753818</td><td>pre_admission </td><td>1</td><td>1</td><td>pre_admission </td></tr>\n",
       "\t<tr><td>13754222</td><td>admission     </td><td>0</td><td>0</td><td>admission     </td></tr>\n",
       "\t<tr><td>13754222</td><td>post_admission</td><td>0</td><td>0</td><td>post_admission</td></tr>\n",
       "\t<tr><td>13754222</td><td>pre_admission </td><td>0</td><td>0</td><td>pre_admission </td></tr>\n",
       "\t<tr><td>13757645</td><td>admission     </td><td>1</td><td>1</td><td>admission     </td></tr>\n",
       "\t<tr><td>13757645</td><td>post_admission</td><td>1</td><td>1</td><td>post_admission</td></tr>\n",
       "\t<tr><td>13757645</td><td>pre_admission </td><td>1</td><td>1</td><td>pre_admission </td></tr>\n",
       "\t<tr><td>13759086</td><td>admission     </td><td>0</td><td>0</td><td>admission     </td></tr>\n",
       "\t<tr><td>13759086</td><td>post_admission</td><td>1</td><td>1</td><td>post_admission</td></tr>\n",
       "\t<tr><td>13759086</td><td>pre_admission </td><td>0</td><td>0</td><td>pre_admission </td></tr>\n",
       "\t<tr><td>13761135</td><td>admission     </td><td>1</td><td>1</td><td>admission     </td></tr>\n",
       "\t<tr><td>13761135</td><td>post_admission</td><td>1</td><td>1</td><td>post_admission</td></tr>\n",
       "\t<tr><td>13761135</td><td>pre_admission </td><td>2</td><td>2</td><td>pre_admission </td></tr>\n",
       "\t<tr><td>13762654</td><td>admission     </td><td>0</td><td>0</td><td>admission     </td></tr>\n",
       "\t<tr><td>13762654</td><td>post_admission</td><td>0</td><td>0</td><td>post_admission</td></tr>\n",
       "\t<tr><td>13762654</td><td>pre_admission </td><td>1</td><td>1</td><td>pre_admission </td></tr>\n",
       "</tbody>\n",
       "</table>\n"
      ],
      "text/latex": [
       "A tibble: 4452 × 5\n",
       "\\begin{tabular}{lllll}\n",
       " person\\_id & time\\_factor & number\\_antihypertensive & number\\_antihypertensive.factor & time.factor\\\\\n",
       " <int> & <chr> & <dbl> & <fct> & <fct>\\\\\n",
       "\\hline\n",
       "\t   1271 & admission      & 1 & 1 & admission     \\\\\n",
       "\t   1271 & post\\_admission & 1 & 1 & post\\_admission\\\\\n",
       "\t   1271 & pre\\_admission  & 1 & 1 & pre\\_admission \\\\\n",
       "\t   5275 & admission      & 0 & 0 & admission     \\\\\n",
       "\t   5275 & post\\_admission & 0 & 0 & post\\_admission\\\\\n",
       "\t   5275 & pre\\_admission  & 0 & 0 & pre\\_admission \\\\\n",
       "\t 111197 & admission      & 0 & 0 & admission     \\\\\n",
       "\t 111197 & post\\_admission & 0 & 0 & post\\_admission\\\\\n",
       "\t 111197 & pre\\_admission  & 0 & 0 & pre\\_admission \\\\\n",
       "\t 118634 & admission      & 2 & 2 & admission     \\\\\n",
       "\t 118634 & post\\_admission & 0 & 0 & post\\_admission\\\\\n",
       "\t 118634 & pre\\_admission  & 1 & 1 & pre\\_admission \\\\\n",
       "\t 144752 & admission      & 1 & 1 & admission     \\\\\n",
       "\t 144752 & post\\_admission & 0 & 0 & post\\_admission\\\\\n",
       "\t 144752 & pre\\_admission  & 1 & 1 & pre\\_admission \\\\\n",
       "\t 158375 & admission      & 0 & 0 & admission     \\\\\n",
       "\t 158375 & post\\_admission & 0 & 0 & post\\_admission\\\\\n",
       "\t 158375 & pre\\_admission  & 0 & 0 & pre\\_admission \\\\\n",
       "\t 186499 & admission      & 0 & 0 & admission     \\\\\n",
       "\t 186499 & post\\_admission & 0 & 0 & post\\_admission\\\\\n",
       "\t 186499 & pre\\_admission  & 0 & 0 & pre\\_admission \\\\\n",
       "\t 207865 & admission      & 1 & 1 & admission     \\\\\n",
       "\t 207865 & post\\_admission & 1 & 1 & post\\_admission\\\\\n",
       "\t 207865 & pre\\_admission  & 1 & 1 & pre\\_admission \\\\\n",
       "\t 233073 & admission      & 0 & 0 & admission     \\\\\n",
       "\t 233073 & post\\_admission & 1 & 1 & post\\_admission\\\\\n",
       "\t 233073 & pre\\_admission  & 1 & 1 & pre\\_admission \\\\\n",
       "\t 247662 & admission      & 0 & 0 & admission     \\\\\n",
       "\t 247662 & post\\_admission & 0 & 0 & post\\_admission\\\\\n",
       "\t 247662 & pre\\_admission  & 0 & 0 & pre\\_admission \\\\\n",
       "\t ⋮ & ⋮ & ⋮ & ⋮ & ⋮\\\\\n",
       "\t 13749902 & admission      & 0 & 0 & admission     \\\\\n",
       "\t 13749902 & post\\_admission & 0 & 0 & post\\_admission\\\\\n",
       "\t 13749902 & pre\\_admission  & 1 & 1 & pre\\_admission \\\\\n",
       "\t 13751531 & admission      & 0 & 0 & admission     \\\\\n",
       "\t 13751531 & post\\_admission & 0 & 0 & post\\_admission\\\\\n",
       "\t 13751531 & pre\\_admission  & 3 & 3 & pre\\_admission \\\\\n",
       "\t 13751566 & admission      & 0 & 0 & admission     \\\\\n",
       "\t 13751566 & post\\_admission & 0 & 0 & post\\_admission\\\\\n",
       "\t 13751566 & pre\\_admission  & 0 & 0 & pre\\_admission \\\\\n",
       "\t 13752194 & admission      & 0 & 0 & admission     \\\\\n",
       "\t 13752194 & post\\_admission & 0 & 0 & post\\_admission\\\\\n",
       "\t 13752194 & pre\\_admission  & 1 & 1 & pre\\_admission \\\\\n",
       "\t 13753818 & admission      & 0 & 0 & admission     \\\\\n",
       "\t 13753818 & post\\_admission & 0 & 0 & post\\_admission\\\\\n",
       "\t 13753818 & pre\\_admission  & 1 & 1 & pre\\_admission \\\\\n",
       "\t 13754222 & admission      & 0 & 0 & admission     \\\\\n",
       "\t 13754222 & post\\_admission & 0 & 0 & post\\_admission\\\\\n",
       "\t 13754222 & pre\\_admission  & 0 & 0 & pre\\_admission \\\\\n",
       "\t 13757645 & admission      & 1 & 1 & admission     \\\\\n",
       "\t 13757645 & post\\_admission & 1 & 1 & post\\_admission\\\\\n",
       "\t 13757645 & pre\\_admission  & 1 & 1 & pre\\_admission \\\\\n",
       "\t 13759086 & admission      & 0 & 0 & admission     \\\\\n",
       "\t 13759086 & post\\_admission & 1 & 1 & post\\_admission\\\\\n",
       "\t 13759086 & pre\\_admission  & 0 & 0 & pre\\_admission \\\\\n",
       "\t 13761135 & admission      & 1 & 1 & admission     \\\\\n",
       "\t 13761135 & post\\_admission & 1 & 1 & post\\_admission\\\\\n",
       "\t 13761135 & pre\\_admission  & 2 & 2 & pre\\_admission \\\\\n",
       "\t 13762654 & admission      & 0 & 0 & admission     \\\\\n",
       "\t 13762654 & post\\_admission & 0 & 0 & post\\_admission\\\\\n",
       "\t 13762654 & pre\\_admission  & 1 & 1 & pre\\_admission \\\\\n",
       "\\end{tabular}\n"
      ],
      "text/markdown": [
       "\n",
       "A tibble: 4452 × 5\n",
       "\n",
       "| person_id &lt;int&gt; | time_factor &lt;chr&gt; | number_antihypertensive &lt;dbl&gt; | number_antihypertensive.factor &lt;fct&gt; | time.factor &lt;fct&gt; |\n",
       "|---|---|---|---|---|\n",
       "|   1271 | admission      | 1 | 1 | admission      |\n",
       "|   1271 | post_admission | 1 | 1 | post_admission |\n",
       "|   1271 | pre_admission  | 1 | 1 | pre_admission  |\n",
       "|   5275 | admission      | 0 | 0 | admission      |\n",
       "|   5275 | post_admission | 0 | 0 | post_admission |\n",
       "|   5275 | pre_admission  | 0 | 0 | pre_admission  |\n",
       "| 111197 | admission      | 0 | 0 | admission      |\n",
       "| 111197 | post_admission | 0 | 0 | post_admission |\n",
       "| 111197 | pre_admission  | 0 | 0 | pre_admission  |\n",
       "| 118634 | admission      | 2 | 2 | admission      |\n",
       "| 118634 | post_admission | 0 | 0 | post_admission |\n",
       "| 118634 | pre_admission  | 1 | 1 | pre_admission  |\n",
       "| 144752 | admission      | 1 | 1 | admission      |\n",
       "| 144752 | post_admission | 0 | 0 | post_admission |\n",
       "| 144752 | pre_admission  | 1 | 1 | pre_admission  |\n",
       "| 158375 | admission      | 0 | 0 | admission      |\n",
       "| 158375 | post_admission | 0 | 0 | post_admission |\n",
       "| 158375 | pre_admission  | 0 | 0 | pre_admission  |\n",
       "| 186499 | admission      | 0 | 0 | admission      |\n",
       "| 186499 | post_admission | 0 | 0 | post_admission |\n",
       "| 186499 | pre_admission  | 0 | 0 | pre_admission  |\n",
       "| 207865 | admission      | 1 | 1 | admission      |\n",
       "| 207865 | post_admission | 1 | 1 | post_admission |\n",
       "| 207865 | pre_admission  | 1 | 1 | pre_admission  |\n",
       "| 233073 | admission      | 0 | 0 | admission      |\n",
       "| 233073 | post_admission | 1 | 1 | post_admission |\n",
       "| 233073 | pre_admission  | 1 | 1 | pre_admission  |\n",
       "| 247662 | admission      | 0 | 0 | admission      |\n",
       "| 247662 | post_admission | 0 | 0 | post_admission |\n",
       "| 247662 | pre_admission  | 0 | 0 | pre_admission  |\n",
       "| ⋮ | ⋮ | ⋮ | ⋮ | ⋮ |\n",
       "| 13749902 | admission      | 0 | 0 | admission      |\n",
       "| 13749902 | post_admission | 0 | 0 | post_admission |\n",
       "| 13749902 | pre_admission  | 1 | 1 | pre_admission  |\n",
       "| 13751531 | admission      | 0 | 0 | admission      |\n",
       "| 13751531 | post_admission | 0 | 0 | post_admission |\n",
       "| 13751531 | pre_admission  | 3 | 3 | pre_admission  |\n",
       "| 13751566 | admission      | 0 | 0 | admission      |\n",
       "| 13751566 | post_admission | 0 | 0 | post_admission |\n",
       "| 13751566 | pre_admission  | 0 | 0 | pre_admission  |\n",
       "| 13752194 | admission      | 0 | 0 | admission      |\n",
       "| 13752194 | post_admission | 0 | 0 | post_admission |\n",
       "| 13752194 | pre_admission  | 1 | 1 | pre_admission  |\n",
       "| 13753818 | admission      | 0 | 0 | admission      |\n",
       "| 13753818 | post_admission | 0 | 0 | post_admission |\n",
       "| 13753818 | pre_admission  | 1 | 1 | pre_admission  |\n",
       "| 13754222 | admission      | 0 | 0 | admission      |\n",
       "| 13754222 | post_admission | 0 | 0 | post_admission |\n",
       "| 13754222 | pre_admission  | 0 | 0 | pre_admission  |\n",
       "| 13757645 | admission      | 1 | 1 | admission      |\n",
       "| 13757645 | post_admission | 1 | 1 | post_admission |\n",
       "| 13757645 | pre_admission  | 1 | 1 | pre_admission  |\n",
       "| 13759086 | admission      | 0 | 0 | admission      |\n",
       "| 13759086 | post_admission | 1 | 1 | post_admission |\n",
       "| 13759086 | pre_admission  | 0 | 0 | pre_admission  |\n",
       "| 13761135 | admission      | 1 | 1 | admission      |\n",
       "| 13761135 | post_admission | 1 | 1 | post_admission |\n",
       "| 13761135 | pre_admission  | 2 | 2 | pre_admission  |\n",
       "| 13762654 | admission      | 0 | 0 | admission      |\n",
       "| 13762654 | post_admission | 0 | 0 | post_admission |\n",
       "| 13762654 | pre_admission  | 1 | 1 | pre_admission  |\n",
       "\n"
      ],
      "text/plain": [
       "     person_id time_factor    number_antihypertensive\n",
       "1      1271    admission      1                      \n",
       "2      1271    post_admission 1                      \n",
       "3      1271    pre_admission  1                      \n",
       "4      5275    admission      0                      \n",
       "5      5275    post_admission 0                      \n",
       "6      5275    pre_admission  0                      \n",
       "7    111197    admission      0                      \n",
       "8    111197    post_admission 0                      \n",
       "9    111197    pre_admission  0                      \n",
       "10   118634    admission      2                      \n",
       "11   118634    post_admission 0                      \n",
       "12   118634    pre_admission  1                      \n",
       "13   144752    admission      1                      \n",
       "14   144752    post_admission 0                      \n",
       "15   144752    pre_admission  1                      \n",
       "16   158375    admission      0                      \n",
       "17   158375    post_admission 0                      \n",
       "18   158375    pre_admission  0                      \n",
       "19   186499    admission      0                      \n",
       "20   186499    post_admission 0                      \n",
       "21   186499    pre_admission  0                      \n",
       "22   207865    admission      1                      \n",
       "23   207865    post_admission 1                      \n",
       "24   207865    pre_admission  1                      \n",
       "25   233073    admission      0                      \n",
       "26   233073    post_admission 1                      \n",
       "27   233073    pre_admission  1                      \n",
       "28   247662    admission      0                      \n",
       "29   247662    post_admission 0                      \n",
       "30   247662    pre_admission  0                      \n",
       "⋮    ⋮         ⋮              ⋮                      \n",
       "4423 13749902  admission      0                      \n",
       "4424 13749902  post_admission 0                      \n",
       "4425 13749902  pre_admission  1                      \n",
       "4426 13751531  admission      0                      \n",
       "4427 13751531  post_admission 0                      \n",
       "4428 13751531  pre_admission  3                      \n",
       "4429 13751566  admission      0                      \n",
       "4430 13751566  post_admission 0                      \n",
       "4431 13751566  pre_admission  0                      \n",
       "4432 13752194  admission      0                      \n",
       "4433 13752194  post_admission 0                      \n",
       "4434 13752194  pre_admission  1                      \n",
       "4435 13753818  admission      0                      \n",
       "4436 13753818  post_admission 0                      \n",
       "4437 13753818  pre_admission  1                      \n",
       "4438 13754222  admission      0                      \n",
       "4439 13754222  post_admission 0                      \n",
       "4440 13754222  pre_admission  0                      \n",
       "4441 13757645  admission      1                      \n",
       "4442 13757645  post_admission 1                      \n",
       "4443 13757645  pre_admission  1                      \n",
       "4444 13759086  admission      0                      \n",
       "4445 13759086  post_admission 1                      \n",
       "4446 13759086  pre_admission  0                      \n",
       "4447 13761135  admission      1                      \n",
       "4448 13761135  post_admission 1                      \n",
       "4449 13761135  pre_admission  2                      \n",
       "4450 13762654  admission      0                      \n",
       "4451 13762654  post_admission 0                      \n",
       "4452 13762654  pre_admission  1                      \n",
       "     number_antihypertensive.factor time.factor   \n",
       "1    1                              admission     \n",
       "2    1                              post_admission\n",
       "3    1                              pre_admission \n",
       "4    0                              admission     \n",
       "5    0                              post_admission\n",
       "6    0                              pre_admission \n",
       "7    0                              admission     \n",
       "8    0                              post_admission\n",
       "9    0                              pre_admission \n",
       "10   2                              admission     \n",
       "11   0                              post_admission\n",
       "12   1                              pre_admission \n",
       "13   1                              admission     \n",
       "14   0                              post_admission\n",
       "15   1                              pre_admission \n",
       "16   0                              admission     \n",
       "17   0                              post_admission\n",
       "18   0                              pre_admission \n",
       "19   0                              admission     \n",
       "20   0                              post_admission\n",
       "21   0                              pre_admission \n",
       "22   1                              admission     \n",
       "23   1                              post_admission\n",
       "24   1                              pre_admission \n",
       "25   0                              admission     \n",
       "26   1                              post_admission\n",
       "27   1                              pre_admission \n",
       "28   0                              admission     \n",
       "29   0                              post_admission\n",
       "30   0                              pre_admission \n",
       "⋮    ⋮                              ⋮             \n",
       "4423 0                              admission     \n",
       "4424 0                              post_admission\n",
       "4425 1                              pre_admission \n",
       "4426 0                              admission     \n",
       "4427 0                              post_admission\n",
       "4428 3                              pre_admission \n",
       "4429 0                              admission     \n",
       "4430 0                              post_admission\n",
       "4431 0                              pre_admission \n",
       "4432 0                              admission     \n",
       "4433 0                              post_admission\n",
       "4434 1                              pre_admission \n",
       "4435 0                              admission     \n",
       "4436 0                              post_admission\n",
       "4437 1                              pre_admission \n",
       "4438 0                              admission     \n",
       "4439 0                              post_admission\n",
       "4440 0                              pre_admission \n",
       "4441 1                              admission     \n",
       "4442 1                              post_admission\n",
       "4443 1                              pre_admission \n",
       "4444 0                              admission     \n",
       "4445 1                              post_admission\n",
       "4446 0                              pre_admission \n",
       "4447 1                              admission     \n",
       "4448 1                              post_admission\n",
       "4449 2                              pre_admission \n",
       "4450 0                              admission     \n",
       "4451 0                              post_admission\n",
       "4452 1                              pre_admission "
      ]
     },
     "metadata": {},
     "output_type": "display_data"
    }
   ],
   "source": [
    " tbl_antihtn <- tbl_antihtn %>% \n",
    "  mutate(time.factor = time.factor %>% \n",
    "           fct_relevel(\"pre_admission\"))\n",
    "\n",
    "tbl_antihtn"
   ]
  },
  {
   "cell_type": "code",
   "execution_count": 130,
   "id": "6f03aafb-e325-486b-90d0-c13757ae8e4f",
   "metadata": {
    "tags": []
   },
   "outputs": [
    {
     "data": {
      "text/html": [
       "<table class=\"dataframe\">\n",
       "<caption>A data.frame.ff: 5 × 5</caption>\n",
       "<thead>\n",
       "\t<tr><th scope=col>label</th><th scope=col>levels</th><th scope=col>pre_admission</th><th scope=col>admission</th><th scope=col>post_admission</th></tr>\n",
       "\t<tr><th scope=col>&lt;chr&gt;</th><th scope=col>&lt;chr&gt;</th><th scope=col>&lt;chr&gt;</th><th scope=col>&lt;chr&gt;</th><th scope=col>&lt;chr&gt;</th></tr>\n",
       "</thead>\n",
       "<tbody>\n",
       "\t<tr><td>number_antihypertensive.factor</td><td>0 </td><td>830 (55.9)</td><td>981 (66.1)</td><td>1008 (67.9)</td></tr>\n",
       "\t<tr><td>                              </td><td>1 </td><td>432 (29.1)</td><td>373 (25.1)</td><td>384 (25.9) </td></tr>\n",
       "\t<tr><td>                              </td><td>2 </td><td>177 (11.9)</td><td>110 (7.4) </td><td>74 (5.0)   </td></tr>\n",
       "\t<tr><td>                              </td><td>3 </td><td>43 (2.9)  </td><td>18 (1.2)  </td><td>17 (1.1)   </td></tr>\n",
       "\t<tr><td>                              </td><td>4+</td><td>2 (0.1)   </td><td>2 (0.1)   </td><td>1 (0.1)    </td></tr>\n",
       "</tbody>\n",
       "</table>\n"
      ],
      "text/latex": [
       "A data.frame.ff: 5 × 5\n",
       "\\begin{tabular}{lllll}\n",
       " label & levels & pre\\_admission & admission & post\\_admission\\\\\n",
       " <chr> & <chr> & <chr> & <chr> & <chr>\\\\\n",
       "\\hline\n",
       "\t number\\_antihypertensive.factor & 0  & 830 (55.9) & 981 (66.1) & 1008 (67.9)\\\\\n",
       "\t                                & 1  & 432 (29.1) & 373 (25.1) & 384 (25.9) \\\\\n",
       "\t                                & 2  & 177 (11.9) & 110 (7.4)  & 74 (5.0)   \\\\\n",
       "\t                                & 3  & 43 (2.9)   & 18 (1.2)   & 17 (1.1)   \\\\\n",
       "\t                                & 4+ & 2 (0.1)    & 2 (0.1)    & 1 (0.1)    \\\\\n",
       "\\end{tabular}\n"
      ],
      "text/markdown": [
       "\n",
       "A data.frame.ff: 5 × 5\n",
       "\n",
       "| label &lt;chr&gt; | levels &lt;chr&gt; | pre_admission &lt;chr&gt; | admission &lt;chr&gt; | post_admission &lt;chr&gt; |\n",
       "|---|---|---|---|---|\n",
       "| number_antihypertensive.factor | 0  | 830 (55.9) | 981 (66.1) | 1008 (67.9) |\n",
       "| <!----> | 1  | 432 (29.1) | 373 (25.1) | 384 (25.9)  |\n",
       "| <!----> | 2  | 177 (11.9) | 110 (7.4)  | 74 (5.0)    |\n",
       "| <!----> | 3  | 43 (2.9)   | 18 (1.2)   | 17 (1.1)    |\n",
       "| <!----> | 4+ | 2 (0.1)    | 2 (0.1)    | 1 (0.1)     |\n",
       "\n"
      ],
      "text/plain": [
       "  label                          levels pre_admission admission  post_admission\n",
       "1 number_antihypertensive.factor 0      830 (55.9)    981 (66.1) 1008 (67.9)   \n",
       "2                                1      432 (29.1)    373 (25.1) 384 (25.9)    \n",
       "3                                2      177 (11.9)    110 (7.4)  74 (5.0)      \n",
       "4                                3      43 (2.9)      18 (1.2)   17 (1.1)      \n",
       "5                                4+     2 (0.1)       2 (0.1)    1 (0.1)       "
      ]
     },
     "metadata": {},
     "output_type": "display_data"
    }
   ],
   "source": [
    "deprescribing_tibble <- tbl_antihtn %>% \n",
    "summary_factorlist(dependent   =\"time.factor\", \n",
    "                     explanatory = c(\"number_antihypertensive.factor\"))\n",
    "\n",
    "deprescribing_tibble"
   ]
  },
  {
   "cell_type": "code",
   "execution_count": null,
   "id": "2937da79-658c-4f43-9c14-4d887e49bb37",
   "metadata": {},
   "outputs": [],
   "source": [
    "#we will do the same anaylsis as above but remove thos we with co-indications for a beta-blocker, inlcuidng CHD, heaert failure, and atrial fibrillation. \n",
    "bp_data \n",
    "tbl_antihtn %>%  filter(person_id == "
   ]
  },
  {
   "cell_type": "code",
   "execution_count": 137,
   "id": "98582497-af0d-40d1-ad51-ba9b0ffd0332",
   "metadata": {
    "tags": []
   },
   "outputs": [
    {
     "data": {
      "image/png": "[encoded data removed]",
      "text/plain": [
       "plot without title"
      ]
     },
     "metadata": {
      "image/png": {
       "height": 420,
       "width": 420
      }
     },
     "output_type": "display_data"
    }
   ],
   "source": [
    "tbl_antihtn %>%  ggplot(aes(x= number_antihypertensive.factor)) + geom_bar(aes(fill=time.factor),position = \"dodge\")+ labs(x=\"Number of antihypertensives prescribed\",title=\"Changes in antihypertensive prescriptions during care home admission\")\n",
    "\n",
    "ggsave(\"antihypertensives_cluster.png\", width = 10, height = 10)"
   ]
  },
  {
   "cell_type": "code",
   "execution_count": 114,
   "id": "18a049b9-6eca-4dd9-aa40-7d5a0c573347",
   "metadata": {
    "tags": []
   },
   "outputs": [
    {
     "ename": "ERROR",
     "evalue": "\u001b[1m\u001b[33mError\u001b[39m in `group_by()`:\u001b[22m\n\u001b[1m\u001b[22m\u001b[33m!\u001b[39m Must group by variables found in `.data`.\n\u001b[31m✖\u001b[39m Column `time.factor` is not found.\n",
     "output_type": "error",
     "traceback": [
      "\u001b[1m\u001b[33mError\u001b[39m in `group_by()`:\u001b[22m\n\u001b[1m\u001b[22m\u001b[33m!\u001b[39m Must group by variables found in `.data`.\n\u001b[31m✖\u001b[39m Column `time.factor` is not found.\nTraceback:\n",
      "1. tbl_med_long %>% group_by(person_id, time.factor) %>% summarise(antihypertensive.factor)",
      "2. summarise(., antihypertensive.factor)",
      "3. group_by(., person_id, time.factor)",
      "4. group_by.data.frame(., person_id, time.factor)",
      "5. group_by_prepare(.data, ..., .add = .add, error_call = current_env())",
      "6. abort(bullets, call = error_call)",
      "7. signal_abort(cnd, .file)"
     ]
    }
   ],
   "source": [
    "#tbl_med_long_filtered <- tbl_med_long  %>%   group_by(person_id,time.factor)%>% summarise(antihypertensive.factor)"
   ]
  },
  {
   "cell_type": "code",
   "execution_count": null,
   "id": "692ba70b-4598-4363-aac3-fceb70b01db7",
   "metadata": {},
   "outputs": [],
   "source": [
    "#this part will examine type of antihypertensives at the point of admission"
   ]
  },
  {
   "cell_type": "markdown",
   "id": "b2ca560c-effb-4bc9-a4d0-56a6ca480b04",
   "metadata": {},
   "source": [
    "## Blood pressure measurements"
   ]
  },
  {
   "cell_type": "code",
   "execution_count": null,
   "id": "3985f543-b8c4-4c53-8ec5-e95289013591",
   "metadata": {},
   "outputs": [],
   "source": [
    "# join the number of medications at admission to the master cohort dataframe in order to calculate number of people with BP measurements after admission by number of medication "
   ]
  },
  {
   "cell_type": "code",
   "execution_count": 133,
   "id": "659feabd-29d5-4cea-994c-5d3c187689fb",
   "metadata": {
    "tags": []
   },
   "outputs": [],
   "source": [
    "no_medication <- tbl_antihtn %>% filter(time.factor == 'admission')"
   ]
  },
  {
   "cell_type": "code",
   "execution_count": 134,
   "id": "65e6620e-1410-4c2f-826f-6711719c4646",
   "metadata": {
    "tags": []
   },
   "outputs": [
    {
     "name": "stdout",
     "output_type": "stream",
     "text": [
      "tibble [1,484 × 40] (S3: tbl_df/tbl/data.frame)\n",
      " $ mortality                     : num [1:1484] 256 477 312 583 250 ...\n",
      " $ birth_date                    : Date[1:1484], format: \"1919-09-15\" \"1919-11-15\" ...\n",
      " $ episodestopdate               : Date[1:1484], format: \"2020-06-19\" \"2020-08-16\" ...\n",
      " $ first_episodestartdate        : POSIXct[1:1484], format: \"2019-10-03\" \"2019-04-26\" ...\n",
      " $ episodestartdate              : Date[1:1484], format: \"2019-10-03\" \"2019-04-26\" ...\n",
      " $ gender_source_value           : chr [1:1484] \"F\" \"F\" \"F\" \"F\" ...\n",
      " $ person_id                     : int [1:1484] 12394740 13440897 12985296 12613766 12690818 12494008 1236147 12840706 13109680 13009217 ...\n",
      " $ admission_length              : int [1:1484] 260 478 324 578 261 1043 414 547 534 852 ...\n",
      " $ finalisedPSR                  : chr [1:1484] \"Physical Support - Personal Care Support\" \"Physical Support - Personal Care Support\" \"Physical Support - Personal Care Support\" \"Physical Support - Personal Care Support\" ...\n",
      " $ last_episodestopdate          : POSIXct[1:1484], format: \"2020-06-19\" \"2020-08-16\" ...\n",
      " $ date_of_admission             : Date[1:1484], format: \"2019-10-03\" \"2019-04-26\" ...\n",
      " $ age_admission                 : int [1:1484] 100 100 99 99 99 98 98 98 98 98 ...\n",
      " $ imd                           : chr [1:1484] \"6\" \"1\" \"8\" \"10\" ...\n",
      " $ systolic_value                : chr [1:1484] \"164\" \"100\" \"110\" \"131\" ...\n",
      "  ..- attr(*, \"bq_type\")= chr \"BIGNUMERIC\"\n",
      " $ ckd_diagnosis                 : chr [1:1484] \"yes\" NA \"yes\" \"yes\" ...\n",
      " $ no_medication                 : int [1:1484] 9 13 12 8 NA 4 10 11 NA 1 ...\n",
      " $ hypertension.factor           : Factor w/ 2 levels \"FALSE\",\"TRUE\": 2 2 2 2 2 2 2 2 2 2 ...\n",
      " $ service.factor                : Factor w/ 2 levels \"Nursing\",\"Residential\": 1 1 1 1 1 1 1 1 1 1 ...\n",
      " $ body_mass_index               : num [1:1484] 17.5 32.6 32.2 24.4 NA ...\n",
      " $ chronic_kidney_disease        : Factor w/ 2 levels \"yes\",\"no\": 1 2 1 1 2 2 2 2 2 1 ...\n",
      " $ ethnicity.factor              : Factor w/ 17 levels \"Asian or Asian British: any other Asian background - England and Wales ethnic category 2011 census\",..: 15 15 15 14 14 15 15 15 14 15 ...\n",
      " $ ethnicity.final               : Factor w/ 15 levels \"Asian or Asian British: any other Asian background - England and Wales ethnic category 2011 census\",..: 15 15 15 14 14 15 15 15 14 15 ...\n",
      " $ death_date                    : Date[1:1484], format: \"2020-06-15\" \"2020-08-15\" ...\n",
      " $ previous_stroke               : Factor w/ 2 levels \"no\",\"yes\": 1 1 1 1 1 1 1 1 1 1 ...\n",
      " $ gender                        : Factor w/ 3 levels \"F\",\"M\",\"missing\": 1 1 1 1 1 1 1 1 1 1 ...\n",
      " $ imd.factor                    : Factor w/ 11 levels \"1\",\"10\",\"2\",\"3\",..: 7 1 9 2 3 1 10 7 7 1 ...\n",
      " $ imd.quintile                  : Factor w/ 6 levels \"1\",\"2\",\"3\",\"4\",..: 3 1 4 5 1 1 5 3 3 1 ...\n",
      " $ diabetes.factor               : Factor w/ 2 levels \"no\",\"yes\": 1 2 1 1 1 1 1 1 1 2 ...\n",
      " $ af.factor                     : Factor w/ 2 levels \"no\",\"yes\": 1 1 1 2 1 1 2 1 1 1 ...\n",
      " $ hf.factor                     : Factor w/ 2 levels \"yes\",\"no\": 2 2 1 2 2 2 2 2 2 2 ...\n",
      " $ smoking.factor                : Factor w/ 4 levels \"current smoker\",..: 3 2 3 3 3 3 3 3 3 1 ...\n",
      " $ chd.factor                    : Factor w/ 2 levels \"yes\",\"no\": 2 1 2 2 2 2 2 2 2 2 ...\n",
      " $ bp_present                    : chr [1:1484] \"yes\" \"yes\" \"yes\" \"yes\" ...\n",
      " $ bp_present.factor             : Factor w/ 2 levels \"missing\",\"yes\": 2 2 2 2 1 2 2 2 2 2 ...\n",
      " $ bp_target                     : chr [1:1484] \"above\" \"below\" \"below\" \"below\" ...\n",
      " $ mortality_month               : num [1:1484] 8 16 10 19 8 34 14 18 17 28 ...\n",
      " $ time_factor                   : chr [1:1484] \"admission\" \"admission\" \"admission\" \"admission\" ...\n",
      " $ number_antihypertensive       : num [1:1484] 0 1 0 0 0 0 1 0 0 0 ...\n",
      " $ number_antihypertensive.factor: Factor w/ 5 levels \"0\",\"1\",\"2\",\"3\",..: 1 2 1 1 1 1 2 1 1 1 ...\n",
      " $ time.factor                   : Factor w/ 3 levels \"pre_admission\",..: 2 2 2 2 2 2 2 2 2 2 ...\n"
     ]
    }
   ],
   "source": [
    "master_tibble<-bp_data_filtered %>% inner_join(no_medication, by=\"person_id\")\n",
    "str(master_tibble)"
   ]
  },
  {
   "cell_type": "code",
   "execution_count": 135,
   "id": "89c9d015-80b5-4346-ba8b-a06503926748",
   "metadata": {
    "tags": []
   },
   "outputs": [
    {
     "data": {
      "image/png": "[encoded data removed]",
      "text/plain": [
       "plot without title"
      ]
     },
     "metadata": {
      "image/png": {
       "height": 420,
       "width": 420
      }
     },
     "output_type": "display_data"
    }
   ],
   "source": [
    "master_tibble %>% ggplot(aes(x=number_antihypertensive.factor,fill=bp_present))+geom_bar(position=\"fill\")+labs(x=\"numer of antihypertensives\",y=\"proportion with bp present\")"
   ]
  },
  {
   "cell_type": "code",
   "execution_count": 136,
   "id": "74db5c94-ebce-415b-9879-7fcff866dafa",
   "metadata": {
    "tags": []
   },
   "outputs": [
    {
     "data": {
      "image/png": "[encoded data removed]",
      "text/plain": [
       "plot without title"
      ]
     },
     "metadata": {
      "image/png": {
       "height": 420,
       "width": 420
      }
     },
     "output_type": "display_data"
    }
   ],
   "source": [
    "master_tibble %>% ggplot(aes(x=number_antihypertensive.factor,fill=bp_target))+geom_bar(position=\"fill\")+labs(x=\"number of antihypertensives\",y=\"proportion with bp present\")"
   ]
  },
  {
   "cell_type": "code",
   "execution_count": null,
   "id": "3bec1a26-1a7f-4223-b8e9-537f1ef694cd",
   "metadata": {
    "tags": []
   },
   "outputs": [],
   "source": [
    "master_tibble %>% ggplot(aes(x=efi2.factor,fill=bp_target))+geom_bar(position=\"fill\")+labs(y=\"proportion with bp present\")"
   ]
  }
 ],
 "metadata": {
  "environment": {
   "kernel": "mk_env",
   "name": "workbench-notebooks.m123",
   "type": "gcloud",
   "uri": "us-docker.pkg.dev/deeplearning-platform-release/gcr.io/workbench-notebooks:m123"
  },
  "kernelspec": {
   "display_name": "mk_env",
   "language": "R",
   "name": "mk_env"
  },
  "language_info": {
   "codemirror_mode": "r",
   "file_extension": ".r",
   "mimetype": "text/x-r-source",
   "name": "R",
   "pygments_lexer": "r",
   "version": "4.4.1"
  }
 },
 "nbformat": 4,
 "nbformat_minor": 5
}
